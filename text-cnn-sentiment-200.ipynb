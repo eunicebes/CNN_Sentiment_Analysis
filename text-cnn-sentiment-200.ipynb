{
 "cells": [
  {
   "cell_type": "code",
   "execution_count": 1,
   "metadata": {
    "collapsed": true
   },
   "outputs": [],
   "source": [
    "import numpy as np\n",
    "import os\n",
    "import tensorflow as tf\n",
    "from IPython.display import clear_output, Image, display, HTML\n",
    "from tensorflow.contrib.layers import variance_scaling_initializer\n",
    "from tensorflow.contrib.layers import fully_connected\n",
    "from tensorflow.contrib.data import Dataset, Iterator\n",
    "from sklearn.metrics import f1_score, classification_report\n",
    "import datetime\n",
    "\n",
    "###### Do not modify here ###### \n",
    "def strip_consts(graph_def, max_const_size=32):\n",
    "    \"\"\"Strip large constant values from graph_def.\"\"\"\n",
    "    strip_def = tf.GraphDef()\n",
    "    for n0 in graph_def.node:\n",
    "        n = strip_def.node.add() \n",
    "        n.MergeFrom(n0)\n",
    "        if n.op == 'Const':\n",
    "            tensor = n.attr['value'].tensor\n",
    "            size = len(tensor.tensor_content)\n",
    "            if size > max_const_size:\n",
    "                tensor.tensor_content = \"<stripped %d bytes>\"%size\n",
    "    return strip_def\n",
    "\n",
    "def show_graph(graph_def, max_const_size=32):\n",
    "    \"\"\"Visualize TensorFlow graph.\"\"\"\n",
    "    if hasattr(graph_def, 'as_graph_def'):\n",
    "        graph_def = graph_def.as_graph_def()\n",
    "    strip_def = graph_def\n",
    "    #strip_def = strip_consts(graph_def, max_const_size=max_const_size)\n",
    "    code = \"\"\"\n",
    "        <script>\n",
    "          function load() {{\n",
    "            document.getElementById(\"{id}\").pbtxt = {data};\n",
    "          }}\n",
    "        </script>\n",
    "        <link rel=\"import\" href=\"https://tensorboard.appspot.com/tf-graph-basic.build.html\" onload=load()>\n",
    "        <div style=\"height:600px\">\n",
    "          <tf-graph-basic id=\"{id}\"></tf-graph-basic>\n",
    "        </div>\n",
    "    \"\"\".format(data=repr(str(strip_def)), id='graph'+str(np.random.rand()))\n",
    "\n",
    "    iframe = \"\"\"\n",
    "        <iframe seamless style=\"width:1200px;height:620px;border:0\" srcdoc=\"{}\"></iframe>\n",
    "    \"\"\".format(code.replace('\"', '&quot;'))\n",
    "    display(HTML(iframe))\n",
    "###### Do not modify  here ######\n",
    "\n",
    "###### Do not modify here ###### \n",
    "\n",
    "# to make this notebook's output stable across runs\n",
    "def reset_graph(seed=42):\n",
    "    tf.reset_default_graph()\n",
    "    tf.set_random_seed(seed)\n",
    "    np.random.seed(seed)\n",
    "\n"
   ]
  },
  {
   "cell_type": "markdown",
   "metadata": {
    "collapsed": true
   },
   "source": [
    "## Data Preparing"
   ]
  },
  {
   "cell_type": "code",
   "execution_count": 2,
   "metadata": {},
   "outputs": [
    {
     "data": {
      "text/html": [
       "<div>\n",
       "<style>\n",
       "    .dataframe thead tr:only-child th {\n",
       "        text-align: right;\n",
       "    }\n",
       "\n",
       "    .dataframe thead th {\n",
       "        text-align: left;\n",
       "    }\n",
       "\n",
       "    .dataframe tbody tr th {\n",
       "        vertical-align: top;\n",
       "    }\n",
       "</style>\n",
       "<table border=\"1\" class=\"dataframe\">\n",
       "  <thead>\n",
       "    <tr style=\"text-align: right;\">\n",
       "      <th></th>\n",
       "      <th>id</th>\n",
       "      <th>lang</th>\n",
       "      <th>polarity</th>\n",
       "      <th>tweet</th>\n",
       "    </tr>\n",
       "  </thead>\n",
       "  <tbody>\n",
       "    <tr>\n",
       "      <th>0</th>\n",
       "      <td>264183816548130816</td>\n",
       "      <td>en</td>\n",
       "      <td>positive</td>\n",
       "      <td>Gas by my house hit $3.39!!!! I'm going to Cha...</td>\n",
       "    </tr>\n",
       "    <tr>\n",
       "      <th>1</th>\n",
       "      <td>263405084770172928</td>\n",
       "      <td>en</td>\n",
       "      <td>negative</td>\n",
       "      <td>Theo Walcott is still shit, watch Rafa and Joh...</td>\n",
       "    </tr>\n",
       "    <tr>\n",
       "      <th>2</th>\n",
       "      <td>262163168678248449</td>\n",
       "      <td>en</td>\n",
       "      <td>negative</td>\n",
       "      <td>its not that I'm a GSP fan, i just hate Nick D...</td>\n",
       "    </tr>\n",
       "    <tr>\n",
       "      <th>3</th>\n",
       "      <td>264249301910310912</td>\n",
       "      <td>en</td>\n",
       "      <td>negative</td>\n",
       "      <td>Iranian general says Israel's Iron Dome can't ...</td>\n",
       "    </tr>\n",
       "    <tr>\n",
       "      <th>4</th>\n",
       "      <td>264105751826538497</td>\n",
       "      <td>en</td>\n",
       "      <td>positive</td>\n",
       "      <td>with J Davlar 11th. Main rivals are team Polan...</td>\n",
       "    </tr>\n",
       "  </tbody>\n",
       "</table>\n",
       "</div>"
      ],
      "text/plain": [
       "                   id lang  polarity  \\\n",
       "0  264183816548130816   en  positive   \n",
       "1  263405084770172928   en  negative   \n",
       "2  262163168678248449   en  negative   \n",
       "3  264249301910310912   en  negative   \n",
       "4  264105751826538497   en  positive   \n",
       "\n",
       "                                               tweet  \n",
       "0  Gas by my house hit $3.39!!!! I'm going to Cha...  \n",
       "1  Theo Walcott is still shit, watch Rafa and Joh...  \n",
       "2  its not that I'm a GSP fan, i just hate Nick D...  \n",
       "3  Iranian general says Israel's Iron Dome can't ...  \n",
       "4  with J Davlar 11th. Main rivals are team Polan...  "
      ]
     },
     "execution_count": 2,
     "metadata": {},
     "output_type": "execute_result"
    }
   ],
   "source": [
    "from nltk.tokenize import TweetTokenizer\n",
    "import pandas as pd\n",
    "\n",
    "tknzr = TweetTokenizer()\n",
    "\n",
    "# Load Training data\n",
    "en_train = pd.read_csv('data/supervised_phase/en_full/en_full.tsv', delimiter='\\t', names=[\"id\", \"lang\", \"polarity\", \"tweet\"])\n",
    "en_train.head()"
   ]
  },
  {
   "cell_type": "code",
   "execution_count": 3,
   "metadata": {},
   "outputs": [
    {
     "data": {
      "text/html": [
       "<div>\n",
       "<style>\n",
       "    .dataframe thead tr:only-child th {\n",
       "        text-align: right;\n",
       "    }\n",
       "\n",
       "    .dataframe thead th {\n",
       "        text-align: left;\n",
       "    }\n",
       "\n",
       "    .dataframe tbody tr th {\n",
       "        vertical-align: top;\n",
       "    }\n",
       "</style>\n",
       "<table border=\"1\" class=\"dataframe\">\n",
       "  <thead>\n",
       "    <tr style=\"text-align: right;\">\n",
       "      <th></th>\n",
       "      <th>id</th>\n",
       "      <th>lang</th>\n",
       "      <th>polarity</th>\n",
       "      <th>tweet</th>\n",
       "    </tr>\n",
       "  </thead>\n",
       "  <tbody>\n",
       "    <tr>\n",
       "      <th>0</th>\n",
       "      <td>11378</td>\n",
       "      <td>en</td>\n",
       "      <td>neutral</td>\n",
       "      <td>Picturehouse's, Pink Floyd's, 'Roger Waters: T...</td>\n",
       "    </tr>\n",
       "    <tr>\n",
       "      <th>1</th>\n",
       "      <td>11379</td>\n",
       "      <td>en</td>\n",
       "      <td>neutral</td>\n",
       "      <td>Order Go Set a Watchman in store or through ou...</td>\n",
       "    </tr>\n",
       "    <tr>\n",
       "      <th>2</th>\n",
       "      <td>11380</td>\n",
       "      <td>en</td>\n",
       "      <td>negative</td>\n",
       "      <td>If these runway renovations at the airport pre...</td>\n",
       "    </tr>\n",
       "    <tr>\n",
       "      <th>3</th>\n",
       "      <td>11381</td>\n",
       "      <td>en</td>\n",
       "      <td>neutral</td>\n",
       "      <td>If you could ask an onstage interview question...</td>\n",
       "    </tr>\n",
       "    <tr>\n",
       "      <th>4</th>\n",
       "      <td>11382</td>\n",
       "      <td>en</td>\n",
       "      <td>positive</td>\n",
       "      <td>A portion of book sales from our Harper Lee/Go...</td>\n",
       "    </tr>\n",
       "  </tbody>\n",
       "</table>\n",
       "</div>"
      ],
      "text/plain": [
       "      id lang  polarity                                              tweet\n",
       "0  11378   en   neutral  Picturehouse's, Pink Floyd's, 'Roger Waters: T...\n",
       "1  11379   en   neutral  Order Go Set a Watchman in store or through ou...\n",
       "2  11380   en  negative  If these runway renovations at the airport pre...\n",
       "3  11381   en   neutral  If you could ask an onstage interview question...\n",
       "4  11382   en  positive  A portion of book sales from our Harper Lee/Go..."
      ]
     },
     "execution_count": 3,
     "metadata": {},
     "output_type": "execute_result"
    }
   ],
   "source": [
    "# Load Testing data\n",
    "en_test = pd.read_csv('data/supervised_phase/en_full/en_test.tsv', delimiter='\\t', names=[\"id\", \"lang\", \"polarity\", \"tweet\"])\n",
    "en_test.head()"
   ]
  },
  {
   "cell_type": "code",
   "execution_count": 4,
   "metadata": {},
   "outputs": [
    {
     "data": {
      "text/plain": [
       "0    Gas by my house hit $3.39!!!! I'm going to Cha...\n",
       "1    Theo Walcott is still shit, watch Rafa and Joh...\n",
       "2    its not that I'm a GSP fan, i just hate Nick D...\n",
       "3    Iranian general says Israel's Iron Dome can't ...\n",
       "4    with J Davlar 11th. Main rivals are team Polan...\n",
       "Name: tweet, dtype: object"
      ]
     },
     "execution_count": 4,
     "metadata": {},
     "output_type": "execute_result"
    }
   ],
   "source": [
    "en_full = pd.concat([en_train['tweet'],en_test['tweet']])\n",
    "en_full.head()"
   ]
  },
  {
   "cell_type": "code",
   "execution_count": 5,
   "metadata": {
    "collapsed": true
   },
   "outputs": [],
   "source": [
    "def word2index(tweet):\n",
    "    \"\"\"\n",
    "    Convert a tweet to a sequence of word index \n",
    "    \"\"\"\n",
    "    return [vocabulary_dict.get(token)[0] for token in tknzr.tokenize(tweet.lower()) if vocabulary_dict.get(token) != None]\n",
    "\n",
    "def polarity2label(polarity):\n",
    "    if polarity =='negative':  return 0\n",
    "    elif polarity =='neutral': return 1\n",
    "    elif polarity =='positive':return 2 "
   ]
  },
  {
   "cell_type": "code",
   "execution_count": 6,
   "metadata": {},
   "outputs": [
    {
     "data": {
      "text/html": [
       "<div>\n",
       "<style>\n",
       "    .dataframe thead tr:only-child th {\n",
       "        text-align: right;\n",
       "    }\n",
       "\n",
       "    .dataframe thead th {\n",
       "        text-align: left;\n",
       "    }\n",
       "\n",
       "    .dataframe tbody tr th {\n",
       "        vertical-align: top;\n",
       "    }\n",
       "</style>\n",
       "<table border=\"1\" class=\"dataframe\">\n",
       "  <thead>\n",
       "    <tr style=\"text-align: right;\">\n",
       "      <th></th>\n",
       "      <th>id</th>\n",
       "      <th>lang</th>\n",
       "      <th>polarity</th>\n",
       "      <th>tweet</th>\n",
       "      <th>label</th>\n",
       "    </tr>\n",
       "  </thead>\n",
       "  <tbody>\n",
       "    <tr>\n",
       "      <th>0</th>\n",
       "      <td>264183816548130816</td>\n",
       "      <td>en</td>\n",
       "      <td>positive</td>\n",
       "      <td>Gas by my house hit $3.39!!!! I'm going to Cha...</td>\n",
       "      <td>2</td>\n",
       "    </tr>\n",
       "    <tr>\n",
       "      <th>1</th>\n",
       "      <td>263405084770172928</td>\n",
       "      <td>en</td>\n",
       "      <td>negative</td>\n",
       "      <td>Theo Walcott is still shit, watch Rafa and Joh...</td>\n",
       "      <td>0</td>\n",
       "    </tr>\n",
       "    <tr>\n",
       "      <th>2</th>\n",
       "      <td>262163168678248449</td>\n",
       "      <td>en</td>\n",
       "      <td>negative</td>\n",
       "      <td>its not that I'm a GSP fan, i just hate Nick D...</td>\n",
       "      <td>0</td>\n",
       "    </tr>\n",
       "    <tr>\n",
       "      <th>3</th>\n",
       "      <td>264249301910310912</td>\n",
       "      <td>en</td>\n",
       "      <td>negative</td>\n",
       "      <td>Iranian general says Israel's Iron Dome can't ...</td>\n",
       "      <td>0</td>\n",
       "    </tr>\n",
       "    <tr>\n",
       "      <th>4</th>\n",
       "      <td>264105751826538497</td>\n",
       "      <td>en</td>\n",
       "      <td>positive</td>\n",
       "      <td>with J Davlar 11th. Main rivals are team Polan...</td>\n",
       "      <td>2</td>\n",
       "    </tr>\n",
       "  </tbody>\n",
       "</table>\n",
       "</div>"
      ],
      "text/plain": [
       "                   id lang  polarity  \\\n",
       "0  264183816548130816   en  positive   \n",
       "1  263405084770172928   en  negative   \n",
       "2  262163168678248449   en  negative   \n",
       "3  264249301910310912   en  negative   \n",
       "4  264105751826538497   en  positive   \n",
       "\n",
       "                                               tweet  label  \n",
       "0  Gas by my house hit $3.39!!!! I'm going to Cha...      2  \n",
       "1  Theo Walcott is still shit, watch Rafa and Joh...      0  \n",
       "2  its not that I'm a GSP fan, i just hate Nick D...      0  \n",
       "3  Iranian general says Israel's Iron Dome can't ...      0  \n",
       "4  with J Davlar 11th. Main rivals are team Polan...      2  "
      ]
     },
     "execution_count": 6,
     "metadata": {},
     "output_type": "execute_result"
    }
   ],
   "source": [
    "# en_full['index_rep'] = en_full['tweet'].map(word2index)\n",
    "en_train['label'] = en_train['polarity'].map(polarity2label)\n",
    "en_train.head()"
   ]
  },
  {
   "cell_type": "code",
   "execution_count": 7,
   "metadata": {},
   "outputs": [
    {
     "data": {
      "text/html": [
       "<div>\n",
       "<style>\n",
       "    .dataframe thead tr:only-child th {\n",
       "        text-align: right;\n",
       "    }\n",
       "\n",
       "    .dataframe thead th {\n",
       "        text-align: left;\n",
       "    }\n",
       "\n",
       "    .dataframe tbody tr th {\n",
       "        vertical-align: top;\n",
       "    }\n",
       "</style>\n",
       "<table border=\"1\" class=\"dataframe\">\n",
       "  <thead>\n",
       "    <tr style=\"text-align: right;\">\n",
       "      <th></th>\n",
       "      <th>id</th>\n",
       "      <th>lang</th>\n",
       "      <th>polarity</th>\n",
       "      <th>tweet</th>\n",
       "      <th>label</th>\n",
       "    </tr>\n",
       "  </thead>\n",
       "  <tbody>\n",
       "    <tr>\n",
       "      <th>0</th>\n",
       "      <td>11378</td>\n",
       "      <td>en</td>\n",
       "      <td>neutral</td>\n",
       "      <td>Picturehouse's, Pink Floyd's, 'Roger Waters: T...</td>\n",
       "      <td>1</td>\n",
       "    </tr>\n",
       "    <tr>\n",
       "      <th>1</th>\n",
       "      <td>11379</td>\n",
       "      <td>en</td>\n",
       "      <td>neutral</td>\n",
       "      <td>Order Go Set a Watchman in store or through ou...</td>\n",
       "      <td>1</td>\n",
       "    </tr>\n",
       "    <tr>\n",
       "      <th>2</th>\n",
       "      <td>11380</td>\n",
       "      <td>en</td>\n",
       "      <td>negative</td>\n",
       "      <td>If these runway renovations at the airport pre...</td>\n",
       "      <td>0</td>\n",
       "    </tr>\n",
       "    <tr>\n",
       "      <th>3</th>\n",
       "      <td>11381</td>\n",
       "      <td>en</td>\n",
       "      <td>neutral</td>\n",
       "      <td>If you could ask an onstage interview question...</td>\n",
       "      <td>1</td>\n",
       "    </tr>\n",
       "    <tr>\n",
       "      <th>4</th>\n",
       "      <td>11382</td>\n",
       "      <td>en</td>\n",
       "      <td>positive</td>\n",
       "      <td>A portion of book sales from our Harper Lee/Go...</td>\n",
       "      <td>2</td>\n",
       "    </tr>\n",
       "  </tbody>\n",
       "</table>\n",
       "</div>"
      ],
      "text/plain": [
       "      id lang  polarity                                              tweet  \\\n",
       "0  11378   en   neutral  Picturehouse's, Pink Floyd's, 'Roger Waters: T...   \n",
       "1  11379   en   neutral  Order Go Set a Watchman in store or through ou...   \n",
       "2  11380   en  negative  If these runway renovations at the airport pre...   \n",
       "3  11381   en   neutral  If you could ask an onstage interview question...   \n",
       "4  11382   en  positive  A portion of book sales from our Harper Lee/Go...   \n",
       "\n",
       "   label  \n",
       "0      1  \n",
       "1      1  \n",
       "2      0  \n",
       "3      1  \n",
       "4      2  "
      ]
     },
     "execution_count": 7,
     "metadata": {},
     "output_type": "execute_result"
    }
   ],
   "source": [
    "en_test['label'] = en_test['polarity'].map(polarity2label)\n",
    "en_test.head()"
   ]
  },
  {
   "cell_type": "code",
   "execution_count": 8,
   "metadata": {
    "collapsed": true
   },
   "outputs": [],
   "source": [
    "from tensorflow.contrib import learn\n",
    "# Build vocabulary\n",
    "max_document_length = max([len(tknzr.tokenize(tweet)) for tweet in  en_full])\n",
    "# max_document_length = 44\n",
    "vocab_processor = learn.preprocessing.VocabularyProcessor(max_document_length).fit(en_full)\n",
    "\n",
    "tweets_train = np.array(list(vocab_processor.transform(en_train['tweet'])))\n",
    "tweets_test  = np.array(list(vocab_processor.transform(en_test['tweet'])))"
   ]
  },
  {
   "cell_type": "code",
   "execution_count": 9,
   "metadata": {},
   "outputs": [
    {
     "name": "stdout",
     "output_type": "stream",
     "text": [
      "(18044, 53)\n",
      "(20632, 53)\n"
     ]
    },
    {
     "data": {
      "text/plain": [
       "array([15, 16, 17, 18, 19, 20, 21, 22, 23, 24, 25, 26, 13, 27,  0,  0,  0,\n",
       "        0,  0,  0,  0,  0,  0,  0,  0,  0,  0,  0,  0,  0,  0,  0,  0,  0,\n",
       "        0,  0,  0,  0,  0,  0,  0,  0,  0,  0,  0,  0,  0,  0,  0,  0,  0,\n",
       "        0,  0])"
      ]
     },
     "execution_count": 9,
     "metadata": {},
     "output_type": "execute_result"
    }
   ],
   "source": [
    "print(tweets_train.shape)\n",
    "print(tweets_test.shape)\n",
    "tweets_train[1]"
   ]
  },
  {
   "cell_type": "markdown",
   "metadata": {},
   "source": [
    "## Prepare Training + Testing Data"
   ]
  },
  {
   "cell_type": "code",
   "execution_count": 10,
   "metadata": {
    "collapsed": true
   },
   "outputs": [],
   "source": [
    "# from sklearn.model_selection import ShuffleSplit\n",
    "# rs = ShuffleSplit(n_splits=1, test_size=.1, random_state=0)\n",
    "\n",
    "senti_train = en_train['label'].as_matrix()\n",
    "senti_test  = en_test['label'].as_matrix()\n",
    "\n",
    "# for train_index, test_index in rs.split(senti):\n",
    "#     X_train = tweets[train_index]\n",
    "#     y_train = senti[train_index]\n",
    "\n",
    "#     X_test = tweets[test_index]\n",
    "#     y_test = senti[test_index]\n",
    "# X_train.shape"
   ]
  },
  {
   "cell_type": "markdown",
   "metadata": {},
   "source": [
    "## Model Construction"
   ]
  },
  {
   "cell_type": "code",
   "execution_count": 11,
   "metadata": {},
   "outputs": [
    {
     "name": "stdout",
     "output_type": "stream",
     "text": [
      "(1859185, 200)\n",
      "1859184\n"
     ]
    }
   ],
   "source": [
    "import pickle\n",
    "\n",
    "# Load pre train Word2vec\n",
    "wb_matrix = np.load(\"data/embed_tweets_en_200M_200D/embedding_matrix.npy\")\n",
    "print(wb_matrix.shape)\n",
    "vocabulary_dict = pickle.load(open(\"data/embed_tweets_en_200M_200D/vocabulary.pickle\", \"rb\"))\n",
    "print(len(vocabulary_dict))"
   ]
  },
  {
   "cell_type": "code",
   "execution_count": 12,
   "metadata": {},
   "outputs": [
    {
     "data": {
      "text/plain": [
       "(134, 2480704)"
      ]
     },
     "execution_count": 12,
     "metadata": {},
     "output_type": "execute_result"
    }
   ],
   "source": [
    "vocabulary_dict.get('am')"
   ]
  },
  {
   "cell_type": "code",
   "execution_count": 13,
   "metadata": {},
   "outputs": [
    {
     "data": {
      "text/plain": [
       "(75465, 200)"
      ]
     },
     "execution_count": 13,
     "metadata": {},
     "output_type": "execute_result"
    }
   ],
   "source": [
    " # initial matrix with random uniform\n",
    "initW = np.random.uniform(-0.25,0.25,(len(vocab_processor.vocabulary_), wb_matrix.shape[1]))\n",
    "# load any vectors from the word2vec\n",
    "for word, vector in vocabulary_dict.items():\n",
    "    idx = vocab_processor.vocabulary_.get(word)\n",
    "    if idx != 0:\n",
    "        initW[idx] = wb_matrix[vector[0]]\n",
    "initW.shape"
   ]
  },
  {
   "cell_type": "code",
   "execution_count": 25,
   "metadata": {
    "collapsed": true
   },
   "outputs": [],
   "source": [
    "n_input = max_document_length\n",
    "n_output = 3\n",
    "learning_rate = 1\n",
    "\n",
    "embedding_size = initW.shape[1]\n",
    "filter_sizes = [4,3]\n",
    "num_filters = 200\n",
    "pooling_size = 4\n",
    "pooling_strides = 2\n",
    "epochs_num = 2000\n",
    "batch_size = 2048"
   ]
  },
  {
   "cell_type": "code",
   "execution_count": 30,
   "metadata": {
    "scrolled": false
   },
   "outputs": [],
   "source": [
    "reset_graph()\n",
    "\n",
    "X = tf.placeholder(tf.int32, shape = (None, n_input), name = \"Input_X\")\n",
    "y = tf.placeholder(tf.int32, shape = (None), name = \"Y\")\n",
    "# mode = tf.placeholder(tf.bool, name = \"Mode\")\n",
    "\n",
    "# Load Embedding Model\n",
    "with tf.device('/cpu:0'), tf.name_scope(\"embedding\"):\n",
    "    word2vec = tf.Variable(tf.constant(0.0, shape = initW.shape),\n",
    "                    trainable=False, name=\"word2vec\") # trainable=False, means not update these embeddings\n",
    "\n",
    "embedded_chars = tf.nn.embedding_lookup(word2vec, X)\n",
    "embedded_chars_expanded = tf.expand_dims(embedded_chars, -1) # ex: convert [[1,2]] to [[1],[2]], that is shape (2,) to (2,1)\n",
    "\n",
    "# 1st convolution layer\n",
    "conv1 = tf.layers.conv2d(embedded_chars_expanded, \n",
    "                         filters = num_filters, \n",
    "                         kernel_size = (filter_sizes[0], initW.shape[1]),\n",
    "                         strides = (1,1), \n",
    "                         kernel_initializer=tf.contrib.layers.variance_scaling_initializer(),\n",
    "                         activation = tf.nn.relu,\n",
    "                         name=\"Convolution_1st\"\n",
    "                        )\n",
    "\n",
    "pool1 = tf.layers.max_pooling2d(inputs=conv1, pool_size=[4, 1], strides=2)\n",
    "\n",
    "# 2nd convolution layer\n",
    "conv2 = tf.layers.conv2d(pool1, \n",
    "                         filters = num_filters, \n",
    "                         kernel_size = (filter_sizes[1], 1),\n",
    "                         strides = (1,1), \n",
    "                         kernel_initializer=tf.contrib.layers.variance_scaling_initializer(),\n",
    "                         activation = tf.nn.relu,\n",
    "                         name=\"Convolution_2nd\"\n",
    "                        )\n",
    "\n",
    "pool2 = tf.layers.max_pooling2d(inputs=conv2, pool_size=[22, 1], strides=1)\n",
    "\n",
    "# Dense Layer, Combine all the pooled features\n",
    "pool2_flat = tf.reshape(pool2, [-1, num_filters])\n",
    "\n",
    "dense = tf.layers.dense(inputs=pool2_flat, units=1024, activation=tf.nn.relu, name = \"Fully_connect\")\n",
    "# dense = tf.layers.dropout(inputs = dense, rate = 0.3, training = mode)\n",
    "\n",
    "# Logits Layer\n",
    "logits = tf.layers.dense(inputs=dense, \n",
    "                         units=n_output, \n",
    "                         activation=tf.nn.softmax, \n",
    "                         kernel_initializer=tf.contrib.layers.variance_scaling_initializer(),\n",
    "                         name = \"Softmax\")\n",
    "\n",
    "# Define Loss Function\n",
    "cross_entropy = tf.reduce_mean(tf.nn.sparse_softmax_cross_entropy_with_logits(labels=y, logits=logits, name=\"Cross_Entropy\"))\n",
    "\n",
    "# Define Training Process\n",
    "train_step = tf.train.AdadeltaOptimizer(learning_rate, epsilon=1e-6).minimize(cross_entropy)\n",
    "\n",
    "# Define Accuracy\n",
    "predicted_class = tf.argmax(logits,1, output_type=tf.int32)\n",
    "correct_predict = tf.equal(y, predicted_class) # [True, False ..., True]\n",
    "accuracy = tf.reduce_mean(tf.cast(correct_predict, tf.float32)) # [True, False ..., True] --> [1,0,...,1]\n"
   ]
  },
  {
   "cell_type": "code",
   "execution_count": 31,
   "metadata": {
    "scrolled": false
   },
   "outputs": [
    {
     "data": {
      "text/html": [
       "\n",
       "        <iframe seamless style=\"width:1200px;height:620px;border:0\" srcdoc=\"\n",
       "        <script>\n",
       "          function load() {\n",
       "            document.getElementById(&quot;graph0.3745401188473625&quot;).pbtxt = 'node {\\n  name: &quot;Input_X&quot;\\n  op: &quot;Placeholder&quot;\\n  attr {\\n    key: &quot;dtype&quot;\\n    value {\\n      type: DT_INT32\\n    }\\n  }\\n  attr {\\n    key: &quot;shape&quot;\\n    value {\\n      shape {\\n        dim {\\n          size: -1\\n        }\\n        dim {\\n          size: 53\\n        }\\n      }\\n    }\\n  }\\n}\\nnode {\\n  name: &quot;Y&quot;\\n  op: &quot;Placeholder&quot;\\n  attr {\\n    key: &quot;dtype&quot;\\n    value {\\n      type: DT_INT32\\n    }\\n  }\\n  attr {\\n    key: &quot;shape&quot;\\n    value {\\n      shape {\\n        unknown_rank: true\\n      }\\n    }\\n  }\\n}\\nnode {\\n  name: &quot;embedding/Const&quot;\\n  op: &quot;Const&quot;\\n  device: &quot;/device:CPU:0&quot;\\n  attr {\\n    key: &quot;dtype&quot;\\n    value {\\n      type: DT_FLOAT\\n    }\\n  }\\n  attr {\\n    key: &quot;value&quot;\\n    value {\\n      tensor {\\n        dtype: DT_FLOAT\\n        tensor_shape {\\n          dim {\\n            size: 75465\\n          }\\n          dim {\\n            size: 200\\n          }\\n        }\\n        float_val: 0.0\\n      }\\n    }\\n  }\\n}\\nnode {\\n  name: &quot;embedding/word2vec&quot;\\n  op: &quot;VariableV2&quot;\\n  device: &quot;/device:CPU:0&quot;\\n  attr {\\n    key: &quot;container&quot;\\n    value {\\n      s: &quot;&quot;\\n    }\\n  }\\n  attr {\\n    key: &quot;dtype&quot;\\n    value {\\n      type: DT_FLOAT\\n    }\\n  }\\n  attr {\\n    key: &quot;shape&quot;\\n    value {\\n      shape {\\n        dim {\\n          size: 75465\\n        }\\n        dim {\\n          size: 200\\n        }\\n      }\\n    }\\n  }\\n  attr {\\n    key: &quot;shared_name&quot;\\n    value {\\n      s: &quot;&quot;\\n    }\\n  }\\n}\\nnode {\\n  name: &quot;embedding/word2vec/Assign&quot;\\n  op: &quot;Assign&quot;\\n  input: &quot;embedding/word2vec&quot;\\n  input: &quot;embedding/Const&quot;\\n  device: &quot;/device:CPU:0&quot;\\n  attr {\\n    key: &quot;T&quot;\\n    value {\\n      type: DT_FLOAT\\n    }\\n  }\\n  attr {\\n    key: &quot;_class&quot;\\n    value {\\n      list {\\n        s: &quot;loc:@embedding/word2vec&quot;\\n      }\\n    }\\n  }\\n  attr {\\n    key: &quot;use_locking&quot;\\n    value {\\n      b: true\\n    }\\n  }\\n  attr {\\n    key: &quot;validate_shape&quot;\\n    value {\\n      b: true\\n    }\\n  }\\n}\\nnode {\\n  name: &quot;embedding/word2vec/read&quot;\\n  op: &quot;Identity&quot;\\n  input: &quot;embedding/word2vec&quot;\\n  device: &quot;/device:CPU:0&quot;\\n  attr {\\n    key: &quot;T&quot;\\n    value {\\n      type: DT_FLOAT\\n    }\\n  }\\n  attr {\\n    key: &quot;_class&quot;\\n    value {\\n      list {\\n        s: &quot;loc:@embedding/word2vec&quot;\\n      }\\n    }\\n  }\\n}\\nnode {\\n  name: &quot;embedding_lookup&quot;\\n  op: &quot;Gather&quot;\\n  input: &quot;embedding/word2vec/read&quot;\\n  input: &quot;Input_X&quot;\\n  device: &quot;/device:CPU:0&quot;\\n  attr {\\n    key: &quot;Tindices&quot;\\n    value {\\n      type: DT_INT32\\n    }\\n  }\\n  attr {\\n    key: &quot;Tparams&quot;\\n    value {\\n      type: DT_FLOAT\\n    }\\n  }\\n  attr {\\n    key: &quot;_class&quot;\\n    value {\\n      list {\\n        s: &quot;loc:@embedding/word2vec&quot;\\n      }\\n    }\\n  }\\n  attr {\\n    key: &quot;validate_indices&quot;\\n    value {\\n      b: true\\n    }\\n  }\\n}\\nnode {\\n  name: &quot;ExpandDims/dim&quot;\\n  op: &quot;Const&quot;\\n  attr {\\n    key: &quot;dtype&quot;\\n    value {\\n      type: DT_INT32\\n    }\\n  }\\n  attr {\\n    key: &quot;value&quot;\\n    value {\\n      tensor {\\n        dtype: DT_INT32\\n        tensor_shape {\\n        }\\n        int_val: -1\\n      }\\n    }\\n  }\\n}\\nnode {\\n  name: &quot;ExpandDims&quot;\\n  op: &quot;ExpandDims&quot;\\n  input: &quot;embedding_lookup&quot;\\n  input: &quot;ExpandDims/dim&quot;\\n  attr {\\n    key: &quot;T&quot;\\n    value {\\n      type: DT_FLOAT\\n    }\\n  }\\n  attr {\\n    key: &quot;Tdim&quot;\\n    value {\\n      type: DT_INT32\\n    }\\n  }\\n}\\nnode {\\n  name: &quot;Convolution_1st/kernel/Initializer/truncated_normal/shape&quot;\\n  op: &quot;Const&quot;\\n  attr {\\n    key: &quot;_class&quot;\\n    value {\\n      list {\\n        s: &quot;loc:@Convolution_1st/kernel&quot;\\n      }\\n    }\\n  }\\n  attr {\\n    key: &quot;dtype&quot;\\n    value {\\n      type: DT_INT32\\n    }\\n  }\\n  attr {\\n    key: &quot;value&quot;\\n    value {\\n      tensor {\\n        dtype: DT_INT32\\n        tensor_shape {\\n          dim {\\n            size: 4\\n          }\\n        }\\n        tensor_content: &quot;\\\\004\\\\000\\\\000\\\\000\\\\310\\\\000\\\\000\\\\000\\\\001\\\\000\\\\000\\\\000\\\\310\\\\000\\\\000\\\\000&quot;\\n      }\\n    }\\n  }\\n}\\nnode {\\n  name: &quot;Convolution_1st/kernel/Initializer/truncated_normal/mean&quot;\\n  op: &quot;Const&quot;\\n  attr {\\n    key: &quot;_class&quot;\\n    value {\\n      list {\\n        s: &quot;loc:@Convolution_1st/kernel&quot;\\n      }\\n    }\\n  }\\n  attr {\\n    key: &quot;dtype&quot;\\n    value {\\n      type: DT_FLOAT\\n    }\\n  }\\n  attr {\\n    key: &quot;value&quot;\\n    value {\\n      tensor {\\n        dtype: DT_FLOAT\\n        tensor_shape {\\n        }\\n        float_val: 0.0\\n      }\\n    }\\n  }\\n}\\nnode {\\n  name: &quot;Convolution_1st/kernel/Initializer/truncated_normal/stddev&quot;\\n  op: &quot;Const&quot;\\n  attr {\\n    key: &quot;_class&quot;\\n    value {\\n      list {\\n        s: &quot;loc:@Convolution_1st/kernel&quot;\\n      }\\n    }\\n  }\\n  attr {\\n    key: &quot;dtype&quot;\\n    value {\\n      type: DT_FLOAT\\n    }\\n  }\\n  attr {\\n    key: &quot;value&quot;\\n    value {\\n      tensor {\\n        dtype: DT_FLOAT\\n        tensor_shape {\\n        }\\n        float_val: 0.0570087730884552\\n      }\\n    }\\n  }\\n}\\nnode {\\n  name: &quot;Convolution_1st/kernel/Initializer/truncated_normal/TruncatedNormal&quot;\\n  op: &quot;TruncatedNormal&quot;\\n  input: &quot;Convolution_1st/kernel/Initializer/truncated_normal/shape&quot;\\n  attr {\\n    key: &quot;T&quot;\\n    value {\\n      type: DT_INT32\\n    }\\n  }\\n  attr {\\n    key: &quot;_class&quot;\\n    value {\\n      list {\\n        s: &quot;loc:@Convolution_1st/kernel&quot;\\n      }\\n    }\\n  }\\n  attr {\\n    key: &quot;dtype&quot;\\n    value {\\n      type: DT_FLOAT\\n    }\\n  }\\n  attr {\\n    key: &quot;seed&quot;\\n    value {\\n      i: 42\\n    }\\n  }\\n  attr {\\n    key: &quot;seed2&quot;\\n    value {\\n      i: 12\\n    }\\n  }\\n}\\nnode {\\n  name: &quot;Convolution_1st/kernel/Initializer/truncated_normal/mul&quot;\\n  op: &quot;Mul&quot;\\n  input: &quot;Convolution_1st/kernel/Initializer/truncated_normal/TruncatedNormal&quot;\\n  input: &quot;Convolution_1st/kernel/Initializer/truncated_normal/stddev&quot;\\n  attr {\\n    key: &quot;T&quot;\\n    value {\\n      type: DT_FLOAT\\n    }\\n  }\\n  attr {\\n    key: &quot;_class&quot;\\n    value {\\n      list {\\n        s: &quot;loc:@Convolution_1st/kernel&quot;\\n      }\\n    }\\n  }\\n}\\nnode {\\n  name: &quot;Convolution_1st/kernel/Initializer/truncated_normal&quot;\\n  op: &quot;Add&quot;\\n  input: &quot;Convolution_1st/kernel/Initializer/truncated_normal/mul&quot;\\n  input: &quot;Convolution_1st/kernel/Initializer/truncated_normal/mean&quot;\\n  attr {\\n    key: &quot;T&quot;\\n    value {\\n      type: DT_FLOAT\\n    }\\n  }\\n  attr {\\n    key: &quot;_class&quot;\\n    value {\\n      list {\\n        s: &quot;loc:@Convolution_1st/kernel&quot;\\n      }\\n    }\\n  }\\n}\\nnode {\\n  name: &quot;Convolution_1st/kernel&quot;\\n  op: &quot;VariableV2&quot;\\n  attr {\\n    key: &quot;_class&quot;\\n    value {\\n      list {\\n        s: &quot;loc:@Convolution_1st/kernel&quot;\\n      }\\n    }\\n  }\\n  attr {\\n    key: &quot;container&quot;\\n    value {\\n      s: &quot;&quot;\\n    }\\n  }\\n  attr {\\n    key: &quot;dtype&quot;\\n    value {\\n      type: DT_FLOAT\\n    }\\n  }\\n  attr {\\n    key: &quot;shape&quot;\\n    value {\\n      shape {\\n        dim {\\n          size: 4\\n        }\\n        dim {\\n          size: 200\\n        }\\n        dim {\\n          size: 1\\n        }\\n        dim {\\n          size: 200\\n        }\\n      }\\n    }\\n  }\\n  attr {\\n    key: &quot;shared_name&quot;\\n    value {\\n      s: &quot;&quot;\\n    }\\n  }\\n}\\nnode {\\n  name: &quot;Convolution_1st/kernel/Assign&quot;\\n  op: &quot;Assign&quot;\\n  input: &quot;Convolution_1st/kernel&quot;\\n  input: &quot;Convolution_1st/kernel/Initializer/truncated_normal&quot;\\n  attr {\\n    key: &quot;T&quot;\\n    value {\\n      type: DT_FLOAT\\n    }\\n  }\\n  attr {\\n    key: &quot;_class&quot;\\n    value {\\n      list {\\n        s: &quot;loc:@Convolution_1st/kernel&quot;\\n      }\\n    }\\n  }\\n  attr {\\n    key: &quot;use_locking&quot;\\n    value {\\n      b: true\\n    }\\n  }\\n  attr {\\n    key: &quot;validate_shape&quot;\\n    value {\\n      b: true\\n    }\\n  }\\n}\\nnode {\\n  name: &quot;Convolution_1st/kernel/read&quot;\\n  op: &quot;Identity&quot;\\n  input: &quot;Convolution_1st/kernel&quot;\\n  attr {\\n    key: &quot;T&quot;\\n    value {\\n      type: DT_FLOAT\\n    }\\n  }\\n  attr {\\n    key: &quot;_class&quot;\\n    value {\\n      list {\\n        s: &quot;loc:@Convolution_1st/kernel&quot;\\n      }\\n    }\\n  }\\n}\\nnode {\\n  name: &quot;Convolution_1st/bias/Initializer/zeros&quot;\\n  op: &quot;Const&quot;\\n  attr {\\n    key: &quot;_class&quot;\\n    value {\\n      list {\\n        s: &quot;loc:@Convolution_1st/bias&quot;\\n      }\\n    }\\n  }\\n  attr {\\n    key: &quot;dtype&quot;\\n    value {\\n      type: DT_FLOAT\\n    }\\n  }\\n  attr {\\n    key: &quot;value&quot;\\n    value {\\n      tensor {\\n        dtype: DT_FLOAT\\n        tensor_shape {\\n          dim {\\n            size: 200\\n          }\\n        }\\n        float_val: 0.0\\n      }\\n    }\\n  }\\n}\\nnode {\\n  name: &quot;Convolution_1st/bias&quot;\\n  op: &quot;VariableV2&quot;\\n  attr {\\n    key: &quot;_class&quot;\\n    value {\\n      list {\\n        s: &quot;loc:@Convolution_1st/bias&quot;\\n      }\\n    }\\n  }\\n  attr {\\n    key: &quot;container&quot;\\n    value {\\n      s: &quot;&quot;\\n    }\\n  }\\n  attr {\\n    key: &quot;dtype&quot;\\n    value {\\n      type: DT_FLOAT\\n    }\\n  }\\n  attr {\\n    key: &quot;shape&quot;\\n    value {\\n      shape {\\n        dim {\\n          size: 200\\n        }\\n      }\\n    }\\n  }\\n  attr {\\n    key: &quot;shared_name&quot;\\n    value {\\n      s: &quot;&quot;\\n    }\\n  }\\n}\\nnode {\\n  name: &quot;Convolution_1st/bias/Assign&quot;\\n  op: &quot;Assign&quot;\\n  input: &quot;Convolution_1st/bias&quot;\\n  input: &quot;Convolution_1st/bias/Initializer/zeros&quot;\\n  attr {\\n    key: &quot;T&quot;\\n    value {\\n      type: DT_FLOAT\\n    }\\n  }\\n  attr {\\n    key: &quot;_class&quot;\\n    value {\\n      list {\\n        s: &quot;loc:@Convolution_1st/bias&quot;\\n      }\\n    }\\n  }\\n  attr {\\n    key: &quot;use_locking&quot;\\n    value {\\n      b: true\\n    }\\n  }\\n  attr {\\n    key: &quot;validate_shape&quot;\\n    value {\\n      b: true\\n    }\\n  }\\n}\\nnode {\\n  name: &quot;Convolution_1st/bias/read&quot;\\n  op: &quot;Identity&quot;\\n  input: &quot;Convolution_1st/bias&quot;\\n  attr {\\n    key: &quot;T&quot;\\n    value {\\n      type: DT_FLOAT\\n    }\\n  }\\n  attr {\\n    key: &quot;_class&quot;\\n    value {\\n      list {\\n        s: &quot;loc:@Convolution_1st/bias&quot;\\n      }\\n    }\\n  }\\n}\\nnode {\\n  name: &quot;Convolution_1st/convolution/Shape&quot;\\n  op: &quot;Const&quot;\\n  attr {\\n    key: &quot;dtype&quot;\\n    value {\\n      type: DT_INT32\\n    }\\n  }\\n  attr {\\n    key: &quot;value&quot;\\n    value {\\n      tensor {\\n        dtype: DT_INT32\\n        tensor_shape {\\n          dim {\\n            size: 4\\n          }\\n        }\\n        tensor_content: &quot;\\\\004\\\\000\\\\000\\\\000\\\\310\\\\000\\\\000\\\\000\\\\001\\\\000\\\\000\\\\000\\\\310\\\\000\\\\000\\\\000&quot;\\n      }\\n    }\\n  }\\n}\\nnode {\\n  name: &quot;Convolution_1st/convolution/dilation_rate&quot;\\n  op: &quot;Const&quot;\\n  attr {\\n    key: &quot;dtype&quot;\\n    value {\\n      type: DT_INT32\\n    }\\n  }\\n  attr {\\n    key: &quot;value&quot;\\n    value {\\n      tensor {\\n        dtype: DT_INT32\\n        tensor_shape {\\n          dim {\\n            size: 2\\n          }\\n        }\\n        tensor_content: &quot;\\\\001\\\\000\\\\000\\\\000\\\\001\\\\000\\\\000\\\\000&quot;\\n      }\\n    }\\n  }\\n}\\nnode {\\n  name: &quot;Convolution_1st/convolution&quot;\\n  op: &quot;Conv2D&quot;\\n  input: &quot;ExpandDims&quot;\\n  input: &quot;Convolution_1st/kernel/read&quot;\\n  attr {\\n    key: &quot;T&quot;\\n    value {\\n      type: DT_FLOAT\\n    }\\n  }\\n  attr {\\n    key: &quot;data_format&quot;\\n    value {\\n      s: &quot;NHWC&quot;\\n    }\\n  }\\n  attr {\\n    key: &quot;padding&quot;\\n    value {\\n      s: &quot;VALID&quot;\\n    }\\n  }\\n  attr {\\n    key: &quot;strides&quot;\\n    value {\\n      list {\\n        i: 1\\n        i: 1\\n        i: 1\\n        i: 1\\n      }\\n    }\\n  }\\n  attr {\\n    key: &quot;use_cudnn_on_gpu&quot;\\n    value {\\n      b: true\\n    }\\n  }\\n}\\nnode {\\n  name: &quot;Convolution_1st/BiasAdd&quot;\\n  op: &quot;BiasAdd&quot;\\n  input: &quot;Convolution_1st/convolution&quot;\\n  input: &quot;Convolution_1st/bias/read&quot;\\n  attr {\\n    key: &quot;T&quot;\\n    value {\\n      type: DT_FLOAT\\n    }\\n  }\\n  attr {\\n    key: &quot;data_format&quot;\\n    value {\\n      s: &quot;NHWC&quot;\\n    }\\n  }\\n}\\nnode {\\n  name: &quot;Convolution_1st/Relu&quot;\\n  op: &quot;Relu&quot;\\n  input: &quot;Convolution_1st/BiasAdd&quot;\\n  attr {\\n    key: &quot;T&quot;\\n    value {\\n      type: DT_FLOAT\\n    }\\n  }\\n}\\nnode {\\n  name: &quot;max_pooling2d/MaxPool&quot;\\n  op: &quot;MaxPool&quot;\\n  input: &quot;Convolution_1st/Relu&quot;\\n  attr {\\n    key: &quot;T&quot;\\n    value {\\n      type: DT_FLOAT\\n    }\\n  }\\n  attr {\\n    key: &quot;data_format&quot;\\n    value {\\n      s: &quot;NHWC&quot;\\n    }\\n  }\\n  attr {\\n    key: &quot;ksize&quot;\\n    value {\\n      list {\\n        i: 1\\n        i: 4\\n        i: 1\\n        i: 1\\n      }\\n    }\\n  }\\n  attr {\\n    key: &quot;padding&quot;\\n    value {\\n      s: &quot;VALID&quot;\\n    }\\n  }\\n  attr {\\n    key: &quot;strides&quot;\\n    value {\\n      list {\\n        i: 1\\n        i: 2\\n        i: 2\\n        i: 1\\n      }\\n    }\\n  }\\n}\\nnode {\\n  name: &quot;Convolution_2nd/kernel/Initializer/truncated_normal/shape&quot;\\n  op: &quot;Const&quot;\\n  attr {\\n    key: &quot;_class&quot;\\n    value {\\n      list {\\n        s: &quot;loc:@Convolution_2nd/kernel&quot;\\n      }\\n    }\\n  }\\n  attr {\\n    key: &quot;dtype&quot;\\n    value {\\n      type: DT_INT32\\n    }\\n  }\\n  attr {\\n    key: &quot;value&quot;\\n    value {\\n      tensor {\\n        dtype: DT_INT32\\n        tensor_shape {\\n          dim {\\n            size: 4\\n          }\\n        }\\n        tensor_content: &quot;\\\\003\\\\000\\\\000\\\\000\\\\001\\\\000\\\\000\\\\000\\\\310\\\\000\\\\000\\\\000\\\\310\\\\000\\\\000\\\\000&quot;\\n      }\\n    }\\n  }\\n}\\nnode {\\n  name: &quot;Convolution_2nd/kernel/Initializer/truncated_normal/mean&quot;\\n  op: &quot;Const&quot;\\n  attr {\\n    key: &quot;_class&quot;\\n    value {\\n      list {\\n        s: &quot;loc:@Convolution_2nd/kernel&quot;\\n      }\\n    }\\n  }\\n  attr {\\n    key: &quot;dtype&quot;\\n    value {\\n      type: DT_FLOAT\\n    }\\n  }\\n  attr {\\n    key: &quot;value&quot;\\n    value {\\n      tensor {\\n        dtype: DT_FLOAT\\n        tensor_shape {\\n        }\\n        float_val: 0.0\\n      }\\n    }\\n  }\\n}\\nnode {\\n  name: &quot;Convolution_2nd/kernel/Initializer/truncated_normal/stddev&quot;\\n  op: &quot;Const&quot;\\n  attr {\\n    key: &quot;_class&quot;\\n    value {\\n      list {\\n        s: &quot;loc:@Convolution_2nd/kernel&quot;\\n      }\\n    }\\n  }\\n  attr {\\n    key: &quot;dtype&quot;\\n    value {\\n      type: DT_FLOAT\\n    }\\n  }\\n  attr {\\n    key: &quot;value&quot;\\n    value {\\n      tensor {\\n        dtype: DT_FLOAT\\n        tensor_shape {\\n        }\\n        float_val: 0.06582805514335632\\n      }\\n    }\\n  }\\n}\\nnode {\\n  name: &quot;Convolution_2nd/kernel/Initializer/truncated_normal/TruncatedNormal&quot;\\n  op: &quot;TruncatedNormal&quot;\\n  input: &quot;Convolution_2nd/kernel/Initializer/truncated_normal/shape&quot;\\n  attr {\\n    key: &quot;T&quot;\\n    value {\\n      type: DT_INT32\\n    }\\n  }\\n  attr {\\n    key: &quot;_class&quot;\\n    value {\\n      list {\\n        s: &quot;loc:@Convolution_2nd/kernel&quot;\\n      }\\n    }\\n  }\\n  attr {\\n    key: &quot;dtype&quot;\\n    value {\\n      type: DT_FLOAT\\n    }\\n  }\\n  attr {\\n    key: &quot;seed&quot;\\n    value {\\n      i: 42\\n    }\\n  }\\n  attr {\\n    key: &quot;seed2&quot;\\n    value {\\n      i: 31\\n    }\\n  }\\n}\\nnode {\\n  name: &quot;Convolution_2nd/kernel/Initializer/truncated_normal/mul&quot;\\n  op: &quot;Mul&quot;\\n  input: &quot;Convolution_2nd/kernel/Initializer/truncated_normal/TruncatedNormal&quot;\\n  input: &quot;Convolution_2nd/kernel/Initializer/truncated_normal/stddev&quot;\\n  attr {\\n    key: &quot;T&quot;\\n    value {\\n      type: DT_FLOAT\\n    }\\n  }\\n  attr {\\n    key: &quot;_class&quot;\\n    value {\\n      list {\\n        s: &quot;loc:@Convolution_2nd/kernel&quot;\\n      }\\n    }\\n  }\\n}\\nnode {\\n  name: &quot;Convolution_2nd/kernel/Initializer/truncated_normal&quot;\\n  op: &quot;Add&quot;\\n  input: &quot;Convolution_2nd/kernel/Initializer/truncated_normal/mul&quot;\\n  input: &quot;Convolution_2nd/kernel/Initializer/truncated_normal/mean&quot;\\n  attr {\\n    key: &quot;T&quot;\\n    value {\\n      type: DT_FLOAT\\n    }\\n  }\\n  attr {\\n    key: &quot;_class&quot;\\n    value {\\n      list {\\n        s: &quot;loc:@Convolution_2nd/kernel&quot;\\n      }\\n    }\\n  }\\n}\\nnode {\\n  name: &quot;Convolution_2nd/kernel&quot;\\n  op: &quot;VariableV2&quot;\\n  attr {\\n    key: &quot;_class&quot;\\n    value {\\n      list {\\n        s: &quot;loc:@Convolution_2nd/kernel&quot;\\n      }\\n    }\\n  }\\n  attr {\\n    key: &quot;container&quot;\\n    value {\\n      s: &quot;&quot;\\n    }\\n  }\\n  attr {\\n    key: &quot;dtype&quot;\\n    value {\\n      type: DT_FLOAT\\n    }\\n  }\\n  attr {\\n    key: &quot;shape&quot;\\n    value {\\n      shape {\\n        dim {\\n          size: 3\\n        }\\n        dim {\\n          size: 1\\n        }\\n        dim {\\n          size: 200\\n        }\\n        dim {\\n          size: 200\\n        }\\n      }\\n    }\\n  }\\n  attr {\\n    key: &quot;shared_name&quot;\\n    value {\\n      s: &quot;&quot;\\n    }\\n  }\\n}\\nnode {\\n  name: &quot;Convolution_2nd/kernel/Assign&quot;\\n  op: &quot;Assign&quot;\\n  input: &quot;Convolution_2nd/kernel&quot;\\n  input: &quot;Convolution_2nd/kernel/Initializer/truncated_normal&quot;\\n  attr {\\n    key: &quot;T&quot;\\n    value {\\n      type: DT_FLOAT\\n    }\\n  }\\n  attr {\\n    key: &quot;_class&quot;\\n    value {\\n      list {\\n        s: &quot;loc:@Convolution_2nd/kernel&quot;\\n      }\\n    }\\n  }\\n  attr {\\n    key: &quot;use_locking&quot;\\n    value {\\n      b: true\\n    }\\n  }\\n  attr {\\n    key: &quot;validate_shape&quot;\\n    value {\\n      b: true\\n    }\\n  }\\n}\\nnode {\\n  name: &quot;Convolution_2nd/kernel/read&quot;\\n  op: &quot;Identity&quot;\\n  input: &quot;Convolution_2nd/kernel&quot;\\n  attr {\\n    key: &quot;T&quot;\\n    value {\\n      type: DT_FLOAT\\n    }\\n  }\\n  attr {\\n    key: &quot;_class&quot;\\n    value {\\n      list {\\n        s: &quot;loc:@Convolution_2nd/kernel&quot;\\n      }\\n    }\\n  }\\n}\\nnode {\\n  name: &quot;Convolution_2nd/bias/Initializer/zeros&quot;\\n  op: &quot;Const&quot;\\n  attr {\\n    key: &quot;_class&quot;\\n    value {\\n      list {\\n        s: &quot;loc:@Convolution_2nd/bias&quot;\\n      }\\n    }\\n  }\\n  attr {\\n    key: &quot;dtype&quot;\\n    value {\\n      type: DT_FLOAT\\n    }\\n  }\\n  attr {\\n    key: &quot;value&quot;\\n    value {\\n      tensor {\\n        dtype: DT_FLOAT\\n        tensor_shape {\\n          dim {\\n            size: 200\\n          }\\n        }\\n        float_val: 0.0\\n      }\\n    }\\n  }\\n}\\nnode {\\n  name: &quot;Convolution_2nd/bias&quot;\\n  op: &quot;VariableV2&quot;\\n  attr {\\n    key: &quot;_class&quot;\\n    value {\\n      list {\\n        s: &quot;loc:@Convolution_2nd/bias&quot;\\n      }\\n    }\\n  }\\n  attr {\\n    key: &quot;container&quot;\\n    value {\\n      s: &quot;&quot;\\n    }\\n  }\\n  attr {\\n    key: &quot;dtype&quot;\\n    value {\\n      type: DT_FLOAT\\n    }\\n  }\\n  attr {\\n    key: &quot;shape&quot;\\n    value {\\n      shape {\\n        dim {\\n          size: 200\\n        }\\n      }\\n    }\\n  }\\n  attr {\\n    key: &quot;shared_name&quot;\\n    value {\\n      s: &quot;&quot;\\n    }\\n  }\\n}\\nnode {\\n  name: &quot;Convolution_2nd/bias/Assign&quot;\\n  op: &quot;Assign&quot;\\n  input: &quot;Convolution_2nd/bias&quot;\\n  input: &quot;Convolution_2nd/bias/Initializer/zeros&quot;\\n  attr {\\n    key: &quot;T&quot;\\n    value {\\n      type: DT_FLOAT\\n    }\\n  }\\n  attr {\\n    key: &quot;_class&quot;\\n    value {\\n      list {\\n        s: &quot;loc:@Convolution_2nd/bias&quot;\\n      }\\n    }\\n  }\\n  attr {\\n    key: &quot;use_locking&quot;\\n    value {\\n      b: true\\n    }\\n  }\\n  attr {\\n    key: &quot;validate_shape&quot;\\n    value {\\n      b: true\\n    }\\n  }\\n}\\nnode {\\n  name: &quot;Convolution_2nd/bias/read&quot;\\n  op: &quot;Identity&quot;\\n  input: &quot;Convolution_2nd/bias&quot;\\n  attr {\\n    key: &quot;T&quot;\\n    value {\\n      type: DT_FLOAT\\n    }\\n  }\\n  attr {\\n    key: &quot;_class&quot;\\n    value {\\n      list {\\n        s: &quot;loc:@Convolution_2nd/bias&quot;\\n      }\\n    }\\n  }\\n}\\nnode {\\n  name: &quot;Convolution_2nd/convolution/Shape&quot;\\n  op: &quot;Const&quot;\\n  attr {\\n    key: &quot;dtype&quot;\\n    value {\\n      type: DT_INT32\\n    }\\n  }\\n  attr {\\n    key: &quot;value&quot;\\n    value {\\n      tensor {\\n        dtype: DT_INT32\\n        tensor_shape {\\n          dim {\\n            size: 4\\n          }\\n        }\\n        tensor_content: &quot;\\\\003\\\\000\\\\000\\\\000\\\\001\\\\000\\\\000\\\\000\\\\310\\\\000\\\\000\\\\000\\\\310\\\\000\\\\000\\\\000&quot;\\n      }\\n    }\\n  }\\n}\\nnode {\\n  name: &quot;Convolution_2nd/convolution/dilation_rate&quot;\\n  op: &quot;Const&quot;\\n  attr {\\n    key: &quot;dtype&quot;\\n    value {\\n      type: DT_INT32\\n    }\\n  }\\n  attr {\\n    key: &quot;value&quot;\\n    value {\\n      tensor {\\n        dtype: DT_INT32\\n        tensor_shape {\\n          dim {\\n            size: 2\\n          }\\n        }\\n        tensor_content: &quot;\\\\001\\\\000\\\\000\\\\000\\\\001\\\\000\\\\000\\\\000&quot;\\n      }\\n    }\\n  }\\n}\\nnode {\\n  name: &quot;Convolution_2nd/convolution&quot;\\n  op: &quot;Conv2D&quot;\\n  input: &quot;max_pooling2d/MaxPool&quot;\\n  input: &quot;Convolution_2nd/kernel/read&quot;\\n  attr {\\n    key: &quot;T&quot;\\n    value {\\n      type: DT_FLOAT\\n    }\\n  }\\n  attr {\\n    key: &quot;data_format&quot;\\n    value {\\n      s: &quot;NHWC&quot;\\n    }\\n  }\\n  attr {\\n    key: &quot;padding&quot;\\n    value {\\n      s: &quot;VALID&quot;\\n    }\\n  }\\n  attr {\\n    key: &quot;strides&quot;\\n    value {\\n      list {\\n        i: 1\\n        i: 1\\n        i: 1\\n        i: 1\\n      }\\n    }\\n  }\\n  attr {\\n    key: &quot;use_cudnn_on_gpu&quot;\\n    value {\\n      b: true\\n    }\\n  }\\n}\\nnode {\\n  name: &quot;Convolution_2nd/BiasAdd&quot;\\n  op: &quot;BiasAdd&quot;\\n  input: &quot;Convolution_2nd/convolution&quot;\\n  input: &quot;Convolution_2nd/bias/read&quot;\\n  attr {\\n    key: &quot;T&quot;\\n    value {\\n      type: DT_FLOAT\\n    }\\n  }\\n  attr {\\n    key: &quot;data_format&quot;\\n    value {\\n      s: &quot;NHWC&quot;\\n    }\\n  }\\n}\\nnode {\\n  name: &quot;Convolution_2nd/Relu&quot;\\n  op: &quot;Relu&quot;\\n  input: &quot;Convolution_2nd/BiasAdd&quot;\\n  attr {\\n    key: &quot;T&quot;\\n    value {\\n      type: DT_FLOAT\\n    }\\n  }\\n}\\nnode {\\n  name: &quot;max_pooling2d_2/MaxPool&quot;\\n  op: &quot;MaxPool&quot;\\n  input: &quot;Convolution_2nd/Relu&quot;\\n  attr {\\n    key: &quot;T&quot;\\n    value {\\n      type: DT_FLOAT\\n    }\\n  }\\n  attr {\\n    key: &quot;data_format&quot;\\n    value {\\n      s: &quot;NHWC&quot;\\n    }\\n  }\\n  attr {\\n    key: &quot;ksize&quot;\\n    value {\\n      list {\\n        i: 1\\n        i: 22\\n        i: 1\\n        i: 1\\n      }\\n    }\\n  }\\n  attr {\\n    key: &quot;padding&quot;\\n    value {\\n      s: &quot;VALID&quot;\\n    }\\n  }\\n  attr {\\n    key: &quot;strides&quot;\\n    value {\\n      list {\\n        i: 1\\n        i: 1\\n        i: 1\\n        i: 1\\n      }\\n    }\\n  }\\n}\\nnode {\\n  name: &quot;Reshape/shape&quot;\\n  op: &quot;Const&quot;\\n  attr {\\n    key: &quot;dtype&quot;\\n    value {\\n      type: DT_INT32\\n    }\\n  }\\n  attr {\\n    key: &quot;value&quot;\\n    value {\\n      tensor {\\n        dtype: DT_INT32\\n        tensor_shape {\\n          dim {\\n            size: 2\\n          }\\n        }\\n        tensor_content: &quot;\\\\377\\\\377\\\\377\\\\377\\\\310\\\\000\\\\000\\\\000&quot;\\n      }\\n    }\\n  }\\n}\\nnode {\\n  name: &quot;Reshape&quot;\\n  op: &quot;Reshape&quot;\\n  input: &quot;max_pooling2d_2/MaxPool&quot;\\n  input: &quot;Reshape/shape&quot;\\n  attr {\\n    key: &quot;T&quot;\\n    value {\\n      type: DT_FLOAT\\n    }\\n  }\\n  attr {\\n    key: &quot;Tshape&quot;\\n    value {\\n      type: DT_INT32\\n    }\\n  }\\n}\\nnode {\\n  name: &quot;Fully_connect/kernel/Initializer/random_uniform/shape&quot;\\n  op: &quot;Const&quot;\\n  attr {\\n    key: &quot;_class&quot;\\n    value {\\n      list {\\n        s: &quot;loc:@Fully_connect/kernel&quot;\\n      }\\n    }\\n  }\\n  attr {\\n    key: &quot;dtype&quot;\\n    value {\\n      type: DT_INT32\\n    }\\n  }\\n  attr {\\n    key: &quot;value&quot;\\n    value {\\n      tensor {\\n        dtype: DT_INT32\\n        tensor_shape {\\n          dim {\\n            size: 2\\n          }\\n        }\\n        tensor_content: &quot;\\\\310\\\\000\\\\000\\\\000\\\\000\\\\004\\\\000\\\\000&quot;\\n      }\\n    }\\n  }\\n}\\nnode {\\n  name: &quot;Fully_connect/kernel/Initializer/random_uniform/min&quot;\\n  op: &quot;Const&quot;\\n  attr {\\n    key: &quot;_class&quot;\\n    value {\\n      list {\\n        s: &quot;loc:@Fully_connect/kernel&quot;\\n      }\\n    }\\n  }\\n  attr {\\n    key: &quot;dtype&quot;\\n    value {\\n      type: DT_FLOAT\\n    }\\n  }\\n  attr {\\n    key: &quot;value&quot;\\n    value {\\n      tensor {\\n        dtype: DT_FLOAT\\n        tensor_shape {\\n        }\\n        float_val: -0.07001400738954544\\n      }\\n    }\\n  }\\n}\\nnode {\\n  name: &quot;Fully_connect/kernel/Initializer/random_uniform/max&quot;\\n  op: &quot;Const&quot;\\n  attr {\\n    key: &quot;_class&quot;\\n    value {\\n      list {\\n        s: &quot;loc:@Fully_connect/kernel&quot;\\n      }\\n    }\\n  }\\n  attr {\\n    key: &quot;dtype&quot;\\n    value {\\n      type: DT_FLOAT\\n    }\\n  }\\n  attr {\\n    key: &quot;value&quot;\\n    value {\\n      tensor {\\n        dtype: DT_FLOAT\\n        tensor_shape {\\n        }\\n        float_val: 0.07001400738954544\\n      }\\n    }\\n  }\\n}\\nnode {\\n  name: &quot;Fully_connect/kernel/Initializer/random_uniform/RandomUniform&quot;\\n  op: &quot;RandomUniform&quot;\\n  input: &quot;Fully_connect/kernel/Initializer/random_uniform/shape&quot;\\n  attr {\\n    key: &quot;T&quot;\\n    value {\\n      type: DT_INT32\\n    }\\n  }\\n  attr {\\n    key: &quot;_class&quot;\\n    value {\\n      list {\\n        s: &quot;loc:@Fully_connect/kernel&quot;\\n      }\\n    }\\n  }\\n  attr {\\n    key: &quot;dtype&quot;\\n    value {\\n      type: DT_FLOAT\\n    }\\n  }\\n  attr {\\n    key: &quot;seed&quot;\\n    value {\\n      i: 42\\n    }\\n  }\\n  attr {\\n    key: &quot;seed2&quot;\\n    value {\\n      i: 52\\n    }\\n  }\\n}\\nnode {\\n  name: &quot;Fully_connect/kernel/Initializer/random_uniform/sub&quot;\\n  op: &quot;Sub&quot;\\n  input: &quot;Fully_connect/kernel/Initializer/random_uniform/max&quot;\\n  input: &quot;Fully_connect/kernel/Initializer/random_uniform/min&quot;\\n  attr {\\n    key: &quot;T&quot;\\n    value {\\n      type: DT_FLOAT\\n    }\\n  }\\n  attr {\\n    key: &quot;_class&quot;\\n    value {\\n      list {\\n        s: &quot;loc:@Fully_connect/kernel&quot;\\n      }\\n    }\\n  }\\n}\\nnode {\\n  name: &quot;Fully_connect/kernel/Initializer/random_uniform/mul&quot;\\n  op: &quot;Mul&quot;\\n  input: &quot;Fully_connect/kernel/Initializer/random_uniform/RandomUniform&quot;\\n  input: &quot;Fully_connect/kernel/Initializer/random_uniform/sub&quot;\\n  attr {\\n    key: &quot;T&quot;\\n    value {\\n      type: DT_FLOAT\\n    }\\n  }\\n  attr {\\n    key: &quot;_class&quot;\\n    value {\\n      list {\\n        s: &quot;loc:@Fully_connect/kernel&quot;\\n      }\\n    }\\n  }\\n}\\nnode {\\n  name: &quot;Fully_connect/kernel/Initializer/random_uniform&quot;\\n  op: &quot;Add&quot;\\n  input: &quot;Fully_connect/kernel/Initializer/random_uniform/mul&quot;\\n  input: &quot;Fully_connect/kernel/Initializer/random_uniform/min&quot;\\n  attr {\\n    key: &quot;T&quot;\\n    value {\\n      type: DT_FLOAT\\n    }\\n  }\\n  attr {\\n    key: &quot;_class&quot;\\n    value {\\n      list {\\n        s: &quot;loc:@Fully_connect/kernel&quot;\\n      }\\n    }\\n  }\\n}\\nnode {\\n  name: &quot;Fully_connect/kernel&quot;\\n  op: &quot;VariableV2&quot;\\n  attr {\\n    key: &quot;_class&quot;\\n    value {\\n      list {\\n        s: &quot;loc:@Fully_connect/kernel&quot;\\n      }\\n    }\\n  }\\n  attr {\\n    key: &quot;container&quot;\\n    value {\\n      s: &quot;&quot;\\n    }\\n  }\\n  attr {\\n    key: &quot;dtype&quot;\\n    value {\\n      type: DT_FLOAT\\n    }\\n  }\\n  attr {\\n    key: &quot;shape&quot;\\n    value {\\n      shape {\\n        dim {\\n          size: 200\\n        }\\n        dim {\\n          size: 1024\\n        }\\n      }\\n    }\\n  }\\n  attr {\\n    key: &quot;shared_name&quot;\\n    value {\\n      s: &quot;&quot;\\n    }\\n  }\\n}\\nnode {\\n  name: &quot;Fully_connect/kernel/Assign&quot;\\n  op: &quot;Assign&quot;\\n  input: &quot;Fully_connect/kernel&quot;\\n  input: &quot;Fully_connect/kernel/Initializer/random_uniform&quot;\\n  attr {\\n    key: &quot;T&quot;\\n    value {\\n      type: DT_FLOAT\\n    }\\n  }\\n  attr {\\n    key: &quot;_class&quot;\\n    value {\\n      list {\\n        s: &quot;loc:@Fully_connect/kernel&quot;\\n      }\\n    }\\n  }\\n  attr {\\n    key: &quot;use_locking&quot;\\n    value {\\n      b: true\\n    }\\n  }\\n  attr {\\n    key: &quot;validate_shape&quot;\\n    value {\\n      b: true\\n    }\\n  }\\n}\\nnode {\\n  name: &quot;Fully_connect/kernel/read&quot;\\n  op: &quot;Identity&quot;\\n  input: &quot;Fully_connect/kernel&quot;\\n  attr {\\n    key: &quot;T&quot;\\n    value {\\n      type: DT_FLOAT\\n    }\\n  }\\n  attr {\\n    key: &quot;_class&quot;\\n    value {\\n      list {\\n        s: &quot;loc:@Fully_connect/kernel&quot;\\n      }\\n    }\\n  }\\n}\\nnode {\\n  name: &quot;Fully_connect/bias/Initializer/zeros&quot;\\n  op: &quot;Const&quot;\\n  attr {\\n    key: &quot;_class&quot;\\n    value {\\n      list {\\n        s: &quot;loc:@Fully_connect/bias&quot;\\n      }\\n    }\\n  }\\n  attr {\\n    key: &quot;dtype&quot;\\n    value {\\n      type: DT_FLOAT\\n    }\\n  }\\n  attr {\\n    key: &quot;value&quot;\\n    value {\\n      tensor {\\n        dtype: DT_FLOAT\\n        tensor_shape {\\n          dim {\\n            size: 1024\\n          }\\n        }\\n        float_val: 0.0\\n      }\\n    }\\n  }\\n}\\nnode {\\n  name: &quot;Fully_connect/bias&quot;\\n  op: &quot;VariableV2&quot;\\n  attr {\\n    key: &quot;_class&quot;\\n    value {\\n      list {\\n        s: &quot;loc:@Fully_connect/bias&quot;\\n      }\\n    }\\n  }\\n  attr {\\n    key: &quot;container&quot;\\n    value {\\n      s: &quot;&quot;\\n    }\\n  }\\n  attr {\\n    key: &quot;dtype&quot;\\n    value {\\n      type: DT_FLOAT\\n    }\\n  }\\n  attr {\\n    key: &quot;shape&quot;\\n    value {\\n      shape {\\n        dim {\\n          size: 1024\\n        }\\n      }\\n    }\\n  }\\n  attr {\\n    key: &quot;shared_name&quot;\\n    value {\\n      s: &quot;&quot;\\n    }\\n  }\\n}\\nnode {\\n  name: &quot;Fully_connect/bias/Assign&quot;\\n  op: &quot;Assign&quot;\\n  input: &quot;Fully_connect/bias&quot;\\n  input: &quot;Fully_connect/bias/Initializer/zeros&quot;\\n  attr {\\n    key: &quot;T&quot;\\n    value {\\n      type: DT_FLOAT\\n    }\\n  }\\n  attr {\\n    key: &quot;_class&quot;\\n    value {\\n      list {\\n        s: &quot;loc:@Fully_connect/bias&quot;\\n      }\\n    }\\n  }\\n  attr {\\n    key: &quot;use_locking&quot;\\n    value {\\n      b: true\\n    }\\n  }\\n  attr {\\n    key: &quot;validate_shape&quot;\\n    value {\\n      b: true\\n    }\\n  }\\n}\\nnode {\\n  name: &quot;Fully_connect/bias/read&quot;\\n  op: &quot;Identity&quot;\\n  input: &quot;Fully_connect/bias&quot;\\n  attr {\\n    key: &quot;T&quot;\\n    value {\\n      type: DT_FLOAT\\n    }\\n  }\\n  attr {\\n    key: &quot;_class&quot;\\n    value {\\n      list {\\n        s: &quot;loc:@Fully_connect/bias&quot;\\n      }\\n    }\\n  }\\n}\\nnode {\\n  name: &quot;Fully_connect/MatMul&quot;\\n  op: &quot;MatMul&quot;\\n  input: &quot;Reshape&quot;\\n  input: &quot;Fully_connect/kernel/read&quot;\\n  attr {\\n    key: &quot;T&quot;\\n    value {\\n      type: DT_FLOAT\\n    }\\n  }\\n  attr {\\n    key: &quot;transpose_a&quot;\\n    value {\\n      b: false\\n    }\\n  }\\n  attr {\\n    key: &quot;transpose_b&quot;\\n    value {\\n      b: false\\n    }\\n  }\\n}\\nnode {\\n  name: &quot;Fully_connect/BiasAdd&quot;\\n  op: &quot;BiasAdd&quot;\\n  input: &quot;Fully_connect/MatMul&quot;\\n  input: &quot;Fully_connect/bias/read&quot;\\n  attr {\\n    key: &quot;T&quot;\\n    value {\\n      type: DT_FLOAT\\n    }\\n  }\\n  attr {\\n    key: &quot;data_format&quot;\\n    value {\\n      s: &quot;NHWC&quot;\\n    }\\n  }\\n}\\nnode {\\n  name: &quot;Fully_connect/Relu&quot;\\n  op: &quot;Relu&quot;\\n  input: &quot;Fully_connect/BiasAdd&quot;\\n  attr {\\n    key: &quot;T&quot;\\n    value {\\n      type: DT_FLOAT\\n    }\\n  }\\n}\\nnode {\\n  name: &quot;Softmax/kernel/Initializer/truncated_normal/shape&quot;\\n  op: &quot;Const&quot;\\n  attr {\\n    key: &quot;_class&quot;\\n    value {\\n      list {\\n        s: &quot;loc:@Softmax/kernel&quot;\\n      }\\n    }\\n  }\\n  attr {\\n    key: &quot;dtype&quot;\\n    value {\\n      type: DT_INT32\\n    }\\n  }\\n  attr {\\n    key: &quot;value&quot;\\n    value {\\n      tensor {\\n        dtype: DT_INT32\\n        tensor_shape {\\n          dim {\\n            size: 2\\n          }\\n        }\\n        tensor_content: &quot;\\\\000\\\\004\\\\000\\\\000\\\\003\\\\000\\\\000\\\\000&quot;\\n      }\\n    }\\n  }\\n}\\nnode {\\n  name: &quot;Softmax/kernel/Initializer/truncated_normal/mean&quot;\\n  op: &quot;Const&quot;\\n  attr {\\n    key: &quot;_class&quot;\\n    value {\\n      list {\\n        s: &quot;loc:@Softmax/kernel&quot;\\n      }\\n    }\\n  }\\n  attr {\\n    key: &quot;dtype&quot;\\n    value {\\n      type: DT_FLOAT\\n    }\\n  }\\n  attr {\\n    key: &quot;value&quot;\\n    value {\\n      tensor {\\n        dtype: DT_FLOAT\\n        tensor_shape {\\n        }\\n        float_val: 0.0\\n      }\\n    }\\n  }\\n}\\nnode {\\n  name: &quot;Softmax/kernel/Initializer/truncated_normal/stddev&quot;\\n  op: &quot;Const&quot;\\n  attr {\\n    key: &quot;_class&quot;\\n    value {\\n      list {\\n        s: &quot;loc:@Softmax/kernel&quot;\\n      }\\n    }\\n  }\\n  attr {\\n    key: &quot;dtype&quot;\\n    value {\\n      type: DT_FLOAT\\n    }\\n  }\\n  attr {\\n    key: &quot;value&quot;\\n    value {\\n      tensor {\\n        dtype: DT_FLOAT\\n        tensor_shape {\\n        }\\n        float_val: 0.050389111042022705\\n      }\\n    }\\n  }\\n}\\nnode {\\n  name: &quot;Softmax/kernel/Initializer/truncated_normal/TruncatedNormal&quot;\\n  op: &quot;TruncatedNormal&quot;\\n  input: &quot;Softmax/kernel/Initializer/truncated_normal/shape&quot;\\n  attr {\\n    key: &quot;T&quot;\\n    value {\\n      type: DT_INT32\\n    }\\n  }\\n  attr {\\n    key: &quot;_class&quot;\\n    value {\\n      list {\\n        s: &quot;loc:@Softmax/kernel&quot;\\n      }\\n    }\\n  }\\n  attr {\\n    key: &quot;dtype&quot;\\n    value {\\n      type: DT_FLOAT\\n    }\\n  }\\n  attr {\\n    key: &quot;seed&quot;\\n    value {\\n      i: 42\\n    }\\n  }\\n  attr {\\n    key: &quot;seed2&quot;\\n    value {\\n      i: 69\\n    }\\n  }\\n}\\nnode {\\n  name: &quot;Softmax/kernel/Initializer/truncated_normal/mul&quot;\\n  op: &quot;Mul&quot;\\n  input: &quot;Softmax/kernel/Initializer/truncated_normal/TruncatedNormal&quot;\\n  input: &quot;Softmax/kernel/Initializer/truncated_normal/stddev&quot;\\n  attr {\\n    key: &quot;T&quot;\\n    value {\\n      type: DT_FLOAT\\n    }\\n  }\\n  attr {\\n    key: &quot;_class&quot;\\n    value {\\n      list {\\n        s: &quot;loc:@Softmax/kernel&quot;\\n      }\\n    }\\n  }\\n}\\nnode {\\n  name: &quot;Softmax/kernel/Initializer/truncated_normal&quot;\\n  op: &quot;Add&quot;\\n  input: &quot;Softmax/kernel/Initializer/truncated_normal/mul&quot;\\n  input: &quot;Softmax/kernel/Initializer/truncated_normal/mean&quot;\\n  attr {\\n    key: &quot;T&quot;\\n    value {\\n      type: DT_FLOAT\\n    }\\n  }\\n  attr {\\n    key: &quot;_class&quot;\\n    value {\\n      list {\\n        s: &quot;loc:@Softmax/kernel&quot;\\n      }\\n    }\\n  }\\n}\\nnode {\\n  name: &quot;Softmax/kernel&quot;\\n  op: &quot;VariableV2&quot;\\n  attr {\\n    key: &quot;_class&quot;\\n    value {\\n      list {\\n        s: &quot;loc:@Softmax/kernel&quot;\\n      }\\n    }\\n  }\\n  attr {\\n    key: &quot;container&quot;\\n    value {\\n      s: &quot;&quot;\\n    }\\n  }\\n  attr {\\n    key: &quot;dtype&quot;\\n    value {\\n      type: DT_FLOAT\\n    }\\n  }\\n  attr {\\n    key: &quot;shape&quot;\\n    value {\\n      shape {\\n        dim {\\n          size: 1024\\n        }\\n        dim {\\n          size: 3\\n        }\\n      }\\n    }\\n  }\\n  attr {\\n    key: &quot;shared_name&quot;\\n    value {\\n      s: &quot;&quot;\\n    }\\n  }\\n}\\nnode {\\n  name: &quot;Softmax/kernel/Assign&quot;\\n  op: &quot;Assign&quot;\\n  input: &quot;Softmax/kernel&quot;\\n  input: &quot;Softmax/kernel/Initializer/truncated_normal&quot;\\n  attr {\\n    key: &quot;T&quot;\\n    value {\\n      type: DT_FLOAT\\n    }\\n  }\\n  attr {\\n    key: &quot;_class&quot;\\n    value {\\n      list {\\n        s: &quot;loc:@Softmax/kernel&quot;\\n      }\\n    }\\n  }\\n  attr {\\n    key: &quot;use_locking&quot;\\n    value {\\n      b: true\\n    }\\n  }\\n  attr {\\n    key: &quot;validate_shape&quot;\\n    value {\\n      b: true\\n    }\\n  }\\n}\\nnode {\\n  name: &quot;Softmax/kernel/read&quot;\\n  op: &quot;Identity&quot;\\n  input: &quot;Softmax/kernel&quot;\\n  attr {\\n    key: &quot;T&quot;\\n    value {\\n      type: DT_FLOAT\\n    }\\n  }\\n  attr {\\n    key: &quot;_class&quot;\\n    value {\\n      list {\\n        s: &quot;loc:@Softmax/kernel&quot;\\n      }\\n    }\\n  }\\n}\\nnode {\\n  name: &quot;Softmax/bias/Initializer/zeros&quot;\\n  op: &quot;Const&quot;\\n  attr {\\n    key: &quot;_class&quot;\\n    value {\\n      list {\\n        s: &quot;loc:@Softmax/bias&quot;\\n      }\\n    }\\n  }\\n  attr {\\n    key: &quot;dtype&quot;\\n    value {\\n      type: DT_FLOAT\\n    }\\n  }\\n  attr {\\n    key: &quot;value&quot;\\n    value {\\n      tensor {\\n        dtype: DT_FLOAT\\n        tensor_shape {\\n          dim {\\n            size: 3\\n          }\\n        }\\n        float_val: 0.0\\n      }\\n    }\\n  }\\n}\\nnode {\\n  name: &quot;Softmax/bias&quot;\\n  op: &quot;VariableV2&quot;\\n  attr {\\n    key: &quot;_class&quot;\\n    value {\\n      list {\\n        s: &quot;loc:@Softmax/bias&quot;\\n      }\\n    }\\n  }\\n  attr {\\n    key: &quot;container&quot;\\n    value {\\n      s: &quot;&quot;\\n    }\\n  }\\n  attr {\\n    key: &quot;dtype&quot;\\n    value {\\n      type: DT_FLOAT\\n    }\\n  }\\n  attr {\\n    key: &quot;shape&quot;\\n    value {\\n      shape {\\n        dim {\\n          size: 3\\n        }\\n      }\\n    }\\n  }\\n  attr {\\n    key: &quot;shared_name&quot;\\n    value {\\n      s: &quot;&quot;\\n    }\\n  }\\n}\\nnode {\\n  name: &quot;Softmax/bias/Assign&quot;\\n  op: &quot;Assign&quot;\\n  input: &quot;Softmax/bias&quot;\\n  input: &quot;Softmax/bias/Initializer/zeros&quot;\\n  attr {\\n    key: &quot;T&quot;\\n    value {\\n      type: DT_FLOAT\\n    }\\n  }\\n  attr {\\n    key: &quot;_class&quot;\\n    value {\\n      list {\\n        s: &quot;loc:@Softmax/bias&quot;\\n      }\\n    }\\n  }\\n  attr {\\n    key: &quot;use_locking&quot;\\n    value {\\n      b: true\\n    }\\n  }\\n  attr {\\n    key: &quot;validate_shape&quot;\\n    value {\\n      b: true\\n    }\\n  }\\n}\\nnode {\\n  name: &quot;Softmax/bias/read&quot;\\n  op: &quot;Identity&quot;\\n  input: &quot;Softmax/bias&quot;\\n  attr {\\n    key: &quot;T&quot;\\n    value {\\n      type: DT_FLOAT\\n    }\\n  }\\n  attr {\\n    key: &quot;_class&quot;\\n    value {\\n      list {\\n        s: &quot;loc:@Softmax/bias&quot;\\n      }\\n    }\\n  }\\n}\\nnode {\\n  name: &quot;Softmax/MatMul&quot;\\n  op: &quot;MatMul&quot;\\n  input: &quot;Fully_connect/Relu&quot;\\n  input: &quot;Softmax/kernel/read&quot;\\n  attr {\\n    key: &quot;T&quot;\\n    value {\\n      type: DT_FLOAT\\n    }\\n  }\\n  attr {\\n    key: &quot;transpose_a&quot;\\n    value {\\n      b: false\\n    }\\n  }\\n  attr {\\n    key: &quot;transpose_b&quot;\\n    value {\\n      b: false\\n    }\\n  }\\n}\\nnode {\\n  name: &quot;Softmax/BiasAdd&quot;\\n  op: &quot;BiasAdd&quot;\\n  input: &quot;Softmax/MatMul&quot;\\n  input: &quot;Softmax/bias/read&quot;\\n  attr {\\n    key: &quot;T&quot;\\n    value {\\n      type: DT_FLOAT\\n    }\\n  }\\n  attr {\\n    key: &quot;data_format&quot;\\n    value {\\n      s: &quot;NHWC&quot;\\n    }\\n  }\\n}\\nnode {\\n  name: &quot;Softmax/Softmax_2&quot;\\n  op: &quot;Softmax&quot;\\n  input: &quot;Softmax/BiasAdd&quot;\\n  attr {\\n    key: &quot;T&quot;\\n    value {\\n      type: DT_FLOAT\\n    }\\n  }\\n}\\nnode {\\n  name: &quot;Cross_Entropy/Shape&quot;\\n  op: &quot;Shape&quot;\\n  input: &quot;Y&quot;\\n  attr {\\n    key: &quot;T&quot;\\n    value {\\n      type: DT_INT32\\n    }\\n  }\\n  attr {\\n    key: &quot;out_type&quot;\\n    value {\\n      type: DT_INT32\\n    }\\n  }\\n}\\nnode {\\n  name: &quot;Cross_Entropy/Cross_Entropy&quot;\\n  op: &quot;SparseSoftmaxCrossEntropyWithLogits&quot;\\n  input: &quot;Softmax/Softmax_2&quot;\\n  input: &quot;Y&quot;\\n  attr {\\n    key: &quot;T&quot;\\n    value {\\n      type: DT_FLOAT\\n    }\\n  }\\n  attr {\\n    key: &quot;Tlabels&quot;\\n    value {\\n      type: DT_INT32\\n    }\\n  }\\n}\\nnode {\\n  name: &quot;Const&quot;\\n  op: &quot;Const&quot;\\n  attr {\\n    key: &quot;dtype&quot;\\n    value {\\n      type: DT_INT32\\n    }\\n  }\\n  attr {\\n    key: &quot;value&quot;\\n    value {\\n      tensor {\\n        dtype: DT_INT32\\n        tensor_shape {\\n          dim {\\n            size: 1\\n          }\\n        }\\n        int_val: 0\\n      }\\n    }\\n  }\\n}\\nnode {\\n  name: &quot;Mean&quot;\\n  op: &quot;Mean&quot;\\n  input: &quot;Cross_Entropy/Cross_Entropy&quot;\\n  input: &quot;Const&quot;\\n  attr {\\n    key: &quot;T&quot;\\n    value {\\n      type: DT_FLOAT\\n    }\\n  }\\n  attr {\\n    key: &quot;Tidx&quot;\\n    value {\\n      type: DT_INT32\\n    }\\n  }\\n  attr {\\n    key: &quot;keep_dims&quot;\\n    value {\\n      b: false\\n    }\\n  }\\n}\\nnode {\\n  name: &quot;gradients/Shape&quot;\\n  op: &quot;Const&quot;\\n  attr {\\n    key: &quot;dtype&quot;\\n    value {\\n      type: DT_INT32\\n    }\\n  }\\n  attr {\\n    key: &quot;value&quot;\\n    value {\\n      tensor {\\n        dtype: DT_INT32\\n        tensor_shape {\\n          dim {\\n          }\\n        }\\n      }\\n    }\\n  }\\n}\\nnode {\\n  name: &quot;gradients/Const&quot;\\n  op: &quot;Const&quot;\\n  attr {\\n    key: &quot;dtype&quot;\\n    value {\\n      type: DT_FLOAT\\n    }\\n  }\\n  attr {\\n    key: &quot;value&quot;\\n    value {\\n      tensor {\\n        dtype: DT_FLOAT\\n        tensor_shape {\\n        }\\n        float_val: 1.0\\n      }\\n    }\\n  }\\n}\\nnode {\\n  name: &quot;gradients/Fill&quot;\\n  op: &quot;Fill&quot;\\n  input: &quot;gradients/Shape&quot;\\n  input: &quot;gradients/Const&quot;\\n  attr {\\n    key: &quot;T&quot;\\n    value {\\n      type: DT_FLOAT\\n    }\\n  }\\n}\\nnode {\\n  name: &quot;gradients/Mean_grad/Reshape/shape&quot;\\n  op: &quot;Const&quot;\\n  attr {\\n    key: &quot;dtype&quot;\\n    value {\\n      type: DT_INT32\\n    }\\n  }\\n  attr {\\n    key: &quot;value&quot;\\n    value {\\n      tensor {\\n        dtype: DT_INT32\\n        tensor_shape {\\n          dim {\\n            size: 1\\n          }\\n        }\\n        int_val: 1\\n      }\\n    }\\n  }\\n}\\nnode {\\n  name: &quot;gradients/Mean_grad/Reshape&quot;\\n  op: &quot;Reshape&quot;\\n  input: &quot;gradients/Fill&quot;\\n  input: &quot;gradients/Mean_grad/Reshape/shape&quot;\\n  attr {\\n    key: &quot;T&quot;\\n    value {\\n      type: DT_FLOAT\\n    }\\n  }\\n  attr {\\n    key: &quot;Tshape&quot;\\n    value {\\n      type: DT_INT32\\n    }\\n  }\\n}\\nnode {\\n  name: &quot;gradients/Mean_grad/Shape&quot;\\n  op: &quot;Shape&quot;\\n  input: &quot;Cross_Entropy/Cross_Entropy&quot;\\n  attr {\\n    key: &quot;T&quot;\\n    value {\\n      type: DT_FLOAT\\n    }\\n  }\\n  attr {\\n    key: &quot;out_type&quot;\\n    value {\\n      type: DT_INT32\\n    }\\n  }\\n}\\nnode {\\n  name: &quot;gradients/Mean_grad/Tile&quot;\\n  op: &quot;Tile&quot;\\n  input: &quot;gradients/Mean_grad/Reshape&quot;\\n  input: &quot;gradients/Mean_grad/Shape&quot;\\n  attr {\\n    key: &quot;T&quot;\\n    value {\\n      type: DT_FLOAT\\n    }\\n  }\\n  attr {\\n    key: &quot;Tmultiples&quot;\\n    value {\\n      type: DT_INT32\\n    }\\n  }\\n}\\nnode {\\n  name: &quot;gradients/Mean_grad/Shape_1&quot;\\n  op: &quot;Shape&quot;\\n  input: &quot;Cross_Entropy/Cross_Entropy&quot;\\n  attr {\\n    key: &quot;T&quot;\\n    value {\\n      type: DT_FLOAT\\n    }\\n  }\\n  attr {\\n    key: &quot;out_type&quot;\\n    value {\\n      type: DT_INT32\\n    }\\n  }\\n}\\nnode {\\n  name: &quot;gradients/Mean_grad/Shape_2&quot;\\n  op: &quot;Const&quot;\\n  attr {\\n    key: &quot;dtype&quot;\\n    value {\\n      type: DT_INT32\\n    }\\n  }\\n  attr {\\n    key: &quot;value&quot;\\n    value {\\n      tensor {\\n        dtype: DT_INT32\\n        tensor_shape {\\n          dim {\\n          }\\n        }\\n      }\\n    }\\n  }\\n}\\nnode {\\n  name: &quot;gradients/Mean_grad/Const&quot;\\n  op: &quot;Const&quot;\\n  attr {\\n    key: &quot;dtype&quot;\\n    value {\\n      type: DT_INT32\\n    }\\n  }\\n  attr {\\n    key: &quot;value&quot;\\n    value {\\n      tensor {\\n        dtype: DT_INT32\\n        tensor_shape {\\n          dim {\\n            size: 1\\n          }\\n        }\\n        int_val: 0\\n      }\\n    }\\n  }\\n}\\nnode {\\n  name: &quot;gradients/Mean_grad/Prod&quot;\\n  op: &quot;Prod&quot;\\n  input: &quot;gradients/Mean_grad/Shape_1&quot;\\n  input: &quot;gradients/Mean_grad/Const&quot;\\n  attr {\\n    key: &quot;T&quot;\\n    value {\\n      type: DT_INT32\\n    }\\n  }\\n  attr {\\n    key: &quot;Tidx&quot;\\n    value {\\n      type: DT_INT32\\n    }\\n  }\\n  attr {\\n    key: &quot;keep_dims&quot;\\n    value {\\n      b: false\\n    }\\n  }\\n}\\nnode {\\n  name: &quot;gradients/Mean_grad/Const_1&quot;\\n  op: &quot;Const&quot;\\n  attr {\\n    key: &quot;dtype&quot;\\n    value {\\n      type: DT_INT32\\n    }\\n  }\\n  attr {\\n    key: &quot;value&quot;\\n    value {\\n      tensor {\\n        dtype: DT_INT32\\n        tensor_shape {\\n          dim {\\n            size: 1\\n          }\\n        }\\n        int_val: 0\\n      }\\n    }\\n  }\\n}\\nnode {\\n  name: &quot;gradients/Mean_grad/Prod_1&quot;\\n  op: &quot;Prod&quot;\\n  input: &quot;gradients/Mean_grad/Shape_2&quot;\\n  input: &quot;gradients/Mean_grad/Const_1&quot;\\n  attr {\\n    key: &quot;T&quot;\\n    value {\\n      type: DT_INT32\\n    }\\n  }\\n  attr {\\n    key: &quot;Tidx&quot;\\n    value {\\n      type: DT_INT32\\n    }\\n  }\\n  attr {\\n    key: &quot;keep_dims&quot;\\n    value {\\n      b: false\\n    }\\n  }\\n}\\nnode {\\n  name: &quot;gradients/Mean_grad/Maximum/y&quot;\\n  op: &quot;Const&quot;\\n  attr {\\n    key: &quot;dtype&quot;\\n    value {\\n      type: DT_INT32\\n    }\\n  }\\n  attr {\\n    key: &quot;value&quot;\\n    value {\\n      tensor {\\n        dtype: DT_INT32\\n        tensor_shape {\\n        }\\n        int_val: 1\\n      }\\n    }\\n  }\\n}\\nnode {\\n  name: &quot;gradients/Mean_grad/Maximum&quot;\\n  op: &quot;Maximum&quot;\\n  input: &quot;gradients/Mean_grad/Prod_1&quot;\\n  input: &quot;gradients/Mean_grad/Maximum/y&quot;\\n  attr {\\n    key: &quot;T&quot;\\n    value {\\n      type: DT_INT32\\n    }\\n  }\\n}\\nnode {\\n  name: &quot;gradients/Mean_grad/floordiv&quot;\\n  op: &quot;FloorDiv&quot;\\n  input: &quot;gradients/Mean_grad/Prod&quot;\\n  input: &quot;gradients/Mean_grad/Maximum&quot;\\n  attr {\\n    key: &quot;T&quot;\\n    value {\\n      type: DT_INT32\\n    }\\n  }\\n}\\nnode {\\n  name: &quot;gradients/Mean_grad/Cast&quot;\\n  op: &quot;Cast&quot;\\n  input: &quot;gradients/Mean_grad/floordiv&quot;\\n  attr {\\n    key: &quot;DstT&quot;\\n    value {\\n      type: DT_FLOAT\\n    }\\n  }\\n  attr {\\n    key: &quot;SrcT&quot;\\n    value {\\n      type: DT_INT32\\n    }\\n  }\\n}\\nnode {\\n  name: &quot;gradients/Mean_grad/truediv&quot;\\n  op: &quot;RealDiv&quot;\\n  input: &quot;gradients/Mean_grad/Tile&quot;\\n  input: &quot;gradients/Mean_grad/Cast&quot;\\n  attr {\\n    key: &quot;T&quot;\\n    value {\\n      type: DT_FLOAT\\n    }\\n  }\\n}\\nnode {\\n  name: &quot;gradients/zeros_like&quot;\\n  op: &quot;ZerosLike&quot;\\n  input: &quot;Cross_Entropy/Cross_Entropy:1&quot;\\n  attr {\\n    key: &quot;T&quot;\\n    value {\\n      type: DT_FLOAT\\n    }\\n  }\\n}\\nnode {\\n  name: &quot;gradients/Cross_Entropy/Cross_Entropy_grad/PreventGradient&quot;\\n  op: &quot;PreventGradient&quot;\\n  input: &quot;Cross_Entropy/Cross_Entropy:1&quot;\\n  attr {\\n    key: &quot;T&quot;\\n    value {\\n      type: DT_FLOAT\\n    }\\n  }\\n  attr {\\n    key: &quot;message&quot;\\n    value {\\n      s: &quot;Currently there is no way to take the second derivative of sparse_softmax_cross_entropy_with_logits due to the fused implementation\\\\\\'s interaction with tf.gradients()&quot;\\n    }\\n  }\\n}\\nnode {\\n  name: &quot;gradients/Cross_Entropy/Cross_Entropy_grad/ExpandDims/dim&quot;\\n  op: &quot;Const&quot;\\n  attr {\\n    key: &quot;dtype&quot;\\n    value {\\n      type: DT_INT32\\n    }\\n  }\\n  attr {\\n    key: &quot;value&quot;\\n    value {\\n      tensor {\\n        dtype: DT_INT32\\n        tensor_shape {\\n        }\\n        int_val: -1\\n      }\\n    }\\n  }\\n}\\nnode {\\n  name: &quot;gradients/Cross_Entropy/Cross_Entropy_grad/ExpandDims&quot;\\n  op: &quot;ExpandDims&quot;\\n  input: &quot;gradients/Mean_grad/truediv&quot;\\n  input: &quot;gradients/Cross_Entropy/Cross_Entropy_grad/ExpandDims/dim&quot;\\n  attr {\\n    key: &quot;T&quot;\\n    value {\\n      type: DT_FLOAT\\n    }\\n  }\\n  attr {\\n    key: &quot;Tdim&quot;\\n    value {\\n      type: DT_INT32\\n    }\\n  }\\n}\\nnode {\\n  name: &quot;gradients/Cross_Entropy/Cross_Entropy_grad/mul&quot;\\n  op: &quot;Mul&quot;\\n  input: &quot;gradients/Cross_Entropy/Cross_Entropy_grad/ExpandDims&quot;\\n  input: &quot;gradients/Cross_Entropy/Cross_Entropy_grad/PreventGradient&quot;\\n  attr {\\n    key: &quot;T&quot;\\n    value {\\n      type: DT_FLOAT\\n    }\\n  }\\n}\\nnode {\\n  name: &quot;gradients/Softmax/Softmax_2_grad/mul&quot;\\n  op: &quot;Mul&quot;\\n  input: &quot;gradients/Cross_Entropy/Cross_Entropy_grad/mul&quot;\\n  input: &quot;Softmax/Softmax_2&quot;\\n  attr {\\n    key: &quot;T&quot;\\n    value {\\n      type: DT_FLOAT\\n    }\\n  }\\n}\\nnode {\\n  name: &quot;gradients/Softmax/Softmax_2_grad/Sum/reduction_indices&quot;\\n  op: &quot;Const&quot;\\n  attr {\\n    key: &quot;dtype&quot;\\n    value {\\n      type: DT_INT32\\n    }\\n  }\\n  attr {\\n    key: &quot;value&quot;\\n    value {\\n      tensor {\\n        dtype: DT_INT32\\n        tensor_shape {\\n          dim {\\n            size: 1\\n          }\\n        }\\n        int_val: 1\\n      }\\n    }\\n  }\\n}\\nnode {\\n  name: &quot;gradients/Softmax/Softmax_2_grad/Sum&quot;\\n  op: &quot;Sum&quot;\\n  input: &quot;gradients/Softmax/Softmax_2_grad/mul&quot;\\n  input: &quot;gradients/Softmax/Softmax_2_grad/Sum/reduction_indices&quot;\\n  attr {\\n    key: &quot;T&quot;\\n    value {\\n      type: DT_FLOAT\\n    }\\n  }\\n  attr {\\n    key: &quot;Tidx&quot;\\n    value {\\n      type: DT_INT32\\n    }\\n  }\\n  attr {\\n    key: &quot;keep_dims&quot;\\n    value {\\n      b: false\\n    }\\n  }\\n}\\nnode {\\n  name: &quot;gradients/Softmax/Softmax_2_grad/Reshape/shape&quot;\\n  op: &quot;Const&quot;\\n  attr {\\n    key: &quot;dtype&quot;\\n    value {\\n      type: DT_INT32\\n    }\\n  }\\n  attr {\\n    key: &quot;value&quot;\\n    value {\\n      tensor {\\n        dtype: DT_INT32\\n        tensor_shape {\\n          dim {\\n            size: 2\\n          }\\n        }\\n        tensor_content: &quot;\\\\377\\\\377\\\\377\\\\377\\\\001\\\\000\\\\000\\\\000&quot;\\n      }\\n    }\\n  }\\n}\\nnode {\\n  name: &quot;gradients/Softmax/Softmax_2_grad/Reshape&quot;\\n  op: &quot;Reshape&quot;\\n  input: &quot;gradients/Softmax/Softmax_2_grad/Sum&quot;\\n  input: &quot;gradients/Softmax/Softmax_2_grad/Reshape/shape&quot;\\n  attr {\\n    key: &quot;T&quot;\\n    value {\\n      type: DT_FLOAT\\n    }\\n  }\\n  attr {\\n    key: &quot;Tshape&quot;\\n    value {\\n      type: DT_INT32\\n    }\\n  }\\n}\\nnode {\\n  name: &quot;gradients/Softmax/Softmax_2_grad/sub&quot;\\n  op: &quot;Sub&quot;\\n  input: &quot;gradients/Cross_Entropy/Cross_Entropy_grad/mul&quot;\\n  input: &quot;gradients/Softmax/Softmax_2_grad/Reshape&quot;\\n  attr {\\n    key: &quot;T&quot;\\n    value {\\n      type: DT_FLOAT\\n    }\\n  }\\n}\\nnode {\\n  name: &quot;gradients/Softmax/Softmax_2_grad/mul_1&quot;\\n  op: &quot;Mul&quot;\\n  input: &quot;gradients/Softmax/Softmax_2_grad/sub&quot;\\n  input: &quot;Softmax/Softmax_2&quot;\\n  attr {\\n    key: &quot;T&quot;\\n    value {\\n      type: DT_FLOAT\\n    }\\n  }\\n}\\nnode {\\n  name: &quot;gradients/Softmax/BiasAdd_grad/BiasAddGrad&quot;\\n  op: &quot;BiasAddGrad&quot;\\n  input: &quot;gradients/Softmax/Softmax_2_grad/mul_1&quot;\\n  attr {\\n    key: &quot;T&quot;\\n    value {\\n      type: DT_FLOAT\\n    }\\n  }\\n  attr {\\n    key: &quot;data_format&quot;\\n    value {\\n      s: &quot;NHWC&quot;\\n    }\\n  }\\n}\\nnode {\\n  name: &quot;gradients/Softmax/BiasAdd_grad/tuple/group_deps&quot;\\n  op: &quot;NoOp&quot;\\n  input: &quot;^gradients/Softmax/Softmax_2_grad/mul_1&quot;\\n  input: &quot;^gradients/Softmax/BiasAdd_grad/BiasAddGrad&quot;\\n}\\nnode {\\n  name: &quot;gradients/Softmax/BiasAdd_grad/tuple/control_dependency&quot;\\n  op: &quot;Identity&quot;\\n  input: &quot;gradients/Softmax/Softmax_2_grad/mul_1&quot;\\n  input: &quot;^gradients/Softmax/BiasAdd_grad/tuple/group_deps&quot;\\n  attr {\\n    key: &quot;T&quot;\\n    value {\\n      type: DT_FLOAT\\n    }\\n  }\\n  attr {\\n    key: &quot;_class&quot;\\n    value {\\n      list {\\n        s: &quot;loc:@gradients/Softmax/Softmax_2_grad/mul_1&quot;\\n      }\\n    }\\n  }\\n}\\nnode {\\n  name: &quot;gradients/Softmax/BiasAdd_grad/tuple/control_dependency_1&quot;\\n  op: &quot;Identity&quot;\\n  input: &quot;gradients/Softmax/BiasAdd_grad/BiasAddGrad&quot;\\n  input: &quot;^gradients/Softmax/BiasAdd_grad/tuple/group_deps&quot;\\n  attr {\\n    key: &quot;T&quot;\\n    value {\\n      type: DT_FLOAT\\n    }\\n  }\\n  attr {\\n    key: &quot;_class&quot;\\n    value {\\n      list {\\n        s: &quot;loc:@gradients/Softmax/BiasAdd_grad/BiasAddGrad&quot;\\n      }\\n    }\\n  }\\n}\\nnode {\\n  name: &quot;gradients/Softmax/MatMul_grad/MatMul&quot;\\n  op: &quot;MatMul&quot;\\n  input: &quot;gradients/Softmax/BiasAdd_grad/tuple/control_dependency&quot;\\n  input: &quot;Softmax/kernel/read&quot;\\n  attr {\\n    key: &quot;T&quot;\\n    value {\\n      type: DT_FLOAT\\n    }\\n  }\\n  attr {\\n    key: &quot;transpose_a&quot;\\n    value {\\n      b: false\\n    }\\n  }\\n  attr {\\n    key: &quot;transpose_b&quot;\\n    value {\\n      b: true\\n    }\\n  }\\n}\\nnode {\\n  name: &quot;gradients/Softmax/MatMul_grad/MatMul_1&quot;\\n  op: &quot;MatMul&quot;\\n  input: &quot;Fully_connect/Relu&quot;\\n  input: &quot;gradients/Softmax/BiasAdd_grad/tuple/control_dependency&quot;\\n  attr {\\n    key: &quot;T&quot;\\n    value {\\n      type: DT_FLOAT\\n    }\\n  }\\n  attr {\\n    key: &quot;transpose_a&quot;\\n    value {\\n      b: true\\n    }\\n  }\\n  attr {\\n    key: &quot;transpose_b&quot;\\n    value {\\n      b: false\\n    }\\n  }\\n}\\nnode {\\n  name: &quot;gradients/Softmax/MatMul_grad/tuple/group_deps&quot;\\n  op: &quot;NoOp&quot;\\n  input: &quot;^gradients/Softmax/MatMul_grad/MatMul&quot;\\n  input: &quot;^gradients/Softmax/MatMul_grad/MatMul_1&quot;\\n}\\nnode {\\n  name: &quot;gradients/Softmax/MatMul_grad/tuple/control_dependency&quot;\\n  op: &quot;Identity&quot;\\n  input: &quot;gradients/Softmax/MatMul_grad/MatMul&quot;\\n  input: &quot;^gradients/Softmax/MatMul_grad/tuple/group_deps&quot;\\n  attr {\\n    key: &quot;T&quot;\\n    value {\\n      type: DT_FLOAT\\n    }\\n  }\\n  attr {\\n    key: &quot;_class&quot;\\n    value {\\n      list {\\n        s: &quot;loc:@gradients/Softmax/MatMul_grad/MatMul&quot;\\n      }\\n    }\\n  }\\n}\\nnode {\\n  name: &quot;gradients/Softmax/MatMul_grad/tuple/control_dependency_1&quot;\\n  op: &quot;Identity&quot;\\n  input: &quot;gradients/Softmax/MatMul_grad/MatMul_1&quot;\\n  input: &quot;^gradients/Softmax/MatMul_grad/tuple/group_deps&quot;\\n  attr {\\n    key: &quot;T&quot;\\n    value {\\n      type: DT_FLOAT\\n    }\\n  }\\n  attr {\\n    key: &quot;_class&quot;\\n    value {\\n      list {\\n        s: &quot;loc:@gradients/Softmax/MatMul_grad/MatMul_1&quot;\\n      }\\n    }\\n  }\\n}\\nnode {\\n  name: &quot;gradients/Fully_connect/Relu_grad/ReluGrad&quot;\\n  op: &quot;ReluGrad&quot;\\n  input: &quot;gradients/Softmax/MatMul_grad/tuple/control_dependency&quot;\\n  input: &quot;Fully_connect/Relu&quot;\\n  attr {\\n    key: &quot;T&quot;\\n    value {\\n      type: DT_FLOAT\\n    }\\n  }\\n}\\nnode {\\n  name: &quot;gradients/Fully_connect/BiasAdd_grad/BiasAddGrad&quot;\\n  op: &quot;BiasAddGrad&quot;\\n  input: &quot;gradients/Fully_connect/Relu_grad/ReluGrad&quot;\\n  attr {\\n    key: &quot;T&quot;\\n    value {\\n      type: DT_FLOAT\\n    }\\n  }\\n  attr {\\n    key: &quot;data_format&quot;\\n    value {\\n      s: &quot;NHWC&quot;\\n    }\\n  }\\n}\\nnode {\\n  name: &quot;gradients/Fully_connect/BiasAdd_grad/tuple/group_deps&quot;\\n  op: &quot;NoOp&quot;\\n  input: &quot;^gradients/Fully_connect/Relu_grad/ReluGrad&quot;\\n  input: &quot;^gradients/Fully_connect/BiasAdd_grad/BiasAddGrad&quot;\\n}\\nnode {\\n  name: &quot;gradients/Fully_connect/BiasAdd_grad/tuple/control_dependency&quot;\\n  op: &quot;Identity&quot;\\n  input: &quot;gradients/Fully_connect/Relu_grad/ReluGrad&quot;\\n  input: &quot;^gradients/Fully_connect/BiasAdd_grad/tuple/group_deps&quot;\\n  attr {\\n    key: &quot;T&quot;\\n    value {\\n      type: DT_FLOAT\\n    }\\n  }\\n  attr {\\n    key: &quot;_class&quot;\\n    value {\\n      list {\\n        s: &quot;loc:@gradients/Fully_connect/Relu_grad/ReluGrad&quot;\\n      }\\n    }\\n  }\\n}\\nnode {\\n  name: &quot;gradients/Fully_connect/BiasAdd_grad/tuple/control_dependency_1&quot;\\n  op: &quot;Identity&quot;\\n  input: &quot;gradients/Fully_connect/BiasAdd_grad/BiasAddGrad&quot;\\n  input: &quot;^gradients/Fully_connect/BiasAdd_grad/tuple/group_deps&quot;\\n  attr {\\n    key: &quot;T&quot;\\n    value {\\n      type: DT_FLOAT\\n    }\\n  }\\n  attr {\\n    key: &quot;_class&quot;\\n    value {\\n      list {\\n        s: &quot;loc:@gradients/Fully_connect/BiasAdd_grad/BiasAddGrad&quot;\\n      }\\n    }\\n  }\\n}\\nnode {\\n  name: &quot;gradients/Fully_connect/MatMul_grad/MatMul&quot;\\n  op: &quot;MatMul&quot;\\n  input: &quot;gradients/Fully_connect/BiasAdd_grad/tuple/control_dependency&quot;\\n  input: &quot;Fully_connect/kernel/read&quot;\\n  attr {\\n    key: &quot;T&quot;\\n    value {\\n      type: DT_FLOAT\\n    }\\n  }\\n  attr {\\n    key: &quot;transpose_a&quot;\\n    value {\\n      b: false\\n    }\\n  }\\n  attr {\\n    key: &quot;transpose_b&quot;\\n    value {\\n      b: true\\n    }\\n  }\\n}\\nnode {\\n  name: &quot;gradients/Fully_connect/MatMul_grad/MatMul_1&quot;\\n  op: &quot;MatMul&quot;\\n  input: &quot;Reshape&quot;\\n  input: &quot;gradients/Fully_connect/BiasAdd_grad/tuple/control_dependency&quot;\\n  attr {\\n    key: &quot;T&quot;\\n    value {\\n      type: DT_FLOAT\\n    }\\n  }\\n  attr {\\n    key: &quot;transpose_a&quot;\\n    value {\\n      b: true\\n    }\\n  }\\n  attr {\\n    key: &quot;transpose_b&quot;\\n    value {\\n      b: false\\n    }\\n  }\\n}\\nnode {\\n  name: &quot;gradients/Fully_connect/MatMul_grad/tuple/group_deps&quot;\\n  op: &quot;NoOp&quot;\\n  input: &quot;^gradients/Fully_connect/MatMul_grad/MatMul&quot;\\n  input: &quot;^gradients/Fully_connect/MatMul_grad/MatMul_1&quot;\\n}\\nnode {\\n  name: &quot;gradients/Fully_connect/MatMul_grad/tuple/control_dependency&quot;\\n  op: &quot;Identity&quot;\\n  input: &quot;gradients/Fully_connect/MatMul_grad/MatMul&quot;\\n  input: &quot;^gradients/Fully_connect/MatMul_grad/tuple/group_deps&quot;\\n  attr {\\n    key: &quot;T&quot;\\n    value {\\n      type: DT_FLOAT\\n    }\\n  }\\n  attr {\\n    key: &quot;_class&quot;\\n    value {\\n      list {\\n        s: &quot;loc:@gradients/Fully_connect/MatMul_grad/MatMul&quot;\\n      }\\n    }\\n  }\\n}\\nnode {\\n  name: &quot;gradients/Fully_connect/MatMul_grad/tuple/control_dependency_1&quot;\\n  op: &quot;Identity&quot;\\n  input: &quot;gradients/Fully_connect/MatMul_grad/MatMul_1&quot;\\n  input: &quot;^gradients/Fully_connect/MatMul_grad/tuple/group_deps&quot;\\n  attr {\\n    key: &quot;T&quot;\\n    value {\\n      type: DT_FLOAT\\n    }\\n  }\\n  attr {\\n    key: &quot;_class&quot;\\n    value {\\n      list {\\n        s: &quot;loc:@gradients/Fully_connect/MatMul_grad/MatMul_1&quot;\\n      }\\n    }\\n  }\\n}\\nnode {\\n  name: &quot;gradients/Reshape_grad/Shape&quot;\\n  op: &quot;Shape&quot;\\n  input: &quot;max_pooling2d_2/MaxPool&quot;\\n  attr {\\n    key: &quot;T&quot;\\n    value {\\n      type: DT_FLOAT\\n    }\\n  }\\n  attr {\\n    key: &quot;out_type&quot;\\n    value {\\n      type: DT_INT32\\n    }\\n  }\\n}\\nnode {\\n  name: &quot;gradients/Reshape_grad/Reshape&quot;\\n  op: &quot;Reshape&quot;\\n  input: &quot;gradients/Fully_connect/MatMul_grad/tuple/control_dependency&quot;\\n  input: &quot;gradients/Reshape_grad/Shape&quot;\\n  attr {\\n    key: &quot;T&quot;\\n    value {\\n      type: DT_FLOAT\\n    }\\n  }\\n  attr {\\n    key: &quot;Tshape&quot;\\n    value {\\n      type: DT_INT32\\n    }\\n  }\\n}\\nnode {\\n  name: &quot;gradients/max_pooling2d_2/MaxPool_grad/MaxPoolGrad&quot;\\n  op: &quot;MaxPoolGrad&quot;\\n  input: &quot;Convolution_2nd/Relu&quot;\\n  input: &quot;max_pooling2d_2/MaxPool&quot;\\n  input: &quot;gradients/Reshape_grad/Reshape&quot;\\n  attr {\\n    key: &quot;T&quot;\\n    value {\\n      type: DT_FLOAT\\n    }\\n  }\\n  attr {\\n    key: &quot;data_format&quot;\\n    value {\\n      s: &quot;NHWC&quot;\\n    }\\n  }\\n  attr {\\n    key: &quot;ksize&quot;\\n    value {\\n      list {\\n        i: 1\\n        i: 22\\n        i: 1\\n        i: 1\\n      }\\n    }\\n  }\\n  attr {\\n    key: &quot;padding&quot;\\n    value {\\n      s: &quot;VALID&quot;\\n    }\\n  }\\n  attr {\\n    key: &quot;strides&quot;\\n    value {\\n      list {\\n        i: 1\\n        i: 1\\n        i: 1\\n        i: 1\\n      }\\n    }\\n  }\\n}\\nnode {\\n  name: &quot;gradients/Convolution_2nd/Relu_grad/ReluGrad&quot;\\n  op: &quot;ReluGrad&quot;\\n  input: &quot;gradients/max_pooling2d_2/MaxPool_grad/MaxPoolGrad&quot;\\n  input: &quot;Convolution_2nd/Relu&quot;\\n  attr {\\n    key: &quot;T&quot;\\n    value {\\n      type: DT_FLOAT\\n    }\\n  }\\n}\\nnode {\\n  name: &quot;gradients/Convolution_2nd/BiasAdd_grad/BiasAddGrad&quot;\\n  op: &quot;BiasAddGrad&quot;\\n  input: &quot;gradients/Convolution_2nd/Relu_grad/ReluGrad&quot;\\n  attr {\\n    key: &quot;T&quot;\\n    value {\\n      type: DT_FLOAT\\n    }\\n  }\\n  attr {\\n    key: &quot;data_format&quot;\\n    value {\\n      s: &quot;NHWC&quot;\\n    }\\n  }\\n}\\nnode {\\n  name: &quot;gradients/Convolution_2nd/BiasAdd_grad/tuple/group_deps&quot;\\n  op: &quot;NoOp&quot;\\n  input: &quot;^gradients/Convolution_2nd/Relu_grad/ReluGrad&quot;\\n  input: &quot;^gradients/Convolution_2nd/BiasAdd_grad/BiasAddGrad&quot;\\n}\\nnode {\\n  name: &quot;gradients/Convolution_2nd/BiasAdd_grad/tuple/control_dependency&quot;\\n  op: &quot;Identity&quot;\\n  input: &quot;gradients/Convolution_2nd/Relu_grad/ReluGrad&quot;\\n  input: &quot;^gradients/Convolution_2nd/BiasAdd_grad/tuple/group_deps&quot;\\n  attr {\\n    key: &quot;T&quot;\\n    value {\\n      type: DT_FLOAT\\n    }\\n  }\\n  attr {\\n    key: &quot;_class&quot;\\n    value {\\n      list {\\n        s: &quot;loc:@gradients/Convolution_2nd/Relu_grad/ReluGrad&quot;\\n      }\\n    }\\n  }\\n}\\nnode {\\n  name: &quot;gradients/Convolution_2nd/BiasAdd_grad/tuple/control_dependency_1&quot;\\n  op: &quot;Identity&quot;\\n  input: &quot;gradients/Convolution_2nd/BiasAdd_grad/BiasAddGrad&quot;\\n  input: &quot;^gradients/Convolution_2nd/BiasAdd_grad/tuple/group_deps&quot;\\n  attr {\\n    key: &quot;T&quot;\\n    value {\\n      type: DT_FLOAT\\n    }\\n  }\\n  attr {\\n    key: &quot;_class&quot;\\n    value {\\n      list {\\n        s: &quot;loc:@gradients/Convolution_2nd/BiasAdd_grad/BiasAddGrad&quot;\\n      }\\n    }\\n  }\\n}\\nnode {\\n  name: &quot;gradients/Convolution_2nd/convolution_grad/Shape&quot;\\n  op: &quot;Shape&quot;\\n  input: &quot;max_pooling2d/MaxPool&quot;\\n  attr {\\n    key: &quot;T&quot;\\n    value {\\n      type: DT_FLOAT\\n    }\\n  }\\n  attr {\\n    key: &quot;out_type&quot;\\n    value {\\n      type: DT_INT32\\n    }\\n  }\\n}\\nnode {\\n  name: &quot;gradients/Convolution_2nd/convolution_grad/Conv2DBackpropInput&quot;\\n  op: &quot;Conv2DBackpropInput&quot;\\n  input: &quot;gradients/Convolution_2nd/convolution_grad/Shape&quot;\\n  input: &quot;Convolution_2nd/kernel/read&quot;\\n  input: &quot;gradients/Convolution_2nd/BiasAdd_grad/tuple/control_dependency&quot;\\n  attr {\\n    key: &quot;T&quot;\\n    value {\\n      type: DT_FLOAT\\n    }\\n  }\\n  attr {\\n    key: &quot;data_format&quot;\\n    value {\\n      s: &quot;NHWC&quot;\\n    }\\n  }\\n  attr {\\n    key: &quot;padding&quot;\\n    value {\\n      s: &quot;VALID&quot;\\n    }\\n  }\\n  attr {\\n    key: &quot;strides&quot;\\n    value {\\n      list {\\n        i: 1\\n        i: 1\\n        i: 1\\n        i: 1\\n      }\\n    }\\n  }\\n  attr {\\n    key: &quot;use_cudnn_on_gpu&quot;\\n    value {\\n      b: true\\n    }\\n  }\\n}\\nnode {\\n  name: &quot;gradients/Convolution_2nd/convolution_grad/Shape_1&quot;\\n  op: &quot;Const&quot;\\n  attr {\\n    key: &quot;dtype&quot;\\n    value {\\n      type: DT_INT32\\n    }\\n  }\\n  attr {\\n    key: &quot;value&quot;\\n    value {\\n      tensor {\\n        dtype: DT_INT32\\n        tensor_shape {\\n          dim {\\n            size: 4\\n          }\\n        }\\n        tensor_content: &quot;\\\\003\\\\000\\\\000\\\\000\\\\001\\\\000\\\\000\\\\000\\\\310\\\\000\\\\000\\\\000\\\\310\\\\000\\\\000\\\\000&quot;\\n      }\\n    }\\n  }\\n}\\nnode {\\n  name: &quot;gradients/Convolution_2nd/convolution_grad/Conv2DBackpropFilter&quot;\\n  op: &quot;Conv2DBackpropFilter&quot;\\n  input: &quot;max_pooling2d/MaxPool&quot;\\n  input: &quot;gradients/Convolution_2nd/convolution_grad/Shape_1&quot;\\n  input: &quot;gradients/Convolution_2nd/BiasAdd_grad/tuple/control_dependency&quot;\\n  attr {\\n    key: &quot;T&quot;\\n    value {\\n      type: DT_FLOAT\\n    }\\n  }\\n  attr {\\n    key: &quot;data_format&quot;\\n    value {\\n      s: &quot;NHWC&quot;\\n    }\\n  }\\n  attr {\\n    key: &quot;padding&quot;\\n    value {\\n      s: &quot;VALID&quot;\\n    }\\n  }\\n  attr {\\n    key: &quot;strides&quot;\\n    value {\\n      list {\\n        i: 1\\n        i: 1\\n        i: 1\\n        i: 1\\n      }\\n    }\\n  }\\n  attr {\\n    key: &quot;use_cudnn_on_gpu&quot;\\n    value {\\n      b: true\\n    }\\n  }\\n}\\nnode {\\n  name: &quot;gradients/Convolution_2nd/convolution_grad/tuple/group_deps&quot;\\n  op: &quot;NoOp&quot;\\n  input: &quot;^gradients/Convolution_2nd/convolution_grad/Conv2DBackpropInput&quot;\\n  input: &quot;^gradients/Convolution_2nd/convolution_grad/Conv2DBackpropFilter&quot;\\n}\\nnode {\\n  name: &quot;gradients/Convolution_2nd/convolution_grad/tuple/control_dependency&quot;\\n  op: &quot;Identity&quot;\\n  input: &quot;gradients/Convolution_2nd/convolution_grad/Conv2DBackpropInput&quot;\\n  input: &quot;^gradients/Convolution_2nd/convolution_grad/tuple/group_deps&quot;\\n  attr {\\n    key: &quot;T&quot;\\n    value {\\n      type: DT_FLOAT\\n    }\\n  }\\n  attr {\\n    key: &quot;_class&quot;\\n    value {\\n      list {\\n        s: &quot;loc:@gradients/Convolution_2nd/convolution_grad/Conv2DBackpropInput&quot;\\n      }\\n    }\\n  }\\n}\\nnode {\\n  name: &quot;gradients/Convolution_2nd/convolution_grad/tuple/control_dependency_1&quot;\\n  op: &quot;Identity&quot;\\n  input: &quot;gradients/Convolution_2nd/convolution_grad/Conv2DBackpropFilter&quot;\\n  input: &quot;^gradients/Convolution_2nd/convolution_grad/tuple/group_deps&quot;\\n  attr {\\n    key: &quot;T&quot;\\n    value {\\n      type: DT_FLOAT\\n    }\\n  }\\n  attr {\\n    key: &quot;_class&quot;\\n    value {\\n      list {\\n        s: &quot;loc:@gradients/Convolution_2nd/convolution_grad/Conv2DBackpropFilter&quot;\\n      }\\n    }\\n  }\\n}\\nnode {\\n  name: &quot;gradients/max_pooling2d/MaxPool_grad/MaxPoolGrad&quot;\\n  op: &quot;MaxPoolGrad&quot;\\n  input: &quot;Convolution_1st/Relu&quot;\\n  input: &quot;max_pooling2d/MaxPool&quot;\\n  input: &quot;gradients/Convolution_2nd/convolution_grad/tuple/control_dependency&quot;\\n  attr {\\n    key: &quot;T&quot;\\n    value {\\n      type: DT_FLOAT\\n    }\\n  }\\n  attr {\\n    key: &quot;data_format&quot;\\n    value {\\n      s: &quot;NHWC&quot;\\n    }\\n  }\\n  attr {\\n    key: &quot;ksize&quot;\\n    value {\\n      list {\\n        i: 1\\n        i: 4\\n        i: 1\\n        i: 1\\n      }\\n    }\\n  }\\n  attr {\\n    key: &quot;padding&quot;\\n    value {\\n      s: &quot;VALID&quot;\\n    }\\n  }\\n  attr {\\n    key: &quot;strides&quot;\\n    value {\\n      list {\\n        i: 1\\n        i: 2\\n        i: 2\\n        i: 1\\n      }\\n    }\\n  }\\n}\\nnode {\\n  name: &quot;gradients/Convolution_1st/Relu_grad/ReluGrad&quot;\\n  op: &quot;ReluGrad&quot;\\n  input: &quot;gradients/max_pooling2d/MaxPool_grad/MaxPoolGrad&quot;\\n  input: &quot;Convolution_1st/Relu&quot;\\n  attr {\\n    key: &quot;T&quot;\\n    value {\\n      type: DT_FLOAT\\n    }\\n  }\\n}\\nnode {\\n  name: &quot;gradients/Convolution_1st/BiasAdd_grad/BiasAddGrad&quot;\\n  op: &quot;BiasAddGrad&quot;\\n  input: &quot;gradients/Convolution_1st/Relu_grad/ReluGrad&quot;\\n  attr {\\n    key: &quot;T&quot;\\n    value {\\n      type: DT_FLOAT\\n    }\\n  }\\n  attr {\\n    key: &quot;data_format&quot;\\n    value {\\n      s: &quot;NHWC&quot;\\n    }\\n  }\\n}\\nnode {\\n  name: &quot;gradients/Convolution_1st/BiasAdd_grad/tuple/group_deps&quot;\\n  op: &quot;NoOp&quot;\\n  input: &quot;^gradients/Convolution_1st/Relu_grad/ReluGrad&quot;\\n  input: &quot;^gradients/Convolution_1st/BiasAdd_grad/BiasAddGrad&quot;\\n}\\nnode {\\n  name: &quot;gradients/Convolution_1st/BiasAdd_grad/tuple/control_dependency&quot;\\n  op: &quot;Identity&quot;\\n  input: &quot;gradients/Convolution_1st/Relu_grad/ReluGrad&quot;\\n  input: &quot;^gradients/Convolution_1st/BiasAdd_grad/tuple/group_deps&quot;\\n  attr {\\n    key: &quot;T&quot;\\n    value {\\n      type: DT_FLOAT\\n    }\\n  }\\n  attr {\\n    key: &quot;_class&quot;\\n    value {\\n      list {\\n        s: &quot;loc:@gradients/Convolution_1st/Relu_grad/ReluGrad&quot;\\n      }\\n    }\\n  }\\n}\\nnode {\\n  name: &quot;gradients/Convolution_1st/BiasAdd_grad/tuple/control_dependency_1&quot;\\n  op: &quot;Identity&quot;\\n  input: &quot;gradients/Convolution_1st/BiasAdd_grad/BiasAddGrad&quot;\\n  input: &quot;^gradients/Convolution_1st/BiasAdd_grad/tuple/group_deps&quot;\\n  attr {\\n    key: &quot;T&quot;\\n    value {\\n      type: DT_FLOAT\\n    }\\n  }\\n  attr {\\n    key: &quot;_class&quot;\\n    value {\\n      list {\\n        s: &quot;loc:@gradients/Convolution_1st/BiasAdd_grad/BiasAddGrad&quot;\\n      }\\n    }\\n  }\\n}\\nnode {\\n  name: &quot;gradients/Convolution_1st/convolution_grad/Shape&quot;\\n  op: &quot;Shape&quot;\\n  input: &quot;ExpandDims&quot;\\n  attr {\\n    key: &quot;T&quot;\\n    value {\\n      type: DT_FLOAT\\n    }\\n  }\\n  attr {\\n    key: &quot;out_type&quot;\\n    value {\\n      type: DT_INT32\\n    }\\n  }\\n}\\nnode {\\n  name: &quot;gradients/Convolution_1st/convolution_grad/Conv2DBackpropInput&quot;\\n  op: &quot;Conv2DBackpropInput&quot;\\n  input: &quot;gradients/Convolution_1st/convolution_grad/Shape&quot;\\n  input: &quot;Convolution_1st/kernel/read&quot;\\n  input: &quot;gradients/Convolution_1st/BiasAdd_grad/tuple/control_dependency&quot;\\n  attr {\\n    key: &quot;T&quot;\\n    value {\\n      type: DT_FLOAT\\n    }\\n  }\\n  attr {\\n    key: &quot;data_format&quot;\\n    value {\\n      s: &quot;NHWC&quot;\\n    }\\n  }\\n  attr {\\n    key: &quot;padding&quot;\\n    value {\\n      s: &quot;VALID&quot;\\n    }\\n  }\\n  attr {\\n    key: &quot;strides&quot;\\n    value {\\n      list {\\n        i: 1\\n        i: 1\\n        i: 1\\n        i: 1\\n      }\\n    }\\n  }\\n  attr {\\n    key: &quot;use_cudnn_on_gpu&quot;\\n    value {\\n      b: true\\n    }\\n  }\\n}\\nnode {\\n  name: &quot;gradients/Convolution_1st/convolution_grad/Shape_1&quot;\\n  op: &quot;Const&quot;\\n  attr {\\n    key: &quot;dtype&quot;\\n    value {\\n      type: DT_INT32\\n    }\\n  }\\n  attr {\\n    key: &quot;value&quot;\\n    value {\\n      tensor {\\n        dtype: DT_INT32\\n        tensor_shape {\\n          dim {\\n            size: 4\\n          }\\n        }\\n        tensor_content: &quot;\\\\004\\\\000\\\\000\\\\000\\\\310\\\\000\\\\000\\\\000\\\\001\\\\000\\\\000\\\\000\\\\310\\\\000\\\\000\\\\000&quot;\\n      }\\n    }\\n  }\\n}\\nnode {\\n  name: &quot;gradients/Convolution_1st/convolution_grad/Conv2DBackpropFilter&quot;\\n  op: &quot;Conv2DBackpropFilter&quot;\\n  input: &quot;ExpandDims&quot;\\n  input: &quot;gradients/Convolution_1st/convolution_grad/Shape_1&quot;\\n  input: &quot;gradients/Convolution_1st/BiasAdd_grad/tuple/control_dependency&quot;\\n  attr {\\n    key: &quot;T&quot;\\n    value {\\n      type: DT_FLOAT\\n    }\\n  }\\n  attr {\\n    key: &quot;data_format&quot;\\n    value {\\n      s: &quot;NHWC&quot;\\n    }\\n  }\\n  attr {\\n    key: &quot;padding&quot;\\n    value {\\n      s: &quot;VALID&quot;\\n    }\\n  }\\n  attr {\\n    key: &quot;strides&quot;\\n    value {\\n      list {\\n        i: 1\\n        i: 1\\n        i: 1\\n        i: 1\\n      }\\n    }\\n  }\\n  attr {\\n    key: &quot;use_cudnn_on_gpu&quot;\\n    value {\\n      b: true\\n    }\\n  }\\n}\\nnode {\\n  name: &quot;gradients/Convolution_1st/convolution_grad/tuple/group_deps&quot;\\n  op: &quot;NoOp&quot;\\n  input: &quot;^gradients/Convolution_1st/convolution_grad/Conv2DBackpropInput&quot;\\n  input: &quot;^gradients/Convolution_1st/convolution_grad/Conv2DBackpropFilter&quot;\\n}\\nnode {\\n  name: &quot;gradients/Convolution_1st/convolution_grad/tuple/control_dependency&quot;\\n  op: &quot;Identity&quot;\\n  input: &quot;gradients/Convolution_1st/convolution_grad/Conv2DBackpropInput&quot;\\n  input: &quot;^gradients/Convolution_1st/convolution_grad/tuple/group_deps&quot;\\n  attr {\\n    key: &quot;T&quot;\\n    value {\\n      type: DT_FLOAT\\n    }\\n  }\\n  attr {\\n    key: &quot;_class&quot;\\n    value {\\n      list {\\n        s: &quot;loc:@gradients/Convolution_1st/convolution_grad/Conv2DBackpropInput&quot;\\n      }\\n    }\\n  }\\n}\\nnode {\\n  name: &quot;gradients/Convolution_1st/convolution_grad/tuple/control_dependency_1&quot;\\n  op: &quot;Identity&quot;\\n  input: &quot;gradients/Convolution_1st/convolution_grad/Conv2DBackpropFilter&quot;\\n  input: &quot;^gradients/Convolution_1st/convolution_grad/tuple/group_deps&quot;\\n  attr {\\n    key: &quot;T&quot;\\n    value {\\n      type: DT_FLOAT\\n    }\\n  }\\n  attr {\\n    key: &quot;_class&quot;\\n    value {\\n      list {\\n        s: &quot;loc:@gradients/Convolution_1st/convolution_grad/Conv2DBackpropFilter&quot;\\n      }\\n    }\\n  }\\n}\\nnode {\\n  name: &quot;Convolution_1st/kernel/Adadelta/Initializer/zeros&quot;\\n  op: &quot;Const&quot;\\n  attr {\\n    key: &quot;_class&quot;\\n    value {\\n      list {\\n        s: &quot;loc:@Convolution_1st/kernel&quot;\\n      }\\n    }\\n  }\\n  attr {\\n    key: &quot;dtype&quot;\\n    value {\\n      type: DT_FLOAT\\n    }\\n  }\\n  attr {\\n    key: &quot;value&quot;\\n    value {\\n      tensor {\\n        dtype: DT_FLOAT\\n        tensor_shape {\\n          dim {\\n            size: 4\\n          }\\n          dim {\\n            size: 200\\n          }\\n          dim {\\n            size: 1\\n          }\\n          dim {\\n            size: 200\\n          }\\n        }\\n        float_val: 0.0\\n      }\\n    }\\n  }\\n}\\nnode {\\n  name: &quot;Convolution_1st/kernel/Adadelta&quot;\\n  op: &quot;VariableV2&quot;\\n  attr {\\n    key: &quot;_class&quot;\\n    value {\\n      list {\\n        s: &quot;loc:@Convolution_1st/kernel&quot;\\n      }\\n    }\\n  }\\n  attr {\\n    key: &quot;container&quot;\\n    value {\\n      s: &quot;&quot;\\n    }\\n  }\\n  attr {\\n    key: &quot;dtype&quot;\\n    value {\\n      type: DT_FLOAT\\n    }\\n  }\\n  attr {\\n    key: &quot;shape&quot;\\n    value {\\n      shape {\\n        dim {\\n          size: 4\\n        }\\n        dim {\\n          size: 200\\n        }\\n        dim {\\n          size: 1\\n        }\\n        dim {\\n          size: 200\\n        }\\n      }\\n    }\\n  }\\n  attr {\\n    key: &quot;shared_name&quot;\\n    value {\\n      s: &quot;&quot;\\n    }\\n  }\\n}\\nnode {\\n  name: &quot;Convolution_1st/kernel/Adadelta/Assign&quot;\\n  op: &quot;Assign&quot;\\n  input: &quot;Convolution_1st/kernel/Adadelta&quot;\\n  input: &quot;Convolution_1st/kernel/Adadelta/Initializer/zeros&quot;\\n  attr {\\n    key: &quot;T&quot;\\n    value {\\n      type: DT_FLOAT\\n    }\\n  }\\n  attr {\\n    key: &quot;_class&quot;\\n    value {\\n      list {\\n        s: &quot;loc:@Convolution_1st/kernel&quot;\\n      }\\n    }\\n  }\\n  attr {\\n    key: &quot;use_locking&quot;\\n    value {\\n      b: true\\n    }\\n  }\\n  attr {\\n    key: &quot;validate_shape&quot;\\n    value {\\n      b: true\\n    }\\n  }\\n}\\nnode {\\n  name: &quot;Convolution_1st/kernel/Adadelta/read&quot;\\n  op: &quot;Identity&quot;\\n  input: &quot;Convolution_1st/kernel/Adadelta&quot;\\n  attr {\\n    key: &quot;T&quot;\\n    value {\\n      type: DT_FLOAT\\n    }\\n  }\\n  attr {\\n    key: &quot;_class&quot;\\n    value {\\n      list {\\n        s: &quot;loc:@Convolution_1st/kernel&quot;\\n      }\\n    }\\n  }\\n}\\nnode {\\n  name: &quot;Convolution_1st/kernel/Adadelta_1/Initializer/zeros&quot;\\n  op: &quot;Const&quot;\\n  attr {\\n    key: &quot;_class&quot;\\n    value {\\n      list {\\n        s: &quot;loc:@Convolution_1st/kernel&quot;\\n      }\\n    }\\n  }\\n  attr {\\n    key: &quot;dtype&quot;\\n    value {\\n      type: DT_FLOAT\\n    }\\n  }\\n  attr {\\n    key: &quot;value&quot;\\n    value {\\n      tensor {\\n        dtype: DT_FLOAT\\n        tensor_shape {\\n          dim {\\n            size: 4\\n          }\\n          dim {\\n            size: 200\\n          }\\n          dim {\\n            size: 1\\n          }\\n          dim {\\n            size: 200\\n          }\\n        }\\n        float_val: 0.0\\n      }\\n    }\\n  }\\n}\\nnode {\\n  name: &quot;Convolution_1st/kernel/Adadelta_1&quot;\\n  op: &quot;VariableV2&quot;\\n  attr {\\n    key: &quot;_class&quot;\\n    value {\\n      list {\\n        s: &quot;loc:@Convolution_1st/kernel&quot;\\n      }\\n    }\\n  }\\n  attr {\\n    key: &quot;container&quot;\\n    value {\\n      s: &quot;&quot;\\n    }\\n  }\\n  attr {\\n    key: &quot;dtype&quot;\\n    value {\\n      type: DT_FLOAT\\n    }\\n  }\\n  attr {\\n    key: &quot;shape&quot;\\n    value {\\n      shape {\\n        dim {\\n          size: 4\\n        }\\n        dim {\\n          size: 200\\n        }\\n        dim {\\n          size: 1\\n        }\\n        dim {\\n          size: 200\\n        }\\n      }\\n    }\\n  }\\n  attr {\\n    key: &quot;shared_name&quot;\\n    value {\\n      s: &quot;&quot;\\n    }\\n  }\\n}\\nnode {\\n  name: &quot;Convolution_1st/kernel/Adadelta_1/Assign&quot;\\n  op: &quot;Assign&quot;\\n  input: &quot;Convolution_1st/kernel/Adadelta_1&quot;\\n  input: &quot;Convolution_1st/kernel/Adadelta_1/Initializer/zeros&quot;\\n  attr {\\n    key: &quot;T&quot;\\n    value {\\n      type: DT_FLOAT\\n    }\\n  }\\n  attr {\\n    key: &quot;_class&quot;\\n    value {\\n      list {\\n        s: &quot;loc:@Convolution_1st/kernel&quot;\\n      }\\n    }\\n  }\\n  attr {\\n    key: &quot;use_locking&quot;\\n    value {\\n      b: true\\n    }\\n  }\\n  attr {\\n    key: &quot;validate_shape&quot;\\n    value {\\n      b: true\\n    }\\n  }\\n}\\nnode {\\n  name: &quot;Convolution_1st/kernel/Adadelta_1/read&quot;\\n  op: &quot;Identity&quot;\\n  input: &quot;Convolution_1st/kernel/Adadelta_1&quot;\\n  attr {\\n    key: &quot;T&quot;\\n    value {\\n      type: DT_FLOAT\\n    }\\n  }\\n  attr {\\n    key: &quot;_class&quot;\\n    value {\\n      list {\\n        s: &quot;loc:@Convolution_1st/kernel&quot;\\n      }\\n    }\\n  }\\n}\\nnode {\\n  name: &quot;Convolution_1st/bias/Adadelta/Initializer/zeros&quot;\\n  op: &quot;Const&quot;\\n  attr {\\n    key: &quot;_class&quot;\\n    value {\\n      list {\\n        s: &quot;loc:@Convolution_1st/bias&quot;\\n      }\\n    }\\n  }\\n  attr {\\n    key: &quot;dtype&quot;\\n    value {\\n      type: DT_FLOAT\\n    }\\n  }\\n  attr {\\n    key: &quot;value&quot;\\n    value {\\n      tensor {\\n        dtype: DT_FLOAT\\n        tensor_shape {\\n          dim {\\n            size: 200\\n          }\\n        }\\n        float_val: 0.0\\n      }\\n    }\\n  }\\n}\\nnode {\\n  name: &quot;Convolution_1st/bias/Adadelta&quot;\\n  op: &quot;VariableV2&quot;\\n  attr {\\n    key: &quot;_class&quot;\\n    value {\\n      list {\\n        s: &quot;loc:@Convolution_1st/bias&quot;\\n      }\\n    }\\n  }\\n  attr {\\n    key: &quot;container&quot;\\n    value {\\n      s: &quot;&quot;\\n    }\\n  }\\n  attr {\\n    key: &quot;dtype&quot;\\n    value {\\n      type: DT_FLOAT\\n    }\\n  }\\n  attr {\\n    key: &quot;shape&quot;\\n    value {\\n      shape {\\n        dim {\\n          size: 200\\n        }\\n      }\\n    }\\n  }\\n  attr {\\n    key: &quot;shared_name&quot;\\n    value {\\n      s: &quot;&quot;\\n    }\\n  }\\n}\\nnode {\\n  name: &quot;Convolution_1st/bias/Adadelta/Assign&quot;\\n  op: &quot;Assign&quot;\\n  input: &quot;Convolution_1st/bias/Adadelta&quot;\\n  input: &quot;Convolution_1st/bias/Adadelta/Initializer/zeros&quot;\\n  attr {\\n    key: &quot;T&quot;\\n    value {\\n      type: DT_FLOAT\\n    }\\n  }\\n  attr {\\n    key: &quot;_class&quot;\\n    value {\\n      list {\\n        s: &quot;loc:@Convolution_1st/bias&quot;\\n      }\\n    }\\n  }\\n  attr {\\n    key: &quot;use_locking&quot;\\n    value {\\n      b: true\\n    }\\n  }\\n  attr {\\n    key: &quot;validate_shape&quot;\\n    value {\\n      b: true\\n    }\\n  }\\n}\\nnode {\\n  name: &quot;Convolution_1st/bias/Adadelta/read&quot;\\n  op: &quot;Identity&quot;\\n  input: &quot;Convolution_1st/bias/Adadelta&quot;\\n  attr {\\n    key: &quot;T&quot;\\n    value {\\n      type: DT_FLOAT\\n    }\\n  }\\n  attr {\\n    key: &quot;_class&quot;\\n    value {\\n      list {\\n        s: &quot;loc:@Convolution_1st/bias&quot;\\n      }\\n    }\\n  }\\n}\\nnode {\\n  name: &quot;Convolution_1st/bias/Adadelta_1/Initializer/zeros&quot;\\n  op: &quot;Const&quot;\\n  attr {\\n    key: &quot;_class&quot;\\n    value {\\n      list {\\n        s: &quot;loc:@Convolution_1st/bias&quot;\\n      }\\n    }\\n  }\\n  attr {\\n    key: &quot;dtype&quot;\\n    value {\\n      type: DT_FLOAT\\n    }\\n  }\\n  attr {\\n    key: &quot;value&quot;\\n    value {\\n      tensor {\\n        dtype: DT_FLOAT\\n        tensor_shape {\\n          dim {\\n            size: 200\\n          }\\n        }\\n        float_val: 0.0\\n      }\\n    }\\n  }\\n}\\nnode {\\n  name: &quot;Convolution_1st/bias/Adadelta_1&quot;\\n  op: &quot;VariableV2&quot;\\n  attr {\\n    key: &quot;_class&quot;\\n    value {\\n      list {\\n        s: &quot;loc:@Convolution_1st/bias&quot;\\n      }\\n    }\\n  }\\n  attr {\\n    key: &quot;container&quot;\\n    value {\\n      s: &quot;&quot;\\n    }\\n  }\\n  attr {\\n    key: &quot;dtype&quot;\\n    value {\\n      type: DT_FLOAT\\n    }\\n  }\\n  attr {\\n    key: &quot;shape&quot;\\n    value {\\n      shape {\\n        dim {\\n          size: 200\\n        }\\n      }\\n    }\\n  }\\n  attr {\\n    key: &quot;shared_name&quot;\\n    value {\\n      s: &quot;&quot;\\n    }\\n  }\\n}\\nnode {\\n  name: &quot;Convolution_1st/bias/Adadelta_1/Assign&quot;\\n  op: &quot;Assign&quot;\\n  input: &quot;Convolution_1st/bias/Adadelta_1&quot;\\n  input: &quot;Convolution_1st/bias/Adadelta_1/Initializer/zeros&quot;\\n  attr {\\n    key: &quot;T&quot;\\n    value {\\n      type: DT_FLOAT\\n    }\\n  }\\n  attr {\\n    key: &quot;_class&quot;\\n    value {\\n      list {\\n        s: &quot;loc:@Convolution_1st/bias&quot;\\n      }\\n    }\\n  }\\n  attr {\\n    key: &quot;use_locking&quot;\\n    value {\\n      b: true\\n    }\\n  }\\n  attr {\\n    key: &quot;validate_shape&quot;\\n    value {\\n      b: true\\n    }\\n  }\\n}\\nnode {\\n  name: &quot;Convolution_1st/bias/Adadelta_1/read&quot;\\n  op: &quot;Identity&quot;\\n  input: &quot;Convolution_1st/bias/Adadelta_1&quot;\\n  attr {\\n    key: &quot;T&quot;\\n    value {\\n      type: DT_FLOAT\\n    }\\n  }\\n  attr {\\n    key: &quot;_class&quot;\\n    value {\\n      list {\\n        s: &quot;loc:@Convolution_1st/bias&quot;\\n      }\\n    }\\n  }\\n}\\nnode {\\n  name: &quot;Convolution_2nd/kernel/Adadelta/Initializer/zeros&quot;\\n  op: &quot;Const&quot;\\n  attr {\\n    key: &quot;_class&quot;\\n    value {\\n      list {\\n        s: &quot;loc:@Convolution_2nd/kernel&quot;\\n      }\\n    }\\n  }\\n  attr {\\n    key: &quot;dtype&quot;\\n    value {\\n      type: DT_FLOAT\\n    }\\n  }\\n  attr {\\n    key: &quot;value&quot;\\n    value {\\n      tensor {\\n        dtype: DT_FLOAT\\n        tensor_shape {\\n          dim {\\n            size: 3\\n          }\\n          dim {\\n            size: 1\\n          }\\n          dim {\\n            size: 200\\n          }\\n          dim {\\n            size: 200\\n          }\\n        }\\n        float_val: 0.0\\n      }\\n    }\\n  }\\n}\\nnode {\\n  name: &quot;Convolution_2nd/kernel/Adadelta&quot;\\n  op: &quot;VariableV2&quot;\\n  attr {\\n    key: &quot;_class&quot;\\n    value {\\n      list {\\n        s: &quot;loc:@Convolution_2nd/kernel&quot;\\n      }\\n    }\\n  }\\n  attr {\\n    key: &quot;container&quot;\\n    value {\\n      s: &quot;&quot;\\n    }\\n  }\\n  attr {\\n    key: &quot;dtype&quot;\\n    value {\\n      type: DT_FLOAT\\n    }\\n  }\\n  attr {\\n    key: &quot;shape&quot;\\n    value {\\n      shape {\\n        dim {\\n          size: 3\\n        }\\n        dim {\\n          size: 1\\n        }\\n        dim {\\n          size: 200\\n        }\\n        dim {\\n          size: 200\\n        }\\n      }\\n    }\\n  }\\n  attr {\\n    key: &quot;shared_name&quot;\\n    value {\\n      s: &quot;&quot;\\n    }\\n  }\\n}\\nnode {\\n  name: &quot;Convolution_2nd/kernel/Adadelta/Assign&quot;\\n  op: &quot;Assign&quot;\\n  input: &quot;Convolution_2nd/kernel/Adadelta&quot;\\n  input: &quot;Convolution_2nd/kernel/Adadelta/Initializer/zeros&quot;\\n  attr {\\n    key: &quot;T&quot;\\n    value {\\n      type: DT_FLOAT\\n    }\\n  }\\n  attr {\\n    key: &quot;_class&quot;\\n    value {\\n      list {\\n        s: &quot;loc:@Convolution_2nd/kernel&quot;\\n      }\\n    }\\n  }\\n  attr {\\n    key: &quot;use_locking&quot;\\n    value {\\n      b: true\\n    }\\n  }\\n  attr {\\n    key: &quot;validate_shape&quot;\\n    value {\\n      b: true\\n    }\\n  }\\n}\\nnode {\\n  name: &quot;Convolution_2nd/kernel/Adadelta/read&quot;\\n  op: &quot;Identity&quot;\\n  input: &quot;Convolution_2nd/kernel/Adadelta&quot;\\n  attr {\\n    key: &quot;T&quot;\\n    value {\\n      type: DT_FLOAT\\n    }\\n  }\\n  attr {\\n    key: &quot;_class&quot;\\n    value {\\n      list {\\n        s: &quot;loc:@Convolution_2nd/kernel&quot;\\n      }\\n    }\\n  }\\n}\\nnode {\\n  name: &quot;Convolution_2nd/kernel/Adadelta_1/Initializer/zeros&quot;\\n  op: &quot;Const&quot;\\n  attr {\\n    key: &quot;_class&quot;\\n    value {\\n      list {\\n        s: &quot;loc:@Convolution_2nd/kernel&quot;\\n      }\\n    }\\n  }\\n  attr {\\n    key: &quot;dtype&quot;\\n    value {\\n      type: DT_FLOAT\\n    }\\n  }\\n  attr {\\n    key: &quot;value&quot;\\n    value {\\n      tensor {\\n        dtype: DT_FLOAT\\n        tensor_shape {\\n          dim {\\n            size: 3\\n          }\\n          dim {\\n            size: 1\\n          }\\n          dim {\\n            size: 200\\n          }\\n          dim {\\n            size: 200\\n          }\\n        }\\n        float_val: 0.0\\n      }\\n    }\\n  }\\n}\\nnode {\\n  name: &quot;Convolution_2nd/kernel/Adadelta_1&quot;\\n  op: &quot;VariableV2&quot;\\n  attr {\\n    key: &quot;_class&quot;\\n    value {\\n      list {\\n        s: &quot;loc:@Convolution_2nd/kernel&quot;\\n      }\\n    }\\n  }\\n  attr {\\n    key: &quot;container&quot;\\n    value {\\n      s: &quot;&quot;\\n    }\\n  }\\n  attr {\\n    key: &quot;dtype&quot;\\n    value {\\n      type: DT_FLOAT\\n    }\\n  }\\n  attr {\\n    key: &quot;shape&quot;\\n    value {\\n      shape {\\n        dim {\\n          size: 3\\n        }\\n        dim {\\n          size: 1\\n        }\\n        dim {\\n          size: 200\\n        }\\n        dim {\\n          size: 200\\n        }\\n      }\\n    }\\n  }\\n  attr {\\n    key: &quot;shared_name&quot;\\n    value {\\n      s: &quot;&quot;\\n    }\\n  }\\n}\\nnode {\\n  name: &quot;Convolution_2nd/kernel/Adadelta_1/Assign&quot;\\n  op: &quot;Assign&quot;\\n  input: &quot;Convolution_2nd/kernel/Adadelta_1&quot;\\n  input: &quot;Convolution_2nd/kernel/Adadelta_1/Initializer/zeros&quot;\\n  attr {\\n    key: &quot;T&quot;\\n    value {\\n      type: DT_FLOAT\\n    }\\n  }\\n  attr {\\n    key: &quot;_class&quot;\\n    value {\\n      list {\\n        s: &quot;loc:@Convolution_2nd/kernel&quot;\\n      }\\n    }\\n  }\\n  attr {\\n    key: &quot;use_locking&quot;\\n    value {\\n      b: true\\n    }\\n  }\\n  attr {\\n    key: &quot;validate_shape&quot;\\n    value {\\n      b: true\\n    }\\n  }\\n}\\nnode {\\n  name: &quot;Convolution_2nd/kernel/Adadelta_1/read&quot;\\n  op: &quot;Identity&quot;\\n  input: &quot;Convolution_2nd/kernel/Adadelta_1&quot;\\n  attr {\\n    key: &quot;T&quot;\\n    value {\\n      type: DT_FLOAT\\n    }\\n  }\\n  attr {\\n    key: &quot;_class&quot;\\n    value {\\n      list {\\n        s: &quot;loc:@Convolution_2nd/kernel&quot;\\n      }\\n    }\\n  }\\n}\\nnode {\\n  name: &quot;Convolution_2nd/bias/Adadelta/Initializer/zeros&quot;\\n  op: &quot;Const&quot;\\n  attr {\\n    key: &quot;_class&quot;\\n    value {\\n      list {\\n        s: &quot;loc:@Convolution_2nd/bias&quot;\\n      }\\n    }\\n  }\\n  attr {\\n    key: &quot;dtype&quot;\\n    value {\\n      type: DT_FLOAT\\n    }\\n  }\\n  attr {\\n    key: &quot;value&quot;\\n    value {\\n      tensor {\\n        dtype: DT_FLOAT\\n        tensor_shape {\\n          dim {\\n            size: 200\\n          }\\n        }\\n        float_val: 0.0\\n      }\\n    }\\n  }\\n}\\nnode {\\n  name: &quot;Convolution_2nd/bias/Adadelta&quot;\\n  op: &quot;VariableV2&quot;\\n  attr {\\n    key: &quot;_class&quot;\\n    value {\\n      list {\\n        s: &quot;loc:@Convolution_2nd/bias&quot;\\n      }\\n    }\\n  }\\n  attr {\\n    key: &quot;container&quot;\\n    value {\\n      s: &quot;&quot;\\n    }\\n  }\\n  attr {\\n    key: &quot;dtype&quot;\\n    value {\\n      type: DT_FLOAT\\n    }\\n  }\\n  attr {\\n    key: &quot;shape&quot;\\n    value {\\n      shape {\\n        dim {\\n          size: 200\\n        }\\n      }\\n    }\\n  }\\n  attr {\\n    key: &quot;shared_name&quot;\\n    value {\\n      s: &quot;&quot;\\n    }\\n  }\\n}\\nnode {\\n  name: &quot;Convolution_2nd/bias/Adadelta/Assign&quot;\\n  op: &quot;Assign&quot;\\n  input: &quot;Convolution_2nd/bias/Adadelta&quot;\\n  input: &quot;Convolution_2nd/bias/Adadelta/Initializer/zeros&quot;\\n  attr {\\n    key: &quot;T&quot;\\n    value {\\n      type: DT_FLOAT\\n    }\\n  }\\n  attr {\\n    key: &quot;_class&quot;\\n    value {\\n      list {\\n        s: &quot;loc:@Convolution_2nd/bias&quot;\\n      }\\n    }\\n  }\\n  attr {\\n    key: &quot;use_locking&quot;\\n    value {\\n      b: true\\n    }\\n  }\\n  attr {\\n    key: &quot;validate_shape&quot;\\n    value {\\n      b: true\\n    }\\n  }\\n}\\nnode {\\n  name: &quot;Convolution_2nd/bias/Adadelta/read&quot;\\n  op: &quot;Identity&quot;\\n  input: &quot;Convolution_2nd/bias/Adadelta&quot;\\n  attr {\\n    key: &quot;T&quot;\\n    value {\\n      type: DT_FLOAT\\n    }\\n  }\\n  attr {\\n    key: &quot;_class&quot;\\n    value {\\n      list {\\n        s: &quot;loc:@Convolution_2nd/bias&quot;\\n      }\\n    }\\n  }\\n}\\nnode {\\n  name: &quot;Convolution_2nd/bias/Adadelta_1/Initializer/zeros&quot;\\n  op: &quot;Const&quot;\\n  attr {\\n    key: &quot;_class&quot;\\n    value {\\n      list {\\n        s: &quot;loc:@Convolution_2nd/bias&quot;\\n      }\\n    }\\n  }\\n  attr {\\n    key: &quot;dtype&quot;\\n    value {\\n      type: DT_FLOAT\\n    }\\n  }\\n  attr {\\n    key: &quot;value&quot;\\n    value {\\n      tensor {\\n        dtype: DT_FLOAT\\n        tensor_shape {\\n          dim {\\n            size: 200\\n          }\\n        }\\n        float_val: 0.0\\n      }\\n    }\\n  }\\n}\\nnode {\\n  name: &quot;Convolution_2nd/bias/Adadelta_1&quot;\\n  op: &quot;VariableV2&quot;\\n  attr {\\n    key: &quot;_class&quot;\\n    value {\\n      list {\\n        s: &quot;loc:@Convolution_2nd/bias&quot;\\n      }\\n    }\\n  }\\n  attr {\\n    key: &quot;container&quot;\\n    value {\\n      s: &quot;&quot;\\n    }\\n  }\\n  attr {\\n    key: &quot;dtype&quot;\\n    value {\\n      type: DT_FLOAT\\n    }\\n  }\\n  attr {\\n    key: &quot;shape&quot;\\n    value {\\n      shape {\\n        dim {\\n          size: 200\\n        }\\n      }\\n    }\\n  }\\n  attr {\\n    key: &quot;shared_name&quot;\\n    value {\\n      s: &quot;&quot;\\n    }\\n  }\\n}\\nnode {\\n  name: &quot;Convolution_2nd/bias/Adadelta_1/Assign&quot;\\n  op: &quot;Assign&quot;\\n  input: &quot;Convolution_2nd/bias/Adadelta_1&quot;\\n  input: &quot;Convolution_2nd/bias/Adadelta_1/Initializer/zeros&quot;\\n  attr {\\n    key: &quot;T&quot;\\n    value {\\n      type: DT_FLOAT\\n    }\\n  }\\n  attr {\\n    key: &quot;_class&quot;\\n    value {\\n      list {\\n        s: &quot;loc:@Convolution_2nd/bias&quot;\\n      }\\n    }\\n  }\\n  attr {\\n    key: &quot;use_locking&quot;\\n    value {\\n      b: true\\n    }\\n  }\\n  attr {\\n    key: &quot;validate_shape&quot;\\n    value {\\n      b: true\\n    }\\n  }\\n}\\nnode {\\n  name: &quot;Convolution_2nd/bias/Adadelta_1/read&quot;\\n  op: &quot;Identity&quot;\\n  input: &quot;Convolution_2nd/bias/Adadelta_1&quot;\\n  attr {\\n    key: &quot;T&quot;\\n    value {\\n      type: DT_FLOAT\\n    }\\n  }\\n  attr {\\n    key: &quot;_class&quot;\\n    value {\\n      list {\\n        s: &quot;loc:@Convolution_2nd/bias&quot;\\n      }\\n    }\\n  }\\n}\\nnode {\\n  name: &quot;Fully_connect/kernel/Adadelta/Initializer/zeros&quot;\\n  op: &quot;Const&quot;\\n  attr {\\n    key: &quot;_class&quot;\\n    value {\\n      list {\\n        s: &quot;loc:@Fully_connect/kernel&quot;\\n      }\\n    }\\n  }\\n  attr {\\n    key: &quot;dtype&quot;\\n    value {\\n      type: DT_FLOAT\\n    }\\n  }\\n  attr {\\n    key: &quot;value&quot;\\n    value {\\n      tensor {\\n        dtype: DT_FLOAT\\n        tensor_shape {\\n          dim {\\n            size: 200\\n          }\\n          dim {\\n            size: 1024\\n          }\\n        }\\n        float_val: 0.0\\n      }\\n    }\\n  }\\n}\\nnode {\\n  name: &quot;Fully_connect/kernel/Adadelta&quot;\\n  op: &quot;VariableV2&quot;\\n  attr {\\n    key: &quot;_class&quot;\\n    value {\\n      list {\\n        s: &quot;loc:@Fully_connect/kernel&quot;\\n      }\\n    }\\n  }\\n  attr {\\n    key: &quot;container&quot;\\n    value {\\n      s: &quot;&quot;\\n    }\\n  }\\n  attr {\\n    key: &quot;dtype&quot;\\n    value {\\n      type: DT_FLOAT\\n    }\\n  }\\n  attr {\\n    key: &quot;shape&quot;\\n    value {\\n      shape {\\n        dim {\\n          size: 200\\n        }\\n        dim {\\n          size: 1024\\n        }\\n      }\\n    }\\n  }\\n  attr {\\n    key: &quot;shared_name&quot;\\n    value {\\n      s: &quot;&quot;\\n    }\\n  }\\n}\\nnode {\\n  name: &quot;Fully_connect/kernel/Adadelta/Assign&quot;\\n  op: &quot;Assign&quot;\\n  input: &quot;Fully_connect/kernel/Adadelta&quot;\\n  input: &quot;Fully_connect/kernel/Adadelta/Initializer/zeros&quot;\\n  attr {\\n    key: &quot;T&quot;\\n    value {\\n      type: DT_FLOAT\\n    }\\n  }\\n  attr {\\n    key: &quot;_class&quot;\\n    value {\\n      list {\\n        s: &quot;loc:@Fully_connect/kernel&quot;\\n      }\\n    }\\n  }\\n  attr {\\n    key: &quot;use_locking&quot;\\n    value {\\n      b: true\\n    }\\n  }\\n  attr {\\n    key: &quot;validate_shape&quot;\\n    value {\\n      b: true\\n    }\\n  }\\n}\\nnode {\\n  name: &quot;Fully_connect/kernel/Adadelta/read&quot;\\n  op: &quot;Identity&quot;\\n  input: &quot;Fully_connect/kernel/Adadelta&quot;\\n  attr {\\n    key: &quot;T&quot;\\n    value {\\n      type: DT_FLOAT\\n    }\\n  }\\n  attr {\\n    key: &quot;_class&quot;\\n    value {\\n      list {\\n        s: &quot;loc:@Fully_connect/kernel&quot;\\n      }\\n    }\\n  }\\n}\\nnode {\\n  name: &quot;Fully_connect/kernel/Adadelta_1/Initializer/zeros&quot;\\n  op: &quot;Const&quot;\\n  attr {\\n    key: &quot;_class&quot;\\n    value {\\n      list {\\n        s: &quot;loc:@Fully_connect/kernel&quot;\\n      }\\n    }\\n  }\\n  attr {\\n    key: &quot;dtype&quot;\\n    value {\\n      type: DT_FLOAT\\n    }\\n  }\\n  attr {\\n    key: &quot;value&quot;\\n    value {\\n      tensor {\\n        dtype: DT_FLOAT\\n        tensor_shape {\\n          dim {\\n            size: 200\\n          }\\n          dim {\\n            size: 1024\\n          }\\n        }\\n        float_val: 0.0\\n      }\\n    }\\n  }\\n}\\nnode {\\n  name: &quot;Fully_connect/kernel/Adadelta_1&quot;\\n  op: &quot;VariableV2&quot;\\n  attr {\\n    key: &quot;_class&quot;\\n    value {\\n      list {\\n        s: &quot;loc:@Fully_connect/kernel&quot;\\n      }\\n    }\\n  }\\n  attr {\\n    key: &quot;container&quot;\\n    value {\\n      s: &quot;&quot;\\n    }\\n  }\\n  attr {\\n    key: &quot;dtype&quot;\\n    value {\\n      type: DT_FLOAT\\n    }\\n  }\\n  attr {\\n    key: &quot;shape&quot;\\n    value {\\n      shape {\\n        dim {\\n          size: 200\\n        }\\n        dim {\\n          size: 1024\\n        }\\n      }\\n    }\\n  }\\n  attr {\\n    key: &quot;shared_name&quot;\\n    value {\\n      s: &quot;&quot;\\n    }\\n  }\\n}\\nnode {\\n  name: &quot;Fully_connect/kernel/Adadelta_1/Assign&quot;\\n  op: &quot;Assign&quot;\\n  input: &quot;Fully_connect/kernel/Adadelta_1&quot;\\n  input: &quot;Fully_connect/kernel/Adadelta_1/Initializer/zeros&quot;\\n  attr {\\n    key: &quot;T&quot;\\n    value {\\n      type: DT_FLOAT\\n    }\\n  }\\n  attr {\\n    key: &quot;_class&quot;\\n    value {\\n      list {\\n        s: &quot;loc:@Fully_connect/kernel&quot;\\n      }\\n    }\\n  }\\n  attr {\\n    key: &quot;use_locking&quot;\\n    value {\\n      b: true\\n    }\\n  }\\n  attr {\\n    key: &quot;validate_shape&quot;\\n    value {\\n      b: true\\n    }\\n  }\\n}\\nnode {\\n  name: &quot;Fully_connect/kernel/Adadelta_1/read&quot;\\n  op: &quot;Identity&quot;\\n  input: &quot;Fully_connect/kernel/Adadelta_1&quot;\\n  attr {\\n    key: &quot;T&quot;\\n    value {\\n      type: DT_FLOAT\\n    }\\n  }\\n  attr {\\n    key: &quot;_class&quot;\\n    value {\\n      list {\\n        s: &quot;loc:@Fully_connect/kernel&quot;\\n      }\\n    }\\n  }\\n}\\nnode {\\n  name: &quot;Fully_connect/bias/Adadelta/Initializer/zeros&quot;\\n  op: &quot;Const&quot;\\n  attr {\\n    key: &quot;_class&quot;\\n    value {\\n      list {\\n        s: &quot;loc:@Fully_connect/bias&quot;\\n      }\\n    }\\n  }\\n  attr {\\n    key: &quot;dtype&quot;\\n    value {\\n      type: DT_FLOAT\\n    }\\n  }\\n  attr {\\n    key: &quot;value&quot;\\n    value {\\n      tensor {\\n        dtype: DT_FLOAT\\n        tensor_shape {\\n          dim {\\n            size: 1024\\n          }\\n        }\\n        float_val: 0.0\\n      }\\n    }\\n  }\\n}\\nnode {\\n  name: &quot;Fully_connect/bias/Adadelta&quot;\\n  op: &quot;VariableV2&quot;\\n  attr {\\n    key: &quot;_class&quot;\\n    value {\\n      list {\\n        s: &quot;loc:@Fully_connect/bias&quot;\\n      }\\n    }\\n  }\\n  attr {\\n    key: &quot;container&quot;\\n    value {\\n      s: &quot;&quot;\\n    }\\n  }\\n  attr {\\n    key: &quot;dtype&quot;\\n    value {\\n      type: DT_FLOAT\\n    }\\n  }\\n  attr {\\n    key: &quot;shape&quot;\\n    value {\\n      shape {\\n        dim {\\n          size: 1024\\n        }\\n      }\\n    }\\n  }\\n  attr {\\n    key: &quot;shared_name&quot;\\n    value {\\n      s: &quot;&quot;\\n    }\\n  }\\n}\\nnode {\\n  name: &quot;Fully_connect/bias/Adadelta/Assign&quot;\\n  op: &quot;Assign&quot;\\n  input: &quot;Fully_connect/bias/Adadelta&quot;\\n  input: &quot;Fully_connect/bias/Adadelta/Initializer/zeros&quot;\\n  attr {\\n    key: &quot;T&quot;\\n    value {\\n      type: DT_FLOAT\\n    }\\n  }\\n  attr {\\n    key: &quot;_class&quot;\\n    value {\\n      list {\\n        s: &quot;loc:@Fully_connect/bias&quot;\\n      }\\n    }\\n  }\\n  attr {\\n    key: &quot;use_locking&quot;\\n    value {\\n      b: true\\n    }\\n  }\\n  attr {\\n    key: &quot;validate_shape&quot;\\n    value {\\n      b: true\\n    }\\n  }\\n}\\nnode {\\n  name: &quot;Fully_connect/bias/Adadelta/read&quot;\\n  op: &quot;Identity&quot;\\n  input: &quot;Fully_connect/bias/Adadelta&quot;\\n  attr {\\n    key: &quot;T&quot;\\n    value {\\n      type: DT_FLOAT\\n    }\\n  }\\n  attr {\\n    key: &quot;_class&quot;\\n    value {\\n      list {\\n        s: &quot;loc:@Fully_connect/bias&quot;\\n      }\\n    }\\n  }\\n}\\nnode {\\n  name: &quot;Fully_connect/bias/Adadelta_1/Initializer/zeros&quot;\\n  op: &quot;Const&quot;\\n  attr {\\n    key: &quot;_class&quot;\\n    value {\\n      list {\\n        s: &quot;loc:@Fully_connect/bias&quot;\\n      }\\n    }\\n  }\\n  attr {\\n    key: &quot;dtype&quot;\\n    value {\\n      type: DT_FLOAT\\n    }\\n  }\\n  attr {\\n    key: &quot;value&quot;\\n    value {\\n      tensor {\\n        dtype: DT_FLOAT\\n        tensor_shape {\\n          dim {\\n            size: 1024\\n          }\\n        }\\n        float_val: 0.0\\n      }\\n    }\\n  }\\n}\\nnode {\\n  name: &quot;Fully_connect/bias/Adadelta_1&quot;\\n  op: &quot;VariableV2&quot;\\n  attr {\\n    key: &quot;_class&quot;\\n    value {\\n      list {\\n        s: &quot;loc:@Fully_connect/bias&quot;\\n      }\\n    }\\n  }\\n  attr {\\n    key: &quot;container&quot;\\n    value {\\n      s: &quot;&quot;\\n    }\\n  }\\n  attr {\\n    key: &quot;dtype&quot;\\n    value {\\n      type: DT_FLOAT\\n    }\\n  }\\n  attr {\\n    key: &quot;shape&quot;\\n    value {\\n      shape {\\n        dim {\\n          size: 1024\\n        }\\n      }\\n    }\\n  }\\n  attr {\\n    key: &quot;shared_name&quot;\\n    value {\\n      s: &quot;&quot;\\n    }\\n  }\\n}\\nnode {\\n  name: &quot;Fully_connect/bias/Adadelta_1/Assign&quot;\\n  op: &quot;Assign&quot;\\n  input: &quot;Fully_connect/bias/Adadelta_1&quot;\\n  input: &quot;Fully_connect/bias/Adadelta_1/Initializer/zeros&quot;\\n  attr {\\n    key: &quot;T&quot;\\n    value {\\n      type: DT_FLOAT\\n    }\\n  }\\n  attr {\\n    key: &quot;_class&quot;\\n    value {\\n      list {\\n        s: &quot;loc:@Fully_connect/bias&quot;\\n      }\\n    }\\n  }\\n  attr {\\n    key: &quot;use_locking&quot;\\n    value {\\n      b: true\\n    }\\n  }\\n  attr {\\n    key: &quot;validate_shape&quot;\\n    value {\\n      b: true\\n    }\\n  }\\n}\\nnode {\\n  name: &quot;Fully_connect/bias/Adadelta_1/read&quot;\\n  op: &quot;Identity&quot;\\n  input: &quot;Fully_connect/bias/Adadelta_1&quot;\\n  attr {\\n    key: &quot;T&quot;\\n    value {\\n      type: DT_FLOAT\\n    }\\n  }\\n  attr {\\n    key: &quot;_class&quot;\\n    value {\\n      list {\\n        s: &quot;loc:@Fully_connect/bias&quot;\\n      }\\n    }\\n  }\\n}\\nnode {\\n  name: &quot;Softmax/kernel/Adadelta/Initializer/zeros&quot;\\n  op: &quot;Const&quot;\\n  attr {\\n    key: &quot;_class&quot;\\n    value {\\n      list {\\n        s: &quot;loc:@Softmax/kernel&quot;\\n      }\\n    }\\n  }\\n  attr {\\n    key: &quot;dtype&quot;\\n    value {\\n      type: DT_FLOAT\\n    }\\n  }\\n  attr {\\n    key: &quot;value&quot;\\n    value {\\n      tensor {\\n        dtype: DT_FLOAT\\n        tensor_shape {\\n          dim {\\n            size: 1024\\n          }\\n          dim {\\n            size: 3\\n          }\\n        }\\n        float_val: 0.0\\n      }\\n    }\\n  }\\n}\\nnode {\\n  name: &quot;Softmax/kernel/Adadelta&quot;\\n  op: &quot;VariableV2&quot;\\n  attr {\\n    key: &quot;_class&quot;\\n    value {\\n      list {\\n        s: &quot;loc:@Softmax/kernel&quot;\\n      }\\n    }\\n  }\\n  attr {\\n    key: &quot;container&quot;\\n    value {\\n      s: &quot;&quot;\\n    }\\n  }\\n  attr {\\n    key: &quot;dtype&quot;\\n    value {\\n      type: DT_FLOAT\\n    }\\n  }\\n  attr {\\n    key: &quot;shape&quot;\\n    value {\\n      shape {\\n        dim {\\n          size: 1024\\n        }\\n        dim {\\n          size: 3\\n        }\\n      }\\n    }\\n  }\\n  attr {\\n    key: &quot;shared_name&quot;\\n    value {\\n      s: &quot;&quot;\\n    }\\n  }\\n}\\nnode {\\n  name: &quot;Softmax/kernel/Adadelta/Assign&quot;\\n  op: &quot;Assign&quot;\\n  input: &quot;Softmax/kernel/Adadelta&quot;\\n  input: &quot;Softmax/kernel/Adadelta/Initializer/zeros&quot;\\n  attr {\\n    key: &quot;T&quot;\\n    value {\\n      type: DT_FLOAT\\n    }\\n  }\\n  attr {\\n    key: &quot;_class&quot;\\n    value {\\n      list {\\n        s: &quot;loc:@Softmax/kernel&quot;\\n      }\\n    }\\n  }\\n  attr {\\n    key: &quot;use_locking&quot;\\n    value {\\n      b: true\\n    }\\n  }\\n  attr {\\n    key: &quot;validate_shape&quot;\\n    value {\\n      b: true\\n    }\\n  }\\n}\\nnode {\\n  name: &quot;Softmax/kernel/Adadelta/read&quot;\\n  op: &quot;Identity&quot;\\n  input: &quot;Softmax/kernel/Adadelta&quot;\\n  attr {\\n    key: &quot;T&quot;\\n    value {\\n      type: DT_FLOAT\\n    }\\n  }\\n  attr {\\n    key: &quot;_class&quot;\\n    value {\\n      list {\\n        s: &quot;loc:@Softmax/kernel&quot;\\n      }\\n    }\\n  }\\n}\\nnode {\\n  name: &quot;Softmax/kernel/Adadelta_1/Initializer/zeros&quot;\\n  op: &quot;Const&quot;\\n  attr {\\n    key: &quot;_class&quot;\\n    value {\\n      list {\\n        s: &quot;loc:@Softmax/kernel&quot;\\n      }\\n    }\\n  }\\n  attr {\\n    key: &quot;dtype&quot;\\n    value {\\n      type: DT_FLOAT\\n    }\\n  }\\n  attr {\\n    key: &quot;value&quot;\\n    value {\\n      tensor {\\n        dtype: DT_FLOAT\\n        tensor_shape {\\n          dim {\\n            size: 1024\\n          }\\n          dim {\\n            size: 3\\n          }\\n        }\\n        float_val: 0.0\\n      }\\n    }\\n  }\\n}\\nnode {\\n  name: &quot;Softmax/kernel/Adadelta_1&quot;\\n  op: &quot;VariableV2&quot;\\n  attr {\\n    key: &quot;_class&quot;\\n    value {\\n      list {\\n        s: &quot;loc:@Softmax/kernel&quot;\\n      }\\n    }\\n  }\\n  attr {\\n    key: &quot;container&quot;\\n    value {\\n      s: &quot;&quot;\\n    }\\n  }\\n  attr {\\n    key: &quot;dtype&quot;\\n    value {\\n      type: DT_FLOAT\\n    }\\n  }\\n  attr {\\n    key: &quot;shape&quot;\\n    value {\\n      shape {\\n        dim {\\n          size: 1024\\n        }\\n        dim {\\n          size: 3\\n        }\\n      }\\n    }\\n  }\\n  attr {\\n    key: &quot;shared_name&quot;\\n    value {\\n      s: &quot;&quot;\\n    }\\n  }\\n}\\nnode {\\n  name: &quot;Softmax/kernel/Adadelta_1/Assign&quot;\\n  op: &quot;Assign&quot;\\n  input: &quot;Softmax/kernel/Adadelta_1&quot;\\n  input: &quot;Softmax/kernel/Adadelta_1/Initializer/zeros&quot;\\n  attr {\\n    key: &quot;T&quot;\\n    value {\\n      type: DT_FLOAT\\n    }\\n  }\\n  attr {\\n    key: &quot;_class&quot;\\n    value {\\n      list {\\n        s: &quot;loc:@Softmax/kernel&quot;\\n      }\\n    }\\n  }\\n  attr {\\n    key: &quot;use_locking&quot;\\n    value {\\n      b: true\\n    }\\n  }\\n  attr {\\n    key: &quot;validate_shape&quot;\\n    value {\\n      b: true\\n    }\\n  }\\n}\\nnode {\\n  name: &quot;Softmax/kernel/Adadelta_1/read&quot;\\n  op: &quot;Identity&quot;\\n  input: &quot;Softmax/kernel/Adadelta_1&quot;\\n  attr {\\n    key: &quot;T&quot;\\n    value {\\n      type: DT_FLOAT\\n    }\\n  }\\n  attr {\\n    key: &quot;_class&quot;\\n    value {\\n      list {\\n        s: &quot;loc:@Softmax/kernel&quot;\\n      }\\n    }\\n  }\\n}\\nnode {\\n  name: &quot;Softmax/bias/Adadelta/Initializer/zeros&quot;\\n  op: &quot;Const&quot;\\n  attr {\\n    key: &quot;_class&quot;\\n    value {\\n      list {\\n        s: &quot;loc:@Softmax/bias&quot;\\n      }\\n    }\\n  }\\n  attr {\\n    key: &quot;dtype&quot;\\n    value {\\n      type: DT_FLOAT\\n    }\\n  }\\n  attr {\\n    key: &quot;value&quot;\\n    value {\\n      tensor {\\n        dtype: DT_FLOAT\\n        tensor_shape {\\n          dim {\\n            size: 3\\n          }\\n        }\\n        float_val: 0.0\\n      }\\n    }\\n  }\\n}\\nnode {\\n  name: &quot;Softmax/bias/Adadelta&quot;\\n  op: &quot;VariableV2&quot;\\n  attr {\\n    key: &quot;_class&quot;\\n    value {\\n      list {\\n        s: &quot;loc:@Softmax/bias&quot;\\n      }\\n    }\\n  }\\n  attr {\\n    key: &quot;container&quot;\\n    value {\\n      s: &quot;&quot;\\n    }\\n  }\\n  attr {\\n    key: &quot;dtype&quot;\\n    value {\\n      type: DT_FLOAT\\n    }\\n  }\\n  attr {\\n    key: &quot;shape&quot;\\n    value {\\n      shape {\\n        dim {\\n          size: 3\\n        }\\n      }\\n    }\\n  }\\n  attr {\\n    key: &quot;shared_name&quot;\\n    value {\\n      s: &quot;&quot;\\n    }\\n  }\\n}\\nnode {\\n  name: &quot;Softmax/bias/Adadelta/Assign&quot;\\n  op: &quot;Assign&quot;\\n  input: &quot;Softmax/bias/Adadelta&quot;\\n  input: &quot;Softmax/bias/Adadelta/Initializer/zeros&quot;\\n  attr {\\n    key: &quot;T&quot;\\n    value {\\n      type: DT_FLOAT\\n    }\\n  }\\n  attr {\\n    key: &quot;_class&quot;\\n    value {\\n      list {\\n        s: &quot;loc:@Softmax/bias&quot;\\n      }\\n    }\\n  }\\n  attr {\\n    key: &quot;use_locking&quot;\\n    value {\\n      b: true\\n    }\\n  }\\n  attr {\\n    key: &quot;validate_shape&quot;\\n    value {\\n      b: true\\n    }\\n  }\\n}\\nnode {\\n  name: &quot;Softmax/bias/Adadelta/read&quot;\\n  op: &quot;Identity&quot;\\n  input: &quot;Softmax/bias/Adadelta&quot;\\n  attr {\\n    key: &quot;T&quot;\\n    value {\\n      type: DT_FLOAT\\n    }\\n  }\\n  attr {\\n    key: &quot;_class&quot;\\n    value {\\n      list {\\n        s: &quot;loc:@Softmax/bias&quot;\\n      }\\n    }\\n  }\\n}\\nnode {\\n  name: &quot;Softmax/bias/Adadelta_1/Initializer/zeros&quot;\\n  op: &quot;Const&quot;\\n  attr {\\n    key: &quot;_class&quot;\\n    value {\\n      list {\\n        s: &quot;loc:@Softmax/bias&quot;\\n      }\\n    }\\n  }\\n  attr {\\n    key: &quot;dtype&quot;\\n    value {\\n      type: DT_FLOAT\\n    }\\n  }\\n  attr {\\n    key: &quot;value&quot;\\n    value {\\n      tensor {\\n        dtype: DT_FLOAT\\n        tensor_shape {\\n          dim {\\n            size: 3\\n          }\\n        }\\n        float_val: 0.0\\n      }\\n    }\\n  }\\n}\\nnode {\\n  name: &quot;Softmax/bias/Adadelta_1&quot;\\n  op: &quot;VariableV2&quot;\\n  attr {\\n    key: &quot;_class&quot;\\n    value {\\n      list {\\n        s: &quot;loc:@Softmax/bias&quot;\\n      }\\n    }\\n  }\\n  attr {\\n    key: &quot;container&quot;\\n    value {\\n      s: &quot;&quot;\\n    }\\n  }\\n  attr {\\n    key: &quot;dtype&quot;\\n    value {\\n      type: DT_FLOAT\\n    }\\n  }\\n  attr {\\n    key: &quot;shape&quot;\\n    value {\\n      shape {\\n        dim {\\n          size: 3\\n        }\\n      }\\n    }\\n  }\\n  attr {\\n    key: &quot;shared_name&quot;\\n    value {\\n      s: &quot;&quot;\\n    }\\n  }\\n}\\nnode {\\n  name: &quot;Softmax/bias/Adadelta_1/Assign&quot;\\n  op: &quot;Assign&quot;\\n  input: &quot;Softmax/bias/Adadelta_1&quot;\\n  input: &quot;Softmax/bias/Adadelta_1/Initializer/zeros&quot;\\n  attr {\\n    key: &quot;T&quot;\\n    value {\\n      type: DT_FLOAT\\n    }\\n  }\\n  attr {\\n    key: &quot;_class&quot;\\n    value {\\n      list {\\n        s: &quot;loc:@Softmax/bias&quot;\\n      }\\n    }\\n  }\\n  attr {\\n    key: &quot;use_locking&quot;\\n    value {\\n      b: true\\n    }\\n  }\\n  attr {\\n    key: &quot;validate_shape&quot;\\n    value {\\n      b: true\\n    }\\n  }\\n}\\nnode {\\n  name: &quot;Softmax/bias/Adadelta_1/read&quot;\\n  op: &quot;Identity&quot;\\n  input: &quot;Softmax/bias/Adadelta_1&quot;\\n  attr {\\n    key: &quot;T&quot;\\n    value {\\n      type: DT_FLOAT\\n    }\\n  }\\n  attr {\\n    key: &quot;_class&quot;\\n    value {\\n      list {\\n        s: &quot;loc:@Softmax/bias&quot;\\n      }\\n    }\\n  }\\n}\\nnode {\\n  name: &quot;Adadelta/lr&quot;\\n  op: &quot;Const&quot;\\n  attr {\\n    key: &quot;dtype&quot;\\n    value {\\n      type: DT_INT32\\n    }\\n  }\\n  attr {\\n    key: &quot;value&quot;\\n    value {\\n      tensor {\\n        dtype: DT_INT32\\n        tensor_shape {\\n        }\\n        int_val: 1\\n      }\\n    }\\n  }\\n}\\nnode {\\n  name: &quot;Adadelta/rho&quot;\\n  op: &quot;Const&quot;\\n  attr {\\n    key: &quot;dtype&quot;\\n    value {\\n      type: DT_FLOAT\\n    }\\n  }\\n  attr {\\n    key: &quot;value&quot;\\n    value {\\n      tensor {\\n        dtype: DT_FLOAT\\n        tensor_shape {\\n        }\\n        float_val: 0.949999988079071\\n      }\\n    }\\n  }\\n}\\nnode {\\n  name: &quot;Adadelta/epsilon&quot;\\n  op: &quot;Const&quot;\\n  attr {\\n    key: &quot;dtype&quot;\\n    value {\\n      type: DT_FLOAT\\n    }\\n  }\\n  attr {\\n    key: &quot;value&quot;\\n    value {\\n      tensor {\\n        dtype: DT_FLOAT\\n        tensor_shape {\\n        }\\n        float_val: 9.999999974752427e-07\\n      }\\n    }\\n  }\\n}\\nnode {\\n  name: &quot;Adadelta/update_Convolution_1st/kernel/Cast&quot;\\n  op: &quot;Cast&quot;\\n  input: &quot;Adadelta/lr&quot;\\n  attr {\\n    key: &quot;DstT&quot;\\n    value {\\n      type: DT_FLOAT\\n    }\\n  }\\n  attr {\\n    key: &quot;SrcT&quot;\\n    value {\\n      type: DT_INT32\\n    }\\n  }\\n  attr {\\n    key: &quot;_class&quot;\\n    value {\\n      list {\\n        s: &quot;loc:@Convolution_1st/kernel&quot;\\n      }\\n    }\\n  }\\n}\\nnode {\\n  name: &quot;Adadelta/update_Convolution_1st/kernel/ApplyAdadelta&quot;\\n  op: &quot;ApplyAdadelta&quot;\\n  input: &quot;Convolution_1st/kernel&quot;\\n  input: &quot;Convolution_1st/kernel/Adadelta&quot;\\n  input: &quot;Convolution_1st/kernel/Adadelta_1&quot;\\n  input: &quot;Adadelta/update_Convolution_1st/kernel/Cast&quot;\\n  input: &quot;Adadelta/rho&quot;\\n  input: &quot;Adadelta/epsilon&quot;\\n  input: &quot;gradients/Convolution_1st/convolution_grad/tuple/control_dependency_1&quot;\\n  attr {\\n    key: &quot;T&quot;\\n    value {\\n      type: DT_FLOAT\\n    }\\n  }\\n  attr {\\n    key: &quot;_class&quot;\\n    value {\\n      list {\\n        s: &quot;loc:@Convolution_1st/kernel&quot;\\n      }\\n    }\\n  }\\n  attr {\\n    key: &quot;use_locking&quot;\\n    value {\\n      b: false\\n    }\\n  }\\n}\\nnode {\\n  name: &quot;Adadelta/update_Convolution_1st/bias/Cast&quot;\\n  op: &quot;Cast&quot;\\n  input: &quot;Adadelta/lr&quot;\\n  attr {\\n    key: &quot;DstT&quot;\\n    value {\\n      type: DT_FLOAT\\n    }\\n  }\\n  attr {\\n    key: &quot;SrcT&quot;\\n    value {\\n      type: DT_INT32\\n    }\\n  }\\n  attr {\\n    key: &quot;_class&quot;\\n    value {\\n      list {\\n        s: &quot;loc:@Convolution_1st/bias&quot;\\n      }\\n    }\\n  }\\n}\\nnode {\\n  name: &quot;Adadelta/update_Convolution_1st/bias/ApplyAdadelta&quot;\\n  op: &quot;ApplyAdadelta&quot;\\n  input: &quot;Convolution_1st/bias&quot;\\n  input: &quot;Convolution_1st/bias/Adadelta&quot;\\n  input: &quot;Convolution_1st/bias/Adadelta_1&quot;\\n  input: &quot;Adadelta/update_Convolution_1st/bias/Cast&quot;\\n  input: &quot;Adadelta/rho&quot;\\n  input: &quot;Adadelta/epsilon&quot;\\n  input: &quot;gradients/Convolution_1st/BiasAdd_grad/tuple/control_dependency_1&quot;\\n  attr {\\n    key: &quot;T&quot;\\n    value {\\n      type: DT_FLOAT\\n    }\\n  }\\n  attr {\\n    key: &quot;_class&quot;\\n    value {\\n      list {\\n        s: &quot;loc:@Convolution_1st/bias&quot;\\n      }\\n    }\\n  }\\n  attr {\\n    key: &quot;use_locking&quot;\\n    value {\\n      b: false\\n    }\\n  }\\n}\\nnode {\\n  name: &quot;Adadelta/update_Convolution_2nd/kernel/Cast&quot;\\n  op: &quot;Cast&quot;\\n  input: &quot;Adadelta/lr&quot;\\n  attr {\\n    key: &quot;DstT&quot;\\n    value {\\n      type: DT_FLOAT\\n    }\\n  }\\n  attr {\\n    key: &quot;SrcT&quot;\\n    value {\\n      type: DT_INT32\\n    }\\n  }\\n  attr {\\n    key: &quot;_class&quot;\\n    value {\\n      list {\\n        s: &quot;loc:@Convolution_2nd/kernel&quot;\\n      }\\n    }\\n  }\\n}\\nnode {\\n  name: &quot;Adadelta/update_Convolution_2nd/kernel/ApplyAdadelta&quot;\\n  op: &quot;ApplyAdadelta&quot;\\n  input: &quot;Convolution_2nd/kernel&quot;\\n  input: &quot;Convolution_2nd/kernel/Adadelta&quot;\\n  input: &quot;Convolution_2nd/kernel/Adadelta_1&quot;\\n  input: &quot;Adadelta/update_Convolution_2nd/kernel/Cast&quot;\\n  input: &quot;Adadelta/rho&quot;\\n  input: &quot;Adadelta/epsilon&quot;\\n  input: &quot;gradients/Convolution_2nd/convolution_grad/tuple/control_dependency_1&quot;\\n  attr {\\n    key: &quot;T&quot;\\n    value {\\n      type: DT_FLOAT\\n    }\\n  }\\n  attr {\\n    key: &quot;_class&quot;\\n    value {\\n      list {\\n        s: &quot;loc:@Convolution_2nd/kernel&quot;\\n      }\\n    }\\n  }\\n  attr {\\n    key: &quot;use_locking&quot;\\n    value {\\n      b: false\\n    }\\n  }\\n}\\nnode {\\n  name: &quot;Adadelta/update_Convolution_2nd/bias/Cast&quot;\\n  op: &quot;Cast&quot;\\n  input: &quot;Adadelta/lr&quot;\\n  attr {\\n    key: &quot;DstT&quot;\\n    value {\\n      type: DT_FLOAT\\n    }\\n  }\\n  attr {\\n    key: &quot;SrcT&quot;\\n    value {\\n      type: DT_INT32\\n    }\\n  }\\n  attr {\\n    key: &quot;_class&quot;\\n    value {\\n      list {\\n        s: &quot;loc:@Convolution_2nd/bias&quot;\\n      }\\n    }\\n  }\\n}\\nnode {\\n  name: &quot;Adadelta/update_Convolution_2nd/bias/ApplyAdadelta&quot;\\n  op: &quot;ApplyAdadelta&quot;\\n  input: &quot;Convolution_2nd/bias&quot;\\n  input: &quot;Convolution_2nd/bias/Adadelta&quot;\\n  input: &quot;Convolution_2nd/bias/Adadelta_1&quot;\\n  input: &quot;Adadelta/update_Convolution_2nd/bias/Cast&quot;\\n  input: &quot;Adadelta/rho&quot;\\n  input: &quot;Adadelta/epsilon&quot;\\n  input: &quot;gradients/Convolution_2nd/BiasAdd_grad/tuple/control_dependency_1&quot;\\n  attr {\\n    key: &quot;T&quot;\\n    value {\\n      type: DT_FLOAT\\n    }\\n  }\\n  attr {\\n    key: &quot;_class&quot;\\n    value {\\n      list {\\n        s: &quot;loc:@Convolution_2nd/bias&quot;\\n      }\\n    }\\n  }\\n  attr {\\n    key: &quot;use_locking&quot;\\n    value {\\n      b: false\\n    }\\n  }\\n}\\nnode {\\n  name: &quot;Adadelta/update_Fully_connect/kernel/Cast&quot;\\n  op: &quot;Cast&quot;\\n  input: &quot;Adadelta/lr&quot;\\n  attr {\\n    key: &quot;DstT&quot;\\n    value {\\n      type: DT_FLOAT\\n    }\\n  }\\n  attr {\\n    key: &quot;SrcT&quot;\\n    value {\\n      type: DT_INT32\\n    }\\n  }\\n  attr {\\n    key: &quot;_class&quot;\\n    value {\\n      list {\\n        s: &quot;loc:@Fully_connect/kernel&quot;\\n      }\\n    }\\n  }\\n}\\nnode {\\n  name: &quot;Adadelta/update_Fully_connect/kernel/ApplyAdadelta&quot;\\n  op: &quot;ApplyAdadelta&quot;\\n  input: &quot;Fully_connect/kernel&quot;\\n  input: &quot;Fully_connect/kernel/Adadelta&quot;\\n  input: &quot;Fully_connect/kernel/Adadelta_1&quot;\\n  input: &quot;Adadelta/update_Fully_connect/kernel/Cast&quot;\\n  input: &quot;Adadelta/rho&quot;\\n  input: &quot;Adadelta/epsilon&quot;\\n  input: &quot;gradients/Fully_connect/MatMul_grad/tuple/control_dependency_1&quot;\\n  attr {\\n    key: &quot;T&quot;\\n    value {\\n      type: DT_FLOAT\\n    }\\n  }\\n  attr {\\n    key: &quot;_class&quot;\\n    value {\\n      list {\\n        s: &quot;loc:@Fully_connect/kernel&quot;\\n      }\\n    }\\n  }\\n  attr {\\n    key: &quot;use_locking&quot;\\n    value {\\n      b: false\\n    }\\n  }\\n}\\nnode {\\n  name: &quot;Adadelta/update_Fully_connect/bias/Cast&quot;\\n  op: &quot;Cast&quot;\\n  input: &quot;Adadelta/lr&quot;\\n  attr {\\n    key: &quot;DstT&quot;\\n    value {\\n      type: DT_FLOAT\\n    }\\n  }\\n  attr {\\n    key: &quot;SrcT&quot;\\n    value {\\n      type: DT_INT32\\n    }\\n  }\\n  attr {\\n    key: &quot;_class&quot;\\n    value {\\n      list {\\n        s: &quot;loc:@Fully_connect/bias&quot;\\n      }\\n    }\\n  }\\n}\\nnode {\\n  name: &quot;Adadelta/update_Fully_connect/bias/ApplyAdadelta&quot;\\n  op: &quot;ApplyAdadelta&quot;\\n  input: &quot;Fully_connect/bias&quot;\\n  input: &quot;Fully_connect/bias/Adadelta&quot;\\n  input: &quot;Fully_connect/bias/Adadelta_1&quot;\\n  input: &quot;Adadelta/update_Fully_connect/bias/Cast&quot;\\n  input: &quot;Adadelta/rho&quot;\\n  input: &quot;Adadelta/epsilon&quot;\\n  input: &quot;gradients/Fully_connect/BiasAdd_grad/tuple/control_dependency_1&quot;\\n  attr {\\n    key: &quot;T&quot;\\n    value {\\n      type: DT_FLOAT\\n    }\\n  }\\n  attr {\\n    key: &quot;_class&quot;\\n    value {\\n      list {\\n        s: &quot;loc:@Fully_connect/bias&quot;\\n      }\\n    }\\n  }\\n  attr {\\n    key: &quot;use_locking&quot;\\n    value {\\n      b: false\\n    }\\n  }\\n}\\nnode {\\n  name: &quot;Adadelta/update_Softmax/kernel/Cast&quot;\\n  op: &quot;Cast&quot;\\n  input: &quot;Adadelta/lr&quot;\\n  attr {\\n    key: &quot;DstT&quot;\\n    value {\\n      type: DT_FLOAT\\n    }\\n  }\\n  attr {\\n    key: &quot;SrcT&quot;\\n    value {\\n      type: DT_INT32\\n    }\\n  }\\n  attr {\\n    key: &quot;_class&quot;\\n    value {\\n      list {\\n        s: &quot;loc:@Softmax/kernel&quot;\\n      }\\n    }\\n  }\\n}\\nnode {\\n  name: &quot;Adadelta/update_Softmax/kernel/ApplyAdadelta&quot;\\n  op: &quot;ApplyAdadelta&quot;\\n  input: &quot;Softmax/kernel&quot;\\n  input: &quot;Softmax/kernel/Adadelta&quot;\\n  input: &quot;Softmax/kernel/Adadelta_1&quot;\\n  input: &quot;Adadelta/update_Softmax/kernel/Cast&quot;\\n  input: &quot;Adadelta/rho&quot;\\n  input: &quot;Adadelta/epsilon&quot;\\n  input: &quot;gradients/Softmax/MatMul_grad/tuple/control_dependency_1&quot;\\n  attr {\\n    key: &quot;T&quot;\\n    value {\\n      type: DT_FLOAT\\n    }\\n  }\\n  attr {\\n    key: &quot;_class&quot;\\n    value {\\n      list {\\n        s: &quot;loc:@Softmax/kernel&quot;\\n      }\\n    }\\n  }\\n  attr {\\n    key: &quot;use_locking&quot;\\n    value {\\n      b: false\\n    }\\n  }\\n}\\nnode {\\n  name: &quot;Adadelta/update_Softmax/bias/Cast&quot;\\n  op: &quot;Cast&quot;\\n  input: &quot;Adadelta/lr&quot;\\n  attr {\\n    key: &quot;DstT&quot;\\n    value {\\n      type: DT_FLOAT\\n    }\\n  }\\n  attr {\\n    key: &quot;SrcT&quot;\\n    value {\\n      type: DT_INT32\\n    }\\n  }\\n  attr {\\n    key: &quot;_class&quot;\\n    value {\\n      list {\\n        s: &quot;loc:@Softmax/bias&quot;\\n      }\\n    }\\n  }\\n}\\nnode {\\n  name: &quot;Adadelta/update_Softmax/bias/ApplyAdadelta&quot;\\n  op: &quot;ApplyAdadelta&quot;\\n  input: &quot;Softmax/bias&quot;\\n  input: &quot;Softmax/bias/Adadelta&quot;\\n  input: &quot;Softmax/bias/Adadelta_1&quot;\\n  input: &quot;Adadelta/update_Softmax/bias/Cast&quot;\\n  input: &quot;Adadelta/rho&quot;\\n  input: &quot;Adadelta/epsilon&quot;\\n  input: &quot;gradients/Softmax/BiasAdd_grad/tuple/control_dependency_1&quot;\\n  attr {\\n    key: &quot;T&quot;\\n    value {\\n      type: DT_FLOAT\\n    }\\n  }\\n  attr {\\n    key: &quot;_class&quot;\\n    value {\\n      list {\\n        s: &quot;loc:@Softmax/bias&quot;\\n      }\\n    }\\n  }\\n  attr {\\n    key: &quot;use_locking&quot;\\n    value {\\n      b: false\\n    }\\n  }\\n}\\nnode {\\n  name: &quot;Adadelta&quot;\\n  op: &quot;NoOp&quot;\\n  input: &quot;^Adadelta/update_Convolution_1st/kernel/ApplyAdadelta&quot;\\n  input: &quot;^Adadelta/update_Convolution_1st/bias/ApplyAdadelta&quot;\\n  input: &quot;^Adadelta/update_Convolution_2nd/kernel/ApplyAdadelta&quot;\\n  input: &quot;^Adadelta/update_Convolution_2nd/bias/ApplyAdadelta&quot;\\n  input: &quot;^Adadelta/update_Fully_connect/kernel/ApplyAdadelta&quot;\\n  input: &quot;^Adadelta/update_Fully_connect/bias/ApplyAdadelta&quot;\\n  input: &quot;^Adadelta/update_Softmax/kernel/ApplyAdadelta&quot;\\n  input: &quot;^Adadelta/update_Softmax/bias/ApplyAdadelta&quot;\\n}\\nnode {\\n  name: &quot;ArgMax/dimension&quot;\\n  op: &quot;Const&quot;\\n  attr {\\n    key: &quot;dtype&quot;\\n    value {\\n      type: DT_INT32\\n    }\\n  }\\n  attr {\\n    key: &quot;value&quot;\\n    value {\\n      tensor {\\n        dtype: DT_INT32\\n        tensor_shape {\\n        }\\n        int_val: 1\\n      }\\n    }\\n  }\\n}\\nnode {\\n  name: &quot;ArgMax&quot;\\n  op: &quot;ArgMax&quot;\\n  input: &quot;Softmax/Softmax_2&quot;\\n  input: &quot;ArgMax/dimension&quot;\\n  attr {\\n    key: &quot;T&quot;\\n    value {\\n      type: DT_FLOAT\\n    }\\n  }\\n  attr {\\n    key: &quot;Tidx&quot;\\n    value {\\n      type: DT_INT32\\n    }\\n  }\\n  attr {\\n    key: &quot;output_type&quot;\\n    value {\\n      type: DT_INT32\\n    }\\n  }\\n}\\nnode {\\n  name: &quot;Equal&quot;\\n  op: &quot;Equal&quot;\\n  input: &quot;Y&quot;\\n  input: &quot;ArgMax&quot;\\n  attr {\\n    key: &quot;T&quot;\\n    value {\\n      type: DT_INT32\\n    }\\n  }\\n}\\nnode {\\n  name: &quot;Cast&quot;\\n  op: &quot;Cast&quot;\\n  input: &quot;Equal&quot;\\n  attr {\\n    key: &quot;DstT&quot;\\n    value {\\n      type: DT_FLOAT\\n    }\\n  }\\n  attr {\\n    key: &quot;SrcT&quot;\\n    value {\\n      type: DT_BOOL\\n    }\\n  }\\n}\\nnode {\\n  name: &quot;Rank&quot;\\n  op: &quot;Rank&quot;\\n  input: &quot;Cast&quot;\\n  attr {\\n    key: &quot;T&quot;\\n    value {\\n      type: DT_FLOAT\\n    }\\n  }\\n}\\nnode {\\n  name: &quot;range/start&quot;\\n  op: &quot;Const&quot;\\n  attr {\\n    key: &quot;dtype&quot;\\n    value {\\n      type: DT_INT32\\n    }\\n  }\\n  attr {\\n    key: &quot;value&quot;\\n    value {\\n      tensor {\\n        dtype: DT_INT32\\n        tensor_shape {\\n        }\\n        int_val: 0\\n      }\\n    }\\n  }\\n}\\nnode {\\n  name: &quot;range/delta&quot;\\n  op: &quot;Const&quot;\\n  attr {\\n    key: &quot;dtype&quot;\\n    value {\\n      type: DT_INT32\\n    }\\n  }\\n  attr {\\n    key: &quot;value&quot;\\n    value {\\n      tensor {\\n        dtype: DT_INT32\\n        tensor_shape {\\n        }\\n        int_val: 1\\n      }\\n    }\\n  }\\n}\\nnode {\\n  name: &quot;range&quot;\\n  op: &quot;Range&quot;\\n  input: &quot;range/start&quot;\\n  input: &quot;Rank&quot;\\n  input: &quot;range/delta&quot;\\n  attr {\\n    key: &quot;Tidx&quot;\\n    value {\\n      type: DT_INT32\\n    }\\n  }\\n}\\nnode {\\n  name: &quot;Mean_1&quot;\\n  op: &quot;Mean&quot;\\n  input: &quot;Cast&quot;\\n  input: &quot;range&quot;\\n  attr {\\n    key: &quot;T&quot;\\n    value {\\n      type: DT_FLOAT\\n    }\\n  }\\n  attr {\\n    key: &quot;Tidx&quot;\\n    value {\\n      type: DT_INT32\\n    }\\n  }\\n  attr {\\n    key: &quot;keep_dims&quot;\\n    value {\\n      b: false\\n    }\\n  }\\n}\\nversions {\\n  producer: 24\\n}\\n';\n",
       "          }\n",
       "        </script>\n",
       "        <link rel=&quot;import&quot; href=&quot;https://tensorboard.appspot.com/tf-graph-basic.build.html&quot; onload=load()>\n",
       "        <div style=&quot;height:600px&quot;>\n",
       "          <tf-graph-basic id=&quot;graph0.3745401188473625&quot;></tf-graph-basic>\n",
       "        </div>\n",
       "    \"></iframe>\n",
       "    "
      ],
      "text/plain": [
       "<IPython.core.display.HTML object>"
      ]
     },
     "metadata": {},
     "output_type": "display_data"
    }
   ],
   "source": [
    "with tf.Session() as sess:\n",
    "    show_graph(tf.get_default_graph().as_graph_def())\n",
    "    # Initialize all variables\n",
    "    sess.run(tf.local_variables_initializer())\n",
    "    sess.run(tf.global_variables_initializer())\n",
    "    \n",
    "    sess.run(word2vec.assign(initW))# Assign the pretrain word2vec\n"
   ]
  },
  {
   "cell_type": "code",
   "execution_count": 32,
   "metadata": {
    "collapsed": true
   },
   "outputs": [],
   "source": [
    "# prepare the training batch\n",
    "train_data = tf.contrib.data.Dataset.from_tensor_slices((tweets_train, senti_train)).batch(batch_size).repeat()\n",
    "train_iterator = train_data.make_one_shot_iterator() # Create an iterator to go through the training data\n",
    "train_next_batch = train_iterator.get_next()"
   ]
  },
  {
   "cell_type": "code",
   "execution_count": 33,
   "metadata": {
    "scrolled": false
   },
   "outputs": [
    {
     "name": "stderr",
     "output_type": "stream",
     "text": [
      "/home/yenhao/Documents/chatbot/lib/python3.5/site-packages/sklearn/metrics/classification.py:1135: UndefinedMetricWarning: F-score is ill-defined and being set to 0.0 in labels with no predicted samples.\n",
      "  'precision', 'predicted', average, warn_for)\n"
     ]
    },
    {
     "name": "stdout",
     "output_type": "stream",
     "text": [
      "2017-11-16 11:47:22 -    1 epoch, loss:0.833, train accuracy:0.688, train f1 score:0.575, test f1 score:0.233\n",
      "2017-11-16 11:47:32 -   11 epoch, loss:1.061, train accuracy:0.484, train f1 score:0.430, test f1 score:0.572\n",
      "2017-11-16 11:47:41 -   21 epoch, loss:0.727, train accuracy:0.828, train f1 score:0.823, test f1 score:0.501\n",
      "2017-11-16 11:47:51 -   31 epoch, loss:0.692, train accuracy:0.859, train f1 score:0.863, test f1 score:0.587\n",
      "2017-11-16 11:48:00 -   41 epoch, loss:0.615, train accuracy:0.938, train f1 score:0.936, test f1 score:0.556\n",
      "2017-11-16 11:48:09 -   51 epoch, loss:0.693, train accuracy:0.859, train f1 score:0.836, test f1 score:0.559\n",
      "2017-11-16 11:48:18 -   61 epoch, loss:0.676, train accuracy:0.875, train f1 score:0.868, test f1 score:0.534\n",
      "2017-11-16 11:48:27 -   71 epoch, loss:0.661, train accuracy:0.891, train f1 score:0.888, test f1 score:0.521\n",
      "2017-11-16 11:48:36 -   81 epoch, loss:0.662, train accuracy:0.891, train f1 score:0.892, test f1 score:0.499\n",
      "2017-11-16 11:48:46 -   91 epoch, loss:0.630, train accuracy:0.922, train f1 score:0.919, test f1 score:0.562\n",
      "2017-11-16 11:48:55 -  101 epoch, loss:0.661, train accuracy:0.891, train f1 score:0.891, test f1 score:0.557\n",
      "2017-11-16 11:49:04 -  111 epoch, loss:0.676, train accuracy:0.875, train f1 score:0.864, test f1 score:0.560\n",
      "2017-11-16 11:49:13 -  121 epoch, loss:0.576, train accuracy:0.969, train f1 score:0.969, test f1 score:0.589\n",
      "2017-11-16 11:49:23 -  131 epoch, loss:0.692, train accuracy:0.859, train f1 score:0.859, test f1 score:0.593\n",
      "2017-11-16 11:49:32 -  141 epoch, loss:0.661, train accuracy:0.891, train f1 score:0.891, test f1 score:0.579\n",
      "2017-11-16 11:49:41 -  151 epoch, loss:0.645, train accuracy:0.906, train f1 score:0.906, test f1 score:0.571\n",
      "2017-11-16 11:49:50 -  161 epoch, loss:0.614, train accuracy:0.938, train f1 score:0.938, test f1 score:0.584\n",
      "2017-11-16 11:49:59 -  171 epoch, loss:0.645, train accuracy:0.906, train f1 score:0.904, test f1 score:0.594\n",
      "2017-11-16 11:50:09 -  181 epoch, loss:0.598, train accuracy:0.953, train f1 score:0.951, test f1 score:0.579\n",
      "2017-11-16 11:50:18 -  191 epoch, loss:0.624, train accuracy:0.922, train f1 score:0.922, test f1 score:0.581\n",
      "2017-11-16 11:50:27 -  201 epoch, loss:0.661, train accuracy:0.891, train f1 score:0.884, test f1 score:0.587\n",
      "2017-11-16 11:50:36 -  211 epoch, loss:0.630, train accuracy:0.922, train f1 score:0.919, test f1 score:0.587\n",
      "2017-11-16 11:50:45 -  221 epoch, loss:0.614, train accuracy:0.938, train f1 score:0.938, test f1 score:0.591\n",
      "2017-11-16 11:50:55 -  231 epoch, loss:0.630, train accuracy:0.922, train f1 score:0.922, test f1 score:0.579\n",
      "2017-11-16 11:51:04 -  241 epoch, loss:0.661, train accuracy:0.891, train f1 score:0.888, test f1 score:0.564\n",
      "2017-11-16 11:51:13 -  251 epoch, loss:0.693, train accuracy:0.859, train f1 score:0.852, test f1 score:0.564\n",
      "2017-11-16 11:51:22 -  261 epoch, loss:0.755, train accuracy:0.797, train f1 score:0.791, test f1 score:0.475\n",
      "2017-11-16 11:51:31 -  271 epoch, loss:0.676, train accuracy:0.875, train f1 score:0.876, test f1 score:0.534\n",
      "2017-11-16 11:51:41 -  281 epoch, loss:0.755, train accuracy:0.797, train f1 score:0.792, test f1 score:0.437\n",
      "2017-11-16 11:51:50 -  291 epoch, loss:0.848, train accuracy:0.703, train f1 score:0.707, test f1 score:0.542\n",
      "2017-11-16 11:51:59 -  301 epoch, loss:0.645, train accuracy:0.906, train f1 score:0.905, test f1 score:0.521\n",
      "2017-11-16 11:52:08 -  311 epoch, loss:0.630, train accuracy:0.922, train f1 score:0.926, test f1 score:0.515\n",
      "2017-11-16 11:52:18 -  321 epoch, loss:0.708, train accuracy:0.844, train f1 score:0.838, test f1 score:0.568\n",
      "2017-11-16 11:52:27 -  331 epoch, loss:0.692, train accuracy:0.859, train f1 score:0.858, test f1 score:0.557\n",
      "2017-11-16 11:52:36 -  341 epoch, loss:0.661, train accuracy:0.891, train f1 score:0.890, test f1 score:0.544\n",
      "2017-11-16 11:52:45 -  351 epoch, loss:0.708, train accuracy:0.844, train f1 score:0.838, test f1 score:0.526\n",
      "2017-11-16 11:52:54 -  361 epoch, loss:0.801, train accuracy:0.750, train f1 score:0.749, test f1 score:0.562\n",
      "2017-11-16 11:53:04 -  371 epoch, loss:0.723, train accuracy:0.828, train f1 score:0.823, test f1 score:0.580\n",
      "2017-11-16 11:53:13 -  381 epoch, loss:0.645, train accuracy:0.906, train f1 score:0.906, test f1 score:0.557\n",
      "2017-11-16 11:53:22 -  391 epoch, loss:0.676, train accuracy:0.875, train f1 score:0.875, test f1 score:0.547\n",
      "2017-11-16 11:53:31 -  401 epoch, loss:0.770, train accuracy:0.781, train f1 score:0.783, test f1 score:0.570\n",
      "2017-11-16 11:53:40 -  411 epoch, loss:0.676, train accuracy:0.875, train f1 score:0.867, test f1 score:0.561\n",
      "2017-11-16 11:53:50 -  421 epoch, loss:0.692, train accuracy:0.859, train f1 score:0.856, test f1 score:0.559\n",
      "2017-11-16 11:53:59 -  431 epoch, loss:0.645, train accuracy:0.906, train f1 score:0.906, test f1 score:0.581\n",
      "2017-11-16 11:54:08 -  441 epoch, loss:0.645, train accuracy:0.906, train f1 score:0.893, test f1 score:0.578\n",
      "2017-11-16 11:54:17 -  451 epoch, loss:0.661, train accuracy:0.891, train f1 score:0.890, test f1 score:0.567\n",
      "2017-11-16 11:54:27 -  461 epoch, loss:0.692, train accuracy:0.859, train f1 score:0.856, test f1 score:0.590\n",
      "2017-11-16 11:54:36 -  471 epoch, loss:0.614, train accuracy:0.938, train f1 score:0.937, test f1 score:0.536\n",
      "2017-11-16 11:54:45 -  481 epoch, loss:0.692, train accuracy:0.859, train f1 score:0.858, test f1 score:0.563\n",
      "2017-11-16 11:54:54 -  491 epoch, loss:0.598, train accuracy:0.953, train f1 score:0.952, test f1 score:0.588\n",
      "2017-11-16 11:55:03 -  501 epoch, loss:0.692, train accuracy:0.859, train f1 score:0.854, test f1 score:0.558\n",
      "2017-11-16 11:55:13 -  511 epoch, loss:0.708, train accuracy:0.844, train f1 score:0.845, test f1 score:0.515\n",
      "2017-11-16 11:55:22 -  521 epoch, loss:0.661, train accuracy:0.891, train f1 score:0.893, test f1 score:0.547\n",
      "2017-11-16 11:55:31 -  531 epoch, loss:0.661, train accuracy:0.891, train f1 score:0.891, test f1 score:0.537\n",
      "2017-11-16 11:55:40 -  541 epoch, loss:0.676, train accuracy:0.875, train f1 score:0.871, test f1 score:0.540\n",
      "2017-11-16 11:55:50 -  551 epoch, loss:0.645, train accuracy:0.906, train f1 score:0.907, test f1 score:0.532\n",
      "2017-11-16 11:55:59 -  561 epoch, loss:0.676, train accuracy:0.875, train f1 score:0.874, test f1 score:0.560\n",
      "2017-11-16 11:56:08 -  571 epoch, loss:0.692, train accuracy:0.859, train f1 score:0.862, test f1 score:0.561\n",
      "2017-11-16 11:56:17 -  581 epoch, loss:0.614, train accuracy:0.938, train f1 score:0.932, test f1 score:0.535\n",
      "2017-11-16 11:56:26 -  591 epoch, loss:0.598, train accuracy:0.953, train f1 score:0.953, test f1 score:0.547\n",
      "2017-11-16 11:56:36 -  601 epoch, loss:0.708, train accuracy:0.844, train f1 score:0.839, test f1 score:0.579\n",
      "2017-11-16 11:56:45 -  611 epoch, loss:0.708, train accuracy:0.844, train f1 score:0.836, test f1 score:0.550\n",
      "2017-11-16 11:56:54 -  621 epoch, loss:0.614, train accuracy:0.938, train f1 score:0.937, test f1 score:0.579\n",
      "2017-11-16 11:57:03 -  631 epoch, loss:0.645, train accuracy:0.906, train f1 score:0.908, test f1 score:0.541\n",
      "2017-11-16 11:57:13 -  641 epoch, loss:0.708, train accuracy:0.844, train f1 score:0.845, test f1 score:0.572\n",
      "2017-11-16 11:57:22 -  651 epoch, loss:0.614, train accuracy:0.938, train f1 score:0.938, test f1 score:0.548\n",
      "2017-11-16 11:57:31 -  661 epoch, loss:0.676, train accuracy:0.875, train f1 score:0.875, test f1 score:0.571\n",
      "2017-11-16 11:57:40 -  671 epoch, loss:0.708, train accuracy:0.844, train f1 score:0.845, test f1 score:0.513\n",
      "2017-11-16 11:57:49 -  681 epoch, loss:0.661, train accuracy:0.891, train f1 score:0.896, test f1 score:0.565\n",
      "2017-11-16 11:57:59 -  691 epoch, loss:0.676, train accuracy:0.875, train f1 score:0.880, test f1 score:0.574\n",
      "2017-11-16 11:58:08 -  701 epoch, loss:0.630, train accuracy:0.922, train f1 score:0.922, test f1 score:0.578\n",
      "2017-11-16 11:58:17 -  711 epoch, loss:0.614, train accuracy:0.938, train f1 score:0.935, test f1 score:0.574\n",
      "2017-11-16 11:58:26 -  721 epoch, loss:0.692, train accuracy:0.859, train f1 score:0.848, test f1 score:0.560\n",
      "2017-11-16 11:58:35 -  731 epoch, loss:0.645, train accuracy:0.906, train f1 score:0.907, test f1 score:0.584\n",
      "2017-11-16 11:58:45 -  741 epoch, loss:0.676, train accuracy:0.875, train f1 score:0.874, test f1 score:0.580\n"
     ]
    },
    {
     "name": "stdout",
     "output_type": "stream",
     "text": [
      "2017-11-16 11:58:54 -  751 epoch, loss:0.676, train accuracy:0.875, train f1 score:0.873, test f1 score:0.555\n",
      "2017-11-16 11:59:03 -  761 epoch, loss:0.676, train accuracy:0.875, train f1 score:0.872, test f1 score:0.525\n",
      "2017-11-16 11:59:12 -  771 epoch, loss:0.661, train accuracy:0.891, train f1 score:0.888, test f1 score:0.564\n",
      "2017-11-16 11:59:22 -  781 epoch, loss:0.661, train accuracy:0.891, train f1 score:0.889, test f1 score:0.527\n",
      "2017-11-16 11:59:31 -  791 epoch, loss:0.630, train accuracy:0.922, train f1 score:0.921, test f1 score:0.576\n",
      "2017-11-16 11:59:40 -  801 epoch, loss:0.661, train accuracy:0.891, train f1 score:0.888, test f1 score:0.522\n",
      "2017-11-16 11:59:49 -  811 epoch, loss:0.645, train accuracy:0.906, train f1 score:0.905, test f1 score:0.559\n",
      "2017-11-16 11:59:58 -  821 epoch, loss:0.614, train accuracy:0.938, train f1 score:0.935, test f1 score:0.574\n",
      "2017-11-16 12:00:08 -  831 epoch, loss:0.661, train accuracy:0.891, train f1 score:0.890, test f1 score:0.563\n",
      "2017-11-16 12:00:17 -  841 epoch, loss:0.692, train accuracy:0.859, train f1 score:0.854, test f1 score:0.529\n",
      "2017-11-16 12:00:26 -  851 epoch, loss:0.708, train accuracy:0.844, train f1 score:0.850, test f1 score:0.573\n",
      "2017-11-16 12:00:35 -  861 epoch, loss:0.755, train accuracy:0.797, train f1 score:0.802, test f1 score:0.540\n",
      "2017-11-16 12:00:45 -  871 epoch, loss:0.614, train accuracy:0.938, train f1 score:0.933, test f1 score:0.557\n",
      "2017-11-16 12:00:54 -  881 epoch, loss:0.645, train accuracy:0.906, train f1 score:0.906, test f1 score:0.537\n",
      "2017-11-16 12:01:03 -  891 epoch, loss:0.598, train accuracy:0.953, train f1 score:0.953, test f1 score:0.585\n",
      "2017-11-16 12:01:12 -  901 epoch, loss:0.614, train accuracy:0.938, train f1 score:0.937, test f1 score:0.549\n",
      "2017-11-16 12:01:21 -  911 epoch, loss:0.630, train accuracy:0.922, train f1 score:0.915, test f1 score:0.541\n",
      "2017-11-16 12:01:31 -  921 epoch, loss:0.661, train accuracy:0.891, train f1 score:0.890, test f1 score:0.572\n",
      "2017-11-16 12:01:40 -  931 epoch, loss:0.676, train accuracy:0.875, train f1 score:0.878, test f1 score:0.567\n",
      "2017-11-16 12:01:49 -  941 epoch, loss:0.598, train accuracy:0.953, train f1 score:0.953, test f1 score:0.564\n",
      "2017-11-16 12:01:58 -  951 epoch, loss:0.645, train accuracy:0.906, train f1 score:0.904, test f1 score:0.550\n",
      "2017-11-16 12:02:08 -  961 epoch, loss:0.692, train accuracy:0.859, train f1 score:0.866, test f1 score:0.548\n",
      "2017-11-16 12:02:17 -  971 epoch, loss:0.614, train accuracy:0.938, train f1 score:0.934, test f1 score:0.521\n",
      "2017-11-16 12:02:26 -  981 epoch, loss:0.676, train accuracy:0.875, train f1 score:0.875, test f1 score:0.548\n",
      "2017-11-16 12:02:35 -  991 epoch, loss:0.770, train accuracy:0.781, train f1 score:0.779, test f1 score:0.541\n",
      "2017-11-16 12:02:44 - 1001 epoch, loss:0.708, train accuracy:0.844, train f1 score:0.853, test f1 score:0.559\n",
      "2017-11-16 12:02:54 - 1011 epoch, loss:0.661, train accuracy:0.891, train f1 score:0.890, test f1 score:0.575\n",
      "2017-11-16 12:03:03 - 1021 epoch, loss:0.676, train accuracy:0.875, train f1 score:0.864, test f1 score:0.546\n",
      "2017-11-16 12:03:12 - 1031 epoch, loss:0.676, train accuracy:0.875, train f1 score:0.870, test f1 score:0.559\n",
      "2017-11-16 12:03:21 - 1041 epoch, loss:0.692, train accuracy:0.859, train f1 score:0.863, test f1 score:0.538\n",
      "2017-11-16 12:03:30 - 1051 epoch, loss:0.630, train accuracy:0.922, train f1 score:0.924, test f1 score:0.556\n",
      "2017-11-16 12:03:40 - 1061 epoch, loss:0.661, train accuracy:0.891, train f1 score:0.888, test f1 score:0.576\n",
      "2017-11-16 12:03:49 - 1071 epoch, loss:0.708, train accuracy:0.844, train f1 score:0.845, test f1 score:0.499\n",
      "2017-11-16 12:03:58 - 1081 epoch, loss:0.614, train accuracy:0.938, train f1 score:0.936, test f1 score:0.563\n",
      "2017-11-16 12:04:07 - 1091 epoch, loss:0.614, train accuracy:0.938, train f1 score:0.935, test f1 score:0.529\n",
      "2017-11-16 12:04:17 - 1101 epoch, loss:0.692, train accuracy:0.859, train f1 score:0.855, test f1 score:0.552\n",
      "2017-11-16 12:04:26 - 1111 epoch, loss:0.645, train accuracy:0.906, train f1 score:0.905, test f1 score:0.567\n",
      "2017-11-16 12:04:35 - 1121 epoch, loss:0.676, train accuracy:0.875, train f1 score:0.872, test f1 score:0.568\n",
      "2017-11-16 12:04:44 - 1131 epoch, loss:0.692, train accuracy:0.859, train f1 score:0.861, test f1 score:0.572\n",
      "2017-11-16 12:04:53 - 1141 epoch, loss:0.645, train accuracy:0.906, train f1 score:0.902, test f1 score:0.547\n",
      "2017-11-16 12:05:03 - 1151 epoch, loss:0.676, train accuracy:0.875, train f1 score:0.867, test f1 score:0.547\n",
      "2017-11-16 12:05:12 - 1161 epoch, loss:0.661, train accuracy:0.891, train f1 score:0.884, test f1 score:0.568\n",
      "2017-11-16 12:05:21 - 1171 epoch, loss:0.692, train accuracy:0.859, train f1 score:0.854, test f1 score:0.533\n",
      "2017-11-16 12:05:30 - 1181 epoch, loss:0.567, train accuracy:0.984, train f1 score:0.984, test f1 score:0.522\n",
      "2017-11-16 12:05:40 - 1191 epoch, loss:0.598, train accuracy:0.953, train f1 score:0.954, test f1 score:0.575\n",
      "2017-11-16 12:05:49 - 1201 epoch, loss:0.630, train accuracy:0.922, train f1 score:0.923, test f1 score:0.547\n",
      "2017-11-16 12:05:58 - 1211 epoch, loss:0.630, train accuracy:0.922, train f1 score:0.921, test f1 score:0.562\n"
     ]
    },
    {
     "name": "stderr",
     "output_type": "stream",
     "text": [
      "/home/yenhao/Documents/chatbot/lib/python3.5/site-packages/sklearn/metrics/classification.py:1137: UndefinedMetricWarning: F-score is ill-defined and being set to 0.0 in labels with no true samples.\n",
      "  'recall', 'true', average, warn_for)\n"
     ]
    },
    {
     "name": "stdout",
     "output_type": "stream",
     "text": [
      "2017-11-16 12:06:07 - 1221 epoch, loss:0.661, train accuracy:0.891, train f1 score:0.907, test f1 score:0.582\n",
      "2017-11-16 12:06:16 - 1231 epoch, loss:0.676, train accuracy:0.875, train f1 score:0.863, test f1 score:0.541\n",
      "2017-11-16 12:06:26 - 1241 epoch, loss:0.676, train accuracy:0.875, train f1 score:0.880, test f1 score:0.568\n",
      "2017-11-16 12:06:35 - 1251 epoch, loss:0.614, train accuracy:0.938, train f1 score:0.937, test f1 score:0.561\n",
      "2017-11-16 12:06:44 - 1261 epoch, loss:0.598, train accuracy:0.953, train f1 score:0.953, test f1 score:0.576\n",
      "2017-11-16 12:06:53 - 1271 epoch, loss:0.598, train accuracy:0.953, train f1 score:0.953, test f1 score:0.579\n",
      "2017-11-16 12:07:03 - 1281 epoch, loss:0.692, train accuracy:0.859, train f1 score:0.857, test f1 score:0.574\n",
      "2017-11-16 12:07:12 - 1291 epoch, loss:0.708, train accuracy:0.844, train f1 score:0.844, test f1 score:0.565\n",
      "2017-11-16 12:07:21 - 1301 epoch, loss:0.661, train accuracy:0.891, train f1 score:0.891, test f1 score:0.491\n",
      "2017-11-16 12:07:30 - 1311 epoch, loss:0.661, train accuracy:0.891, train f1 score:0.887, test f1 score:0.552\n",
      "2017-11-16 12:07:39 - 1321 epoch, loss:0.645, train accuracy:0.906, train f1 score:0.907, test f1 score:0.557\n",
      "2017-11-16 12:07:49 - 1331 epoch, loss:0.598, train accuracy:0.953, train f1 score:0.953, test f1 score:0.577\n",
      "2017-11-16 12:07:58 - 1341 epoch, loss:0.614, train accuracy:0.938, train f1 score:0.937, test f1 score:0.541\n",
      "2017-11-16 12:08:07 - 1351 epoch, loss:0.645, train accuracy:0.906, train f1 score:0.906, test f1 score:0.519\n",
      "2017-11-16 12:08:16 - 1361 epoch, loss:0.630, train accuracy:0.922, train f1 score:0.923, test f1 score:0.536\n",
      "2017-11-16 12:08:26 - 1371 epoch, loss:0.661, train accuracy:0.891, train f1 score:0.886, test f1 score:0.572\n",
      "2017-11-16 12:08:35 - 1381 epoch, loss:0.614, train accuracy:0.938, train f1 score:0.938, test f1 score:0.567\n",
      "2017-11-16 12:08:44 - 1391 epoch, loss:0.676, train accuracy:0.875, train f1 score:0.874, test f1 score:0.574\n",
      "2017-11-16 12:08:53 - 1401 epoch, loss:0.661, train accuracy:0.891, train f1 score:0.889, test f1 score:0.569\n",
      "2017-11-16 12:09:02 - 1411 epoch, loss:0.598, train accuracy:0.953, train f1 score:0.953, test f1 score:0.552\n",
      "2017-11-16 12:09:12 - 1421 epoch, loss:0.770, train accuracy:0.781, train f1 score:0.775, test f1 score:0.570\n",
      "2017-11-16 12:09:21 - 1431 epoch, loss:0.755, train accuracy:0.797, train f1 score:0.803, test f1 score:0.579\n",
      "2017-11-16 12:09:30 - 1441 epoch, loss:0.723, train accuracy:0.828, train f1 score:0.834, test f1 score:0.581\n",
      "2017-11-16 12:09:39 - 1451 epoch, loss:0.708, train accuracy:0.844, train f1 score:0.838, test f1 score:0.522\n",
      "2017-11-16 12:09:48 - 1461 epoch, loss:0.630, train accuracy:0.922, train f1 score:0.917, test f1 score:0.523\n",
      "2017-11-16 12:09:58 - 1471 epoch, loss:0.708, train accuracy:0.844, train f1 score:0.842, test f1 score:0.583\n",
      "2017-11-16 12:10:07 - 1481 epoch, loss:0.645, train accuracy:0.906, train f1 score:0.904, test f1 score:0.564\n",
      "2017-11-16 12:10:16 - 1491 epoch, loss:0.645, train accuracy:0.906, train f1 score:0.909, test f1 score:0.558\n",
      "2017-11-16 12:10:25 - 1501 epoch, loss:0.598, train accuracy:0.953, train f1 score:0.951, test f1 score:0.564\n",
      "2017-11-16 12:10:35 - 1511 epoch, loss:0.645, train accuracy:0.906, train f1 score:0.906, test f1 score:0.577\n",
      "2017-11-16 12:10:44 - 1521 epoch, loss:0.708, train accuracy:0.844, train f1 score:0.842, test f1 score:0.582\n",
      "2017-11-16 12:10:53 - 1531 epoch, loss:0.567, train accuracy:0.984, train f1 score:0.985, test f1 score:0.545\n",
      "2017-11-16 12:11:02 - 1541 epoch, loss:0.676, train accuracy:0.875, train f1 score:0.874, test f1 score:0.561\n",
      "2017-11-16 12:11:11 - 1551 epoch, loss:0.645, train accuracy:0.906, train f1 score:0.904, test f1 score:0.547\n",
      "2017-11-16 12:11:21 - 1561 epoch, loss:0.583, train accuracy:0.969, train f1 score:0.968, test f1 score:0.575\n",
      "2017-11-16 12:11:30 - 1571 epoch, loss:0.583, train accuracy:0.969, train f1 score:0.968, test f1 score:0.570\n",
      "2017-11-16 12:11:39 - 1581 epoch, loss:0.630, train accuracy:0.922, train f1 score:0.921, test f1 score:0.558\n",
      "2017-11-16 12:11:48 - 1591 epoch, loss:0.598, train accuracy:0.953, train f1 score:0.948, test f1 score:0.577\n",
      "2017-11-16 12:11:58 - 1601 epoch, loss:0.630, train accuracy:0.922, train f1 score:0.922, test f1 score:0.572\n",
      "2017-11-16 12:12:07 - 1611 epoch, loss:0.645, train accuracy:0.906, train f1 score:0.905, test f1 score:0.552\n",
      "2017-11-16 12:12:16 - 1621 epoch, loss:0.614, train accuracy:0.938, train f1 score:0.936, test f1 score:0.539\n",
      "2017-11-16 12:12:25 - 1631 epoch, loss:0.567, train accuracy:0.984, train f1 score:0.984, test f1 score:0.578\n",
      "2017-11-16 12:12:34 - 1641 epoch, loss:0.692, train accuracy:0.859, train f1 score:0.860, test f1 score:0.550\n",
      "2017-11-16 12:12:44 - 1651 epoch, loss:0.645, train accuracy:0.906, train f1 score:0.907, test f1 score:0.575\n",
      "2017-11-16 12:12:53 - 1661 epoch, loss:0.630, train accuracy:0.922, train f1 score:0.920, test f1 score:0.570\n",
      "2017-11-16 12:13:02 - 1671 epoch, loss:0.645, train accuracy:0.906, train f1 score:0.905, test f1 score:0.529\n",
      "2017-11-16 12:13:11 - 1681 epoch, loss:0.630, train accuracy:0.922, train f1 score:0.923, test f1 score:0.571\n",
      "2017-11-16 12:13:21 - 1691 epoch, loss:0.692, train accuracy:0.859, train f1 score:0.859, test f1 score:0.571\n",
      "2017-11-16 12:13:30 - 1701 epoch, loss:0.755, train accuracy:0.797, train f1 score:0.798, test f1 score:0.547\n",
      "2017-11-16 12:13:39 - 1711 epoch, loss:0.645, train accuracy:0.906, train f1 score:0.907, test f1 score:0.581\n",
      "2017-11-16 12:13:48 - 1721 epoch, loss:0.630, train accuracy:0.922, train f1 score:0.914, test f1 score:0.579\n",
      "2017-11-16 12:13:57 - 1731 epoch, loss:0.708, train accuracy:0.844, train f1 score:0.842, test f1 score:0.576\n",
      "2017-11-16 12:14:07 - 1741 epoch, loss:0.661, train accuracy:0.891, train f1 score:0.887, test f1 score:0.560\n",
      "2017-11-16 12:14:16 - 1751 epoch, loss:0.614, train accuracy:0.938, train f1 score:0.938, test f1 score:0.569\n",
      "2017-11-16 12:14:25 - 1761 epoch, loss:0.692, train accuracy:0.859, train f1 score:0.860, test f1 score:0.575\n",
      "2017-11-16 12:14:34 - 1771 epoch, loss:0.661, train accuracy:0.891, train f1 score:0.890, test f1 score:0.578\n",
      "2017-11-16 12:14:44 - 1781 epoch, loss:0.661, train accuracy:0.891, train f1 score:0.888, test f1 score:0.558\n",
      "2017-11-16 12:14:53 - 1791 epoch, loss:0.630, train accuracy:0.922, train f1 score:0.925, test f1 score:0.579\n",
      "2017-11-16 12:15:02 - 1801 epoch, loss:0.676, train accuracy:0.875, train f1 score:0.875, test f1 score:0.571\n",
      "2017-11-16 12:15:11 - 1811 epoch, loss:0.692, train accuracy:0.859, train f1 score:0.856, test f1 score:0.579\n",
      "2017-11-16 12:15:20 - 1821 epoch, loss:0.661, train accuracy:0.891, train f1 score:0.880, test f1 score:0.558\n",
      "2017-11-16 12:15:30 - 1831 epoch, loss:0.567, train accuracy:0.984, train f1 score:0.984, test f1 score:0.571\n",
      "2017-11-16 12:15:39 - 1841 epoch, loss:0.630, train accuracy:0.922, train f1 score:0.921, test f1 score:0.565\n",
      "2017-11-16 12:15:48 - 1851 epoch, loss:0.723, train accuracy:0.828, train f1 score:0.816, test f1 score:0.570\n",
      "2017-11-16 12:15:57 - 1861 epoch, loss:0.676, train accuracy:0.875, train f1 score:0.868, test f1 score:0.556\n",
      "2017-11-16 12:16:07 - 1871 epoch, loss:0.661, train accuracy:0.891, train f1 score:0.876, test f1 score:0.569\n",
      "2017-11-16 12:16:16 - 1881 epoch, loss:0.614, train accuracy:0.938, train f1 score:0.938, test f1 score:0.578\n",
      "2017-11-16 12:16:25 - 1891 epoch, loss:0.676, train accuracy:0.875, train f1 score:0.872, test f1 score:0.571\n",
      "2017-11-16 12:16:34 - 1901 epoch, loss:0.614, train accuracy:0.938, train f1 score:0.935, test f1 score:0.556\n",
      "2017-11-16 12:16:43 - 1911 epoch, loss:0.661, train accuracy:0.891, train f1 score:0.887, test f1 score:0.531\n",
      "2017-11-16 12:16:53 - 1921 epoch, loss:0.630, train accuracy:0.922, train f1 score:0.922, test f1 score:0.556\n",
      "2017-11-16 12:17:02 - 1931 epoch, loss:0.614, train accuracy:0.938, train f1 score:0.938, test f1 score:0.542\n",
      "2017-11-16 12:17:11 - 1941 epoch, loss:0.676, train accuracy:0.875, train f1 score:0.875, test f1 score:0.581\n",
      "2017-11-16 12:17:20 - 1951 epoch, loss:0.708, train accuracy:0.844, train f1 score:0.845, test f1 score:0.563\n",
      "2017-11-16 12:17:29 - 1961 epoch, loss:0.630, train accuracy:0.922, train f1 score:0.921, test f1 score:0.571\n"
     ]
    },
    {
     "name": "stdout",
     "output_type": "stream",
     "text": [
      "2017-11-16 12:17:39 - 1971 epoch, loss:0.645, train accuracy:0.906, train f1 score:0.906, test f1 score:0.566\n",
      "2017-11-16 12:17:48 - 1981 epoch, loss:0.645, train accuracy:0.906, train f1 score:0.907, test f1 score:0.541\n",
      "2017-11-16 12:17:57 - 1991 epoch, loss:0.614, train accuracy:0.938, train f1 score:0.932, test f1 score:0.558\n"
     ]
    }
   ],
   "source": [
    "round_of_epochs = int(tweets_train.shape[0]/batch_size)\n",
    "\n",
    "saver = tf.train.Saver() # to store the model\n",
    "\n",
    "with tf.Session() as sess:\n",
    "    # Initialize all variables\n",
    "    sess.run(tf.local_variables_initializer())\n",
    "    sess.run(tf.global_variables_initializer())\n",
    "    \n",
    "    sess.run(word2vec.assign(initW))# Assign the pretrain word2vec\n",
    "    \n",
    "    for epochs in range(epochs_num): # starting the training process and set the epochs_num\n",
    "        for _ in range(round_of_epochs):\n",
    "            train, label = sess.run(train_next_batch) # Get the mini-batch data sample\n",
    "            sess.run(train_step, feed_dict={X:train, y:label}) # Feed the features, labe, training_mode  to network to train\n",
    "        \n",
    "        if epochs % 10 ==0:\n",
    "            loss, pred, acc = sess.run([cross_entropy,predicted_class,accuracy], feed_dict={X:train, y:label})\n",
    "            print(\"{} - {:4d} epoch, loss:{:.3f}, train accuracy:{:.3f}, train f1 score:{:.3f}, test f1 score:{:.3f}\".format(\n",
    "                datetime.datetime.now().strftime(\"%Y-%m-%d %H:%M:%S\"),\n",
    "                epochs+1,\n",
    "                loss, \n",
    "                acc,\n",
    "#                 f1_score(label, pred, labels=[0,2], average='weighted'),\n",
    "                f1_score(label, pred, average='weighted'),\n",
    "#                 f1_score(y_test, sess.run(predicted_class, feed_dict={X:X_test, y:y_test}), labels=[0,2] , average='weighted'),\n",
    "                f1_score(senti_test, sess.run(predicted_class, feed_dict={X:tweets_test, y:senti_test}), average='weighted')\n",
    "                )\n",
    "            )\n",
    "\n",
    "    "
   ]
  },
  {
   "cell_type": "code",
   "execution_count": null,
   "metadata": {
    "collapsed": true
   },
   "outputs": [],
   "source": []
  }
 ],
 "metadata": {
  "kernelspec": {
   "display_name": "Python 3",
   "language": "python",
   "name": "python3"
  },
  "language_info": {
   "codemirror_mode": {
    "name": "ipython",
    "version": 3
   },
   "file_extension": ".py",
   "mimetype": "text/x-python",
   "name": "python",
   "nbconvert_exporter": "python",
   "pygments_lexer": "ipython3",
   "version": "3.5.2"
  }
 },
 "nbformat": 4,
 "nbformat_minor": 2
}
